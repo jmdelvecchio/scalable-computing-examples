{
 "cells": [
  {
   "cell_type": "code",
   "execution_count": 1,
   "metadata": {},
   "outputs": [
    {
     "data": {
      "text/plain": [
       "6"
      ]
     },
     "execution_count": 1,
     "metadata": {},
     "output_type": "execute_result"
    }
   ],
   "source": [
    "def double(x):\n",
    "    return 2*x;\n",
    "\n",
    "twotimes = double\n",
    "twotimes(3)"
   ]
  },
  {
   "cell_type": "code",
   "execution_count": null,
   "metadata": {},
   "outputs": [],
   "source": [
    "list(map(twotimes, [1,2,3]))"
   ]
  },
  {
   "cell_type": "code",
   "execution_count": null,
   "metadata": {},
   "outputs": [],
   "source": [
    "def some_function():\n",
    "    print(\"Ran some_function\")\n",
    "\n",
    "def wrapper(func_to_run):\n",
    "    print (\"Ran wrapper\")\n",
    "    func_to_run()\n",
    "    print(\"Done with wrapper\")\n",
    "\n",
    "wrapper(some_function)"
   ]
  },
  {
   "cell_type": "code",
   "execution_count": null,
   "metadata": {},
   "outputs": [],
   "source": [
    "def do_task():\n",
    "    x = 10\n",
    "\n",
    "x=5\n",
    "do_task()\n",
    "print(x)"
   ]
  },
  {
   "cell_type": "markdown",
   "metadata": {},
   "source": [
    "When you have a function, each function has its own namescape. do_task creates a new namespace, but do_task has its own copy. inside do_task x=10, but we exit the namespace when we print (x)\n",
    "\n",
    "variables within a function are local to that function. \n",
    "\n",
    "contrast with:"
   ]
  },
  {
   "cell_type": "code",
   "execution_count": 14,
   "metadata": {},
   "outputs": [
    {
     "name": "stdout",
     "output_type": "stream",
     "text": [
      "10\n"
     ]
    }
   ],
   "source": [
    "def do_task():\n",
    "    global x\n",
    "    # don't fucking do this\n",
    "    x= 10\n",
    "\n",
    "x=5\n",
    "do_task()\n",
    "print(x)"
   ]
  },
  {
   "cell_type": "code",
   "execution_count": 2,
   "metadata": {},
   "outputs": [
    {
     "name": "stdout",
     "output_type": "stream",
     "text": [
      "first:  10\n",
      "second:  5\n"
     ]
    }
   ],
   "source": [
    "def do_task():\n",
    "    x = 10\n",
    "    return x\n",
    "\n",
    "x = 5\n",
    "x = do_task()\n",
    "print('first: ',x)\n",
    "\n",
    "# versus!!!\n",
    "\n",
    "x = 5\n",
    "do_task()\n",
    "print('second: ', x)\n"
   ]
  },
  {
   "cell_type": "code",
   "execution_count": 12,
   "metadata": {},
   "outputs": [
    {
     "name": "stdout",
     "output_type": "stream",
     "text": [
      "012   HelloHelloHello\n",
      "\n",
      "\n",
      "012   worldworldworld\n",
      "\n",
      "\n"
     ]
    }
   ],
   "source": [
    "from concurrent.futures import ProcessPoolExecutor\n",
    "import time\n",
    "\n",
    "def hello(i):\n",
    "    print(i, 'Hello')\n",
    "    print(i, 'world')\n",
    "\n",
    "executor = ProcessPoolExecutor()\n",
    "futures = [executor.submit(hello, i) for i in range(3)]\n",
    "for future in futures:\n",
    "    future.result()"
   ]
  },
  {
   "cell_type": "code",
   "execution_count": 13,
   "metadata": {},
   "outputs": [
    {
     "name": "stdout",
     "output_type": "stream",
     "text": [
      "0 Hello\n",
      "0 world\n",
      "1 Hello\n",
      "1 world\n",
      "2 Hello\n",
      "2 world\n"
     ]
    }
   ],
   "source": [
    "from concurrent.futures import ProcessPoolExecutor\n",
    "import time\n",
    "import multiprocessing\n",
    "\n",
    "def hello(i, lock):\n",
    "    with lock:\n",
    "        print(i, 'Hello')\n",
    "        print(i, 'world')\n",
    "\n",
    "lock = multiprocessing.Manager().Lock()\n",
    "executor = ProcessPoolExecutor()\n",
    "futures = [executor.submit(hello, i, lock) for i in range(3)]\n",
    "for future in futures:\n",
    "    future.result()"
   ]
  },
  {
   "cell_type": "code",
   "execution_count": null,
   "metadata": {},
   "outputs": [],
   "source": []
  }
 ],
 "metadata": {
  "kernelspec": {
   "display_name": "Python 3.9.13 ('scomp')",
   "language": "python",
   "name": "python3"
  },
  "language_info": {
   "codemirror_mode": {
    "name": "ipython",
    "version": 3
   },
   "file_extension": ".py",
   "mimetype": "text/x-python",
   "name": "python",
   "nbconvert_exporter": "python",
   "pygments_lexer": "ipython3",
   "version": "3.9.13"
  },
  "orig_nbformat": 4,
  "vscode": {
   "interpreter": {
    "hash": "3bc86895b5d8569f33588bfbb1475393b4e3b52b49eb441663b259ecef6692f4"
   }
  }
 },
 "nbformat": 4,
 "nbformat_minor": 2
}
