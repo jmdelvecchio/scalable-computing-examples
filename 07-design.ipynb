def double(x):
    return 2*x

twotimes = double
twotimes(3)