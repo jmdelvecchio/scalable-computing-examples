{
 "cells": [
  {
   "cell_type": "markdown",
   "metadata": {},
   "source": [
    "## Exercise 1: An introductory lesson on using Google Earth Engine"
   ]
  },
  {
   "cell_type": "markdown",
   "metadata": {},
   "source": [
    "*The exercise below follows [**Chapter 15, Exercise 1**](https://learning.nceas.ucsb.edu/2022-09-arctic/sections/15-google-earth-engine.html#exercise-1-an-introductory-lesson-on-using-google-earth-engine) from the book, [Scalable and Computationally Reproducible Approaches to Arctic Research](https://learning.nceas.ucsb.edu/2022-09-arctic/). Code cells are intentially left blank so that participants may code along. Feel free to reference [the book](https://learning.nceas.ucsb.edu/2022-09-arctic/sections/15-google-earth-engine.html#exercise-1-an-introductory-lesson-on-using-google-earth-engine) to check your work against the example code provided.*"
   ]
  },
  {
   "cell_type": "markdown",
   "metadata": {},
   "source": [
    "### **Part i.** Setup"
   ]
  },
  {
   "cell_type": "markdown",
   "metadata": {},
   "source": [
    "1. Create a Google Earth Engine account (if you haven't already done so) -- refer back to the [Preface](https://learning.nceas.ucsb.edu/2022-09-arctic/#create-a-free-google-earth-engine-gee-account) for instructions on how to do so\n",
    "\n",
    "2. Load libraries"
   ]
  },
  {
   "cell_type": "code",
   "execution_count": null,
   "metadata": {},
   "outputs": [],
   "source": [
    "# import `ee` and `geemap` libraries\n"
   ]
  },
  {
   "cell_type": "markdown",
   "metadata": {},
   "source": [
    "3. Authenticate your GEE account\n",
    "\n",
    "- In order to begin using GEE, you’ll need to connect your environment (`scomp`) to the authentication credentials associated with your Google account. This will need to be done each time you connect to GEE, (but only be done once per session)."
   ]
  },
  {
   "cell_type": "code",
   "execution_count": null,
   "metadata": {},
   "outputs": [],
   "source": [
    "# authenticate"
   ]
  },
  {
   "cell_type": "markdown",
   "metadata": {},
   "source": [
    "This should launch a browser window where you can login with your Google account to the Google Earth Engine Authenticator. Following the prompts will generate a code, which you’ll then need to copy and paste into the VS Code command palette (at the top of the IDE). This will be saved as an authentication token so you won’t need to go through this process again until the next time you start a new session. The browser-based authentication steps will look something like this:\n",
    "\n",
    "- **Notebook Authenticator:** choose an active Google account and Cloud Project (you may have to create one if this is your first time authenticating) and click “Generate Token”  \n",
    "- **Choose an account:** if prompted, select the same Google account as above  \n",
    "- **Google hasn’t verified this app:** You may be temped to click the blue “Back to saftey” button, but don’t! Click “Continue”  \n",
    "- **Select what Earth Engine Notebook Client can access:** click both check boxes, then “Continue”  \n",
    "- **Copy your authorization code** to your clipboard to paste into the VS Code command palette"
   ]
  },
  {
   "cell_type": "markdown",
   "metadata": {},
   "source": [
    "4. Lastly, initialize. This verifies that valid credentials have been created and populates the Python client library with methods that the backend server supports."
   ]
  },
  {
   "cell_type": "code",
   "execution_count": null,
   "metadata": {},
   "outputs": [],
   "source": [
    "# intialize"
   ]
  },
  {
   "cell_type": "markdown",
   "metadata": {},
   "source": [
    "If successful, you're now ready to begin working with Google Earth Engine!"
   ]
  },
  {
   "cell_type": "markdown",
   "metadata": {},
   "source": [
    "### **Part ii.** Explore the ERA5 Daily Aggregates Data"
   ]
  },
  {
   "cell_type": "markdown",
   "metadata": {},
   "source": [
    "We’ll be using the ERA5 daily aggregates reanalysis dataset, produced by the [European Centre for Medium-Range Weather Forecasts](https://www.ecmwf.int/) (ECMWF), found [here](https://developers.google.com/earth-engine/datasets/catalog/ECMWF_ERA5_DAILY), which models atmospheric weather observations.\n",
    "\n",
    "Take a few moments to explore the metadata record for this dataset. You’ll notice that it includes a bunch of important information, including:\n",
    "\n",
    "- **Dataset Availability:** the date range\n",
    "- **Dataset Provider:** where the data come from\n",
    "- **Earth Engine Snippet:** a code snippet used for loading the dataset\n",
    "- **Description (tab):** get to know a bit about the data\n",
    "- **Bands (tab):** the variables present in the dataset; each band has its own name, data type, scale, mask and projection\n",
    "- **Image Properties:** metadata available for each image band\n",
    "- **Example Code:** a script to load and visualize ERA5 climate reanalysis parameters in Google Earth Engine (JavaScript)"
   ]
  },
  {
   "cell_type": "markdown",
   "metadata": {},
   "source": [
    "### **Part iii.** Visualize global precipitation using ERA5 Daily Aggregate data\n",
    "\n",
    "*Content for this section was adapted from Dr. Sam Stevenson’s [Visualizing global precipitation using Google Earth Engine](https://github.com/samanthastevenson/EDS220_Fall2021/blob/main/Week1_ERA5Maps_GEE.ipynb) lesson, given in her [EDS 220 course](https://samanthastevenson.github.io/EDS220_site/) in Fall 2021.*\n",
    "\n",
    "1. Create an interactive basemap\n",
    "\n",
    "- The default basemap is (you guessed it) Google Maps. Let's create an empty Google Map that you can manipulate just like you would in the typical Google Maps interface. Do this using the `Map` method from the `geemap` library. We’ll also center the map at a specified latitude and longitude (here, 40N, 100E), set a zoom level, and save our map as an object called `myMap`."
   ]
  },
  {
   "cell_type": "code",
   "execution_count": null,
   "metadata": {},
   "outputs": [],
   "source": [
    "# create a basemap called `myMap`"
   ]
  },
  {
   "cell_type": "markdown",
   "metadata": {},
   "source": [
    "2. Load the ERA5 Image Collection from GEE\n",
    "\n",
    "- Next, we need to tell GEE what data we want to layer on top of our basemap. The `ImageCollection` method extracts a set of individual images that satisfies some criterion that you pass to GEE through the `ee` package. This is stored as an **ImageCollection** object which can be filtered and processed in various ways. We can pass the `ImageCollction` method agruments to tell GEE which data we want to retrieve. Below, we retrieve all daily ERA5 data."
   ]
  },
  {
   "cell_type": "code",
   "execution_count": null,
   "metadata": {},
   "outputs": [],
   "source": [
    "# load ERA5 data and save as object called `weatherData`"
   ]
  },
  {
   "cell_type": "markdown",
   "metadata": {},
   "source": [
    "3. Select an image to plot\n",
    "\n",
    "- To plot a map over our Google Maps basemap, we need an *Image* rather than an *ImageCollection*. ERA5 contains many different climate variables – explore which variables the dataset contains under the [Bands](https://developers.google.com/earth-engine/datasets/catalog/ECMWF_ERA5_DAILY#bands) tab. We’ll use the `select` method to choose the parameter(s) we’re interested in from our `weatherData` object. Let’s select the `total_precipitation` band."
   ]
  },
  {
   "cell_type": "code",
   "execution_count": null,
   "metadata": {},
   "outputs": [],
   "source": [
    "# select desired bands (total_preciptation); save as object called `precip`"
   ]
  },
  {
   "cell_type": "markdown",
   "metadata": {},
   "source": [
    "- We can look at our `precip` object metadata using the `print` method to see that it’s still an *ImageCollection*."
   ]
  },
  {
   "cell_type": "code",
   "execution_count": null,
   "metadata": {},
   "outputs": [],
   "source": [
    "# print `precip`"
   ]
  },
  {
   "cell_type": "markdown",
   "metadata": {},
   "source": [
    "- Let’s say that we want to look at data for a particular time of interest – e.g. January 1, 2019 - December 31, 2019. We can apply the `filterDate` method to our selected `total_precipitation` parameter to filter for data from our chosen date range. We can also apply the `mean` method, which takes whatever precedes it and calculates the average. "
   ]
  },
  {
   "cell_type": "code",
   "execution_count": null,
   "metadata": {},
   "outputs": [],
   "source": [
    "# initial date of interest (inclusive)\n",
    "i_date = '2019-01-01'\n",
    "\n",
    "# final data of interest (exclusive)\n",
    "f_date = '2020-01-01'\n",
    "\n",
    "# select apporpriate bands (total_preciptation), dates, and calculate mean precipitation across that date range\n"
   ]
  },
  {
   "cell_type": "markdown",
   "metadata": {},
   "source": [
    "- Use the print method again to check out your new `precip` object – notice that it’s now an `ee.Image` (rather than `ee.ImageCollection`) and the start and end date values are as we specified."
   ]
  },
  {
   "cell_type": "code",
   "execution_count": null,
   "metadata": {},
   "outputs": [],
   "source": [
    "# print `precip` again"
   ]
  },
  {
   "cell_type": "markdown",
   "metadata": {},
   "source": [
    "4. Add the precipitation Image to the basemap\n",
    "\n",
    "- We can first use the `setCenter` method to tell the map where to center itself (here, we'll center it over Cook Inlet, Alaska). It takes the longitude and latitude as the first two arguments, followed by the zoom level."
   ]
  },
  {
   "cell_type": "code",
   "execution_count": null,
   "metadata": {},
   "outputs": [],
   "source": [
    "# center map over Cook Inlet, AK (lat = 60, lon = -151)"
   ]
  },
  {
   "cell_type": "markdown",
   "metadata": {},
   "source": [
    "- Next, set a color palette to use when plotting the data layer. The following is a palette specified for ERA5 precipitation data (scroll down to the example code, available on the [landing page for the ERA5 metadata](https://developers.google.com/earth-engine/datasets/catalog/ECMWF_ERA5_DAILY) in the Earth Engine Data Catelog). We can adjust the max value to change the range of pixel values to which the palette should be applied – this will make our colors stand out a bit more when we layer our precipitation data on our basemap, below."
   ]
  },
  {
   "cell_type": "code",
   "execution_count": null,
   "metadata": {},
   "outputs": [],
   "source": []
  },
  {
   "cell_type": "code",
   "execution_count": null,
   "metadata": {},
   "outputs": [],
   "source": [
    "# create a color palette for our precipitation map; save it as an object called `precip_palette`"
   ]
  },
  {
   "cell_type": "markdown",
   "metadata": {},
   "source": [
    "- Finally, plot our filtered data, precip, on top of our basemap using the `addLayer` method. We’ll also pass it our visualization parameters (colors and ranges stored in `precip_palette`, the name of the data field, `total precipitation`, and opacity (so that we can see the basemap underneath)."
   ]
  },
  {
   "cell_type": "code",
   "execution_count": null,
   "metadata": {},
   "outputs": [],
   "source": [
    "# add precipitation data to our basemap centered over Cook Inlet, AK"
   ]
  }
 ],
 "metadata": {
  "kernelspec": {
   "display_name": "Python 3.10.4 64-bit",
   "language": "python",
   "name": "python3"
  },
  "language_info": {
   "codemirror_mode": {
    "name": "ipython",
    "version": 3
   },
   "file_extension": ".py",
   "mimetype": "text/x-python",
   "name": "python",
   "nbconvert_exporter": "python",
   "pygments_lexer": "ipython3",
   "version": "3.10.4"
  },
  "orig_nbformat": 4,
  "vscode": {
   "interpreter": {
    "hash": "31f2aee4e71d21fbe5cf8b01ff0e069b9275f58929596ceb00d14d90e3e16cd6"
   }
  }
 },
 "nbformat": 4,
 "nbformat_minor": 2
}
