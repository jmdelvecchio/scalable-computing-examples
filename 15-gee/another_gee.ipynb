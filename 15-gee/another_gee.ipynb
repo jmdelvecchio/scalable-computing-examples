{
 "cells": [
  {
   "cell_type": "code",
   "execution_count": 1,
   "metadata": {},
   "outputs": [],
   "source": [
    "import ee \n",
    "import geemap\n",
    "import eemont\n",
    "import pandas as pd\n",
    "import numpy as np\n",
    "import seaborn as sns\n",
    "import matplotlib.pyplot as plt"
   ]
  },
  {
   "cell_type": "code",
   "execution_count": 2,
   "metadata": {},
   "outputs": [
    {
     "data": {
      "text/html": [
       "<p>To authorize access needed by Earth Engine, open the following\n",
       "        URL in a web browser and follow the instructions:</p>\n",
       "        <p><a href=https://code.earthengine.google.com/client-auth?scopes=https%3A//www.googleapis.com/auth/earthengine%20https%3A//www.googleapis.com/auth/devstorage.full_control&request_id=1r5SN4RSIdm82ADmi_sW1dlbwRzQE5UORz5l4_IUQEk&tc=myVG8U4dZBgL7LtUgop668O3Wfte47kBReNUfzh-jLs&cc=8XQPi5hluJBxxO2SLVMiBIU0nnlK-M8aEVBFXwZp19I>https://code.earthengine.google.com/client-auth?scopes=https%3A//www.googleapis.com/auth/earthengine%20https%3A//www.googleapis.com/auth/devstorage.full_control&request_id=1r5SN4RSIdm82ADmi_sW1dlbwRzQE5UORz5l4_IUQEk&tc=myVG8U4dZBgL7LtUgop668O3Wfte47kBReNUfzh-jLs&cc=8XQPi5hluJBxxO2SLVMiBIU0nnlK-M8aEVBFXwZp19I</a></p>\n",
       "        <p>The authorization workflow will generate a code, which you should paste in the box below.</p>\n",
       "        "
      ],
      "text/plain": [
       "<IPython.core.display.HTML object>"
      ]
     },
     "metadata": {},
     "output_type": "display_data"
    },
    {
     "name": "stdout",
     "output_type": "stream",
     "text": [
      "\n",
      "Successfully saved authorization token.\n"
     ]
    }
   ],
   "source": [
    "ee.Authenticate()\n",
    "ee.Initialize() "
   ]
  },
  {
   "cell_type": "code",
   "execution_count": 3,
   "metadata": {},
   "outputs": [
    {
     "data": {
      "application/vnd.jupyter.widget-view+json": {
       "model_id": "af3713206da241fe8000056be8a87a9b",
       "version_major": 2,
       "version_minor": 0
      },
      "text/plain": [
       "Map(center=[67.66, 134.6], controls=(WidgetControl(options=['position', 'transparent_bg'], widget=HBox(childre…"
      ]
     },
     "metadata": {},
     "output_type": "display_data"
    }
   ],
   "source": [
    "# site coordinates\n",
    "xy = [134.6, 67.66]\n",
    "poi = ee.Geometry.Point(xy)\n",
    "# create map\n",
    "Map = geemap.Map()\n",
    "Map.addLayer(poi)\n",
    "Map.centerObject(poi, zoom=3)\n",
    "Map"
   ]
  },
  {
   "cell_type": "code",
   "execution_count": 19,
   "metadata": {},
   "outputs": [
    {
     "ename": "Exception",
     "evalue": "[p] and [c] must be positive! Values passed: p = False, c = 1.0",
     "output_type": "error",
     "traceback": [
      "\u001b[0;31m---------------------------------------------------------------------------\u001b[0m",
      "\u001b[0;31mException\u001b[0m                                 Traceback (most recent call last)",
      "Cell \u001b[0;32mIn [19], line 12\u001b[0m\n\u001b[1;32m      1\u001b[0m point \u001b[38;5;241m=\u001b[39m ee\u001b[38;5;241m.\u001b[39mGeometry\u001b[38;5;241m.\u001b[39mPointFromQuery(\n\u001b[1;32m      2\u001b[0m     \u001b[38;5;124m'\u001b[39m\u001b[38;5;124mCali, Colombia\u001b[39m\u001b[38;5;124m'\u001b[39m,\n\u001b[1;32m      3\u001b[0m     user_agent \u001b[38;5;241m=\u001b[39m \u001b[38;5;124m'\u001b[39m\u001b[38;5;124meemont-example\u001b[39m\u001b[38;5;124m'\u001b[39m\n\u001b[1;32m      4\u001b[0m ) \u001b[38;5;66;03m# Extended constructor\u001b[39;00m\n\u001b[1;32m      5\u001b[0m S2 \u001b[38;5;241m=\u001b[39m (ee\u001b[38;5;241m.\u001b[39mImageCollection(\u001b[38;5;124m\"\u001b[39m\u001b[38;5;124mCOPERNICUS/S2_SR\u001b[39m\u001b[38;5;124m\"\u001b[39m)\n\u001b[1;32m      6\u001b[0m         \u001b[38;5;241m.\u001b[39mfilterBounds(point)\n\u001b[1;32m      7\u001b[0m         \u001b[38;5;241m.\u001b[39mfilterDate(\u001b[38;5;124m\"\u001b[39m\u001b[38;5;124m2020-01-01\u001b[39m\u001b[38;5;124m\"\u001b[39m,\u001b[38;5;124m\"\u001b[39m\u001b[38;5;124m2021-01-01\u001b[39m\u001b[38;5;124m\"\u001b[39m)\n\u001b[0;32m   (...)\u001b[0m\n\u001b[1;32m     10\u001b[0m         \u001b[38;5;241m.\u001b[39mscaleAndOffset()\n\u001b[1;32m     11\u001b[0m         )\n\u001b[0;32m---> 12\u001b[0m S2online \u001b[38;5;241m=\u001b[39m \u001b[43mS2\u001b[49m\u001b[38;5;241;43m.\u001b[39;49m\u001b[43mspectralIndices\u001b[49m\u001b[43m(\u001b[49m\u001b[43m[\u001b[49m\u001b[38;5;124;43m\"\u001b[39;49m\u001b[38;5;124;43mNDVI\u001b[39;49m\u001b[38;5;124;43m\"\u001b[39;49m\u001b[43m,\u001b[49m\u001b[38;5;124;43m\"\u001b[39;49m\u001b[38;5;124;43mkNDVI\u001b[39;49m\u001b[38;5;124;43m\"\u001b[39;49m\u001b[43m,\u001b[49m\u001b[38;5;124;43m\"\u001b[39;49m\u001b[38;5;124;43mNDWI\u001b[39;49m\u001b[38;5;124;43m\"\u001b[39;49m\u001b[43m,\u001b[49m\u001b[38;5;124;43m\"\u001b[39;49m\u001b[38;5;124;43mSeLI\u001b[39;49m\u001b[38;5;124;43m\"\u001b[39;49m\u001b[43m]\u001b[49m\u001b[43m,\u001b[49m\u001b[43monline\u001b[49m\u001b[43m \u001b[49m\u001b[38;5;241;43m=\u001b[39;49m\u001b[43m \u001b[49m\u001b[38;5;28;43;01mTrue\u001b[39;49;00m\u001b[43m)\u001b[49m\u001b[38;5;241m.\u001b[39mmedian()\n",
      "File \u001b[0;32m~/.virtualenvs/scomp/lib/python3.9/site-packages/eemont/imagecollection.py:607\u001b[0m, in \u001b[0;36mspectralIndices\u001b[0;34m(self, index, G, C1, C2, L, cexp, nexp, alpha, slope, intercept, gamma, kernel, sigma, p, c, online, drop)\u001b[0m\n\u001b[1;32m    479\u001b[0m \u001b[39m@extend\u001b[39m(ee\u001b[39m.\u001b[39mimagecollection\u001b[39m.\u001b[39mImageCollection)\n\u001b[1;32m    480\u001b[0m \u001b[39mdef\u001b[39;00m \u001b[39mspectralIndices\u001b[39m(\n\u001b[1;32m    481\u001b[0m     \u001b[39mself\u001b[39m,\n\u001b[0;32m   (...)\u001b[0m\n\u001b[1;32m    498\u001b[0m     drop\u001b[39m=\u001b[39m\u001b[39mFalse\u001b[39;00m,\n\u001b[1;32m    499\u001b[0m ):\n\u001b[1;32m    500\u001b[0m     \u001b[39m\"\"\"Computes one or more spectral indices (indices are added as bands) for an image\u001b[39;00m\n\u001b[1;32m    501\u001b[0m \u001b[39m    collection from the Awesome List of Spectral Indices.\u001b[39;00m\n\u001b[1;32m    502\u001b[0m \n\u001b[0;32m   (...)\u001b[0m\n\u001b[1;32m    605\u001b[0m \u001b[39m    >>> S2.spectralIndices('all')\u001b[39;00m\n\u001b[1;32m    606\u001b[0m \u001b[39m    \"\"\"\u001b[39;00m\n\u001b[0;32m--> 607\u001b[0m     \u001b[39mreturn\u001b[39;00m ee_extra\u001b[39m.\u001b[39;49mSpectral\u001b[39m.\u001b[39;49mcore\u001b[39m.\u001b[39;49mspectralIndices(\n\u001b[1;32m    608\u001b[0m         \u001b[39mself\u001b[39;49m,\n\u001b[1;32m    609\u001b[0m         index,\n\u001b[1;32m    610\u001b[0m         G,\n\u001b[1;32m    611\u001b[0m         C1,\n\u001b[1;32m    612\u001b[0m         C2,\n\u001b[1;32m    613\u001b[0m         L,\n\u001b[1;32m    614\u001b[0m         cexp,\n\u001b[1;32m    615\u001b[0m         nexp,\n\u001b[1;32m    616\u001b[0m         alpha,\n\u001b[1;32m    617\u001b[0m         slope,\n\u001b[1;32m    618\u001b[0m         intercept,\n\u001b[1;32m    619\u001b[0m         gamma,\n\u001b[1;32m    620\u001b[0m         kernel,\n\u001b[1;32m    621\u001b[0m         sigma,\n\u001b[1;32m    622\u001b[0m         p,\n\u001b[1;32m    623\u001b[0m         c,\n\u001b[1;32m    624\u001b[0m         online,\n\u001b[1;32m    625\u001b[0m         drop,\n\u001b[1;32m    626\u001b[0m     )\n",
      "File \u001b[0;32m~/.virtualenvs/scomp/lib/python3.9/site-packages/ee_extra/Spectral/core.py:100\u001b[0m, in \u001b[0;36mspectralIndices\u001b[0;34m(x, index, G, C1, C2, L, cexp, nexp, alpha, slope, intercept, gamma, omega, beta, k, kernel, sigma, p, c, lambdaN, lambdaR, lambdaG, online, drop)\u001b[0m\n\u001b[1;32m     97\u001b[0m         \u001b[39mraise\u001b[39;00m \u001b[39mException\u001b[39;00m(\u001b[39mf\u001b[39m\u001b[39m\"\u001b[39m\u001b[39m[sigma] must be positive! Value passed: sigma = \u001b[39m\u001b[39m{\u001b[39;00msigma\u001b[39m}\u001b[39;00m\u001b[39m\"\u001b[39m)\n\u001b[1;32m     99\u001b[0m \u001b[39mif\u001b[39;00m p \u001b[39m<\u001b[39m\u001b[39m=\u001b[39m \u001b[39m0\u001b[39m \u001b[39mor\u001b[39;00m c \u001b[39m<\u001b[39m \u001b[39m0\u001b[39m:\n\u001b[0;32m--> 100\u001b[0m     \u001b[39mraise\u001b[39;00m \u001b[39mException\u001b[39;00m(\n\u001b[1;32m    101\u001b[0m         \u001b[39mf\u001b[39m\u001b[39m\"\u001b[39m\u001b[39m[p] and [c] must be positive! Values passed: p = \u001b[39m\u001b[39m{\u001b[39;00mp\u001b[39m}\u001b[39;00m\u001b[39m, c = \u001b[39m\u001b[39m{\u001b[39;00mc\u001b[39m}\u001b[39;00m\u001b[39m\"\u001b[39m\n\u001b[1;32m    102\u001b[0m     )\n\u001b[1;32m    104\u001b[0m additionalParameters \u001b[39m=\u001b[39m {\n\u001b[1;32m    105\u001b[0m     \u001b[39m\"\u001b[39m\u001b[39mg\u001b[39m\u001b[39m\"\u001b[39m: \u001b[39mfloat\u001b[39m(G),\n\u001b[1;32m    106\u001b[0m     \u001b[39m\"\u001b[39m\u001b[39mC1\u001b[39m\u001b[39m\"\u001b[39m: \u001b[39mfloat\u001b[39m(C1),\n\u001b[0;32m   (...)\u001b[0m\n\u001b[1;32m    122\u001b[0m     \u001b[39m\"\u001b[39m\u001b[39mlambdaG\u001b[39m\u001b[39m\"\u001b[39m: \u001b[39mfloat\u001b[39m(lambdaG),\n\u001b[1;32m    123\u001b[0m }\n\u001b[1;32m    125\u001b[0m spectralIndices \u001b[39m=\u001b[39m _get_indices(online)\n",
      "\u001b[0;31mException\u001b[0m: [p] and [c] must be positive! Values passed: p = False, c = 1.0"
     ]
    }
   ],
   "source": [
    "point = ee.Geometry.PointFromQuery(\n",
    "    'Cali, Colombia',\n",
    "    user_agent = 'eemont-example'\n",
    ") # Extended constructor\n",
    "S2 = (ee.ImageCollection(\"COPERNICUS/S2_SR\")\n",
    "        .filterBounds(point)\n",
    "        .filterDate(\"2020-01-01\",\"2021-01-01\")\n",
    "        .preprocess()\n",
    "        .maskClouds()\n",
    "        .scaleAndOffset()\n",
    "        )\n",
    "S2online = S2.spectralIndices([\"NDVI\",\"kNDVI\",\"NDWI\",\"SeLI\"],online = True).median()"
   ]
  },
  {
   "cell_type": "code",
   "execution_count": 16,
   "metadata": {},
   "outputs": [
    {
     "ename": "Exception",
     "evalue": "[p] and [c] must be positive! Values passed: p = False, c = 1.0",
     "output_type": "error",
     "traceback": [
      "\u001b[0;31m---------------------------------------------------------------------------\u001b[0m",
      "\u001b[0;31mException\u001b[0m                                 Traceback (most recent call last)",
      "Cell \u001b[0;32mIn [16], line 5\u001b[0m\n\u001b[1;32m      1\u001b[0m point \u001b[38;5;241m=\u001b[39m ee\u001b[38;5;241m.\u001b[39mGeometry\u001b[38;5;241m.\u001b[39mPointFromQuery(\n\u001b[1;32m      2\u001b[0m     \u001b[38;5;124m'\u001b[39m\u001b[38;5;124mCali, Colombia\u001b[39m\u001b[38;5;124m'\u001b[39m,\n\u001b[1;32m      3\u001b[0m     user_agent \u001b[38;5;241m=\u001b[39m \u001b[38;5;124m'\u001b[39m\u001b[38;5;124meemont-example\u001b[39m\u001b[38;5;124m'\u001b[39m\n\u001b[1;32m      4\u001b[0m ) \u001b[38;5;66;03m# Extended constructor\u001b[39;00m\n\u001b[0;32m----> 5\u001b[0m S2 \u001b[38;5;241m=\u001b[39m (\u001b[43mee\u001b[49m\u001b[38;5;241;43m.\u001b[39;49m\u001b[43mImageCollection\u001b[49m\u001b[43m(\u001b[49m\u001b[38;5;124;43m'\u001b[39;49m\u001b[38;5;124;43mCOPERNICUS/S2_SR\u001b[39;49m\u001b[38;5;124;43m'\u001b[39;49m\u001b[43m)\u001b[49m\n\u001b[1;32m      6\u001b[0m \u001b[43m    \u001b[49m\u001b[38;5;241;43m.\u001b[39;49m\u001b[43mfilterBounds\u001b[49m\u001b[43m(\u001b[49m\u001b[43mpoint\u001b[49m\u001b[43m)\u001b[49m\n\u001b[1;32m      7\u001b[0m \u001b[43m    \u001b[49m\u001b[38;5;241;43m.\u001b[39;49m\u001b[43mclosest\u001b[49m\u001b[43m(\u001b[49m\u001b[38;5;124;43m'\u001b[39;49m\u001b[38;5;124;43m2020-10-15\u001b[39;49m\u001b[38;5;124;43m'\u001b[39;49m\u001b[43m)\u001b[49m\u001b[43m \u001b[49m\u001b[38;5;66;43;03m# Extended (pre-processing)\u001b[39;49;00m\n\u001b[1;32m      8\u001b[0m \u001b[43m    \u001b[49m\u001b[38;5;241;43m.\u001b[39;49m\u001b[43mmaskClouds\u001b[49m\u001b[43m(\u001b[49m\u001b[43mprob\u001b[49m\u001b[43m \u001b[49m\u001b[38;5;241;43m=\u001b[39;49m\u001b[43m \u001b[49m\u001b[38;5;241;43m70\u001b[39;49m\u001b[43m)\u001b[49m\u001b[43m \u001b[49m\u001b[38;5;66;43;03m# Extended (pre-processing)\u001b[39;49;00m\n\u001b[1;32m      9\u001b[0m \u001b[43m    \u001b[49m\u001b[38;5;241;43m.\u001b[39;49m\u001b[43mscaleAndOffset\u001b[49m\u001b[43m(\u001b[49m\u001b[43m)\u001b[49m\u001b[43m \u001b[49m\u001b[38;5;66;43;03m# Extended (pre-processing)\u001b[39;49;00m\n\u001b[1;32m     10\u001b[0m \u001b[43m    \u001b[49m\u001b[38;5;241;43m.\u001b[39;49m\u001b[43mspectralIndices\u001b[49m\u001b[43m(\u001b[49m\u001b[43m[\u001b[49m\u001b[38;5;124;43m'\u001b[39;49m\u001b[38;5;124;43mNDVI\u001b[39;49m\u001b[38;5;124;43m'\u001b[39;49m\u001b[43m,\u001b[49m\u001b[38;5;124;43m'\u001b[39;49m\u001b[38;5;124;43mNDWI\u001b[39;49m\u001b[38;5;124;43m'\u001b[39;49m\u001b[43m,\u001b[49m\u001b[38;5;124;43m'\u001b[39;49m\u001b[38;5;124;43mBAIS2\u001b[39;49m\u001b[38;5;124;43m'\u001b[39;49m\u001b[43m]\u001b[49m\u001b[43m)\u001b[49m)\n",
      "File \u001b[0;32m~/.virtualenvs/scomp/lib/python3.9/site-packages/eemont/imagecollection.py:607\u001b[0m, in \u001b[0;36mspectralIndices\u001b[0;34m(self, index, G, C1, C2, L, cexp, nexp, alpha, slope, intercept, gamma, kernel, sigma, p, c, online, drop)\u001b[0m\n\u001b[1;32m    479\u001b[0m \u001b[39m@extend\u001b[39m(ee\u001b[39m.\u001b[39mimagecollection\u001b[39m.\u001b[39mImageCollection)\n\u001b[1;32m    480\u001b[0m \u001b[39mdef\u001b[39;00m \u001b[39mspectralIndices\u001b[39m(\n\u001b[1;32m    481\u001b[0m     \u001b[39mself\u001b[39m,\n\u001b[0;32m   (...)\u001b[0m\n\u001b[1;32m    498\u001b[0m     drop\u001b[39m=\u001b[39m\u001b[39mFalse\u001b[39;00m,\n\u001b[1;32m    499\u001b[0m ):\n\u001b[1;32m    500\u001b[0m     \u001b[39m\"\"\"Computes one or more spectral indices (indices are added as bands) for an image\u001b[39;00m\n\u001b[1;32m    501\u001b[0m \u001b[39m    collection from the Awesome List of Spectral Indices.\u001b[39;00m\n\u001b[1;32m    502\u001b[0m \n\u001b[0;32m   (...)\u001b[0m\n\u001b[1;32m    605\u001b[0m \u001b[39m    >>> S2.spectralIndices('all')\u001b[39;00m\n\u001b[1;32m    606\u001b[0m \u001b[39m    \"\"\"\u001b[39;00m\n\u001b[0;32m--> 607\u001b[0m     \u001b[39mreturn\u001b[39;00m ee_extra\u001b[39m.\u001b[39;49mSpectral\u001b[39m.\u001b[39;49mcore\u001b[39m.\u001b[39;49mspectralIndices(\n\u001b[1;32m    608\u001b[0m         \u001b[39mself\u001b[39;49m,\n\u001b[1;32m    609\u001b[0m         index,\n\u001b[1;32m    610\u001b[0m         G,\n\u001b[1;32m    611\u001b[0m         C1,\n\u001b[1;32m    612\u001b[0m         C2,\n\u001b[1;32m    613\u001b[0m         L,\n\u001b[1;32m    614\u001b[0m         cexp,\n\u001b[1;32m    615\u001b[0m         nexp,\n\u001b[1;32m    616\u001b[0m         alpha,\n\u001b[1;32m    617\u001b[0m         slope,\n\u001b[1;32m    618\u001b[0m         intercept,\n\u001b[1;32m    619\u001b[0m         gamma,\n\u001b[1;32m    620\u001b[0m         kernel,\n\u001b[1;32m    621\u001b[0m         sigma,\n\u001b[1;32m    622\u001b[0m         p,\n\u001b[1;32m    623\u001b[0m         c,\n\u001b[1;32m    624\u001b[0m         online,\n\u001b[1;32m    625\u001b[0m         drop,\n\u001b[1;32m    626\u001b[0m     )\n",
      "File \u001b[0;32m~/.virtualenvs/scomp/lib/python3.9/site-packages/ee_extra/Spectral/core.py:100\u001b[0m, in \u001b[0;36mspectralIndices\u001b[0;34m(x, index, G, C1, C2, L, cexp, nexp, alpha, slope, intercept, gamma, omega, beta, k, kernel, sigma, p, c, lambdaN, lambdaR, lambdaG, online, drop)\u001b[0m\n\u001b[1;32m     97\u001b[0m         \u001b[39mraise\u001b[39;00m \u001b[39mException\u001b[39;00m(\u001b[39mf\u001b[39m\u001b[39m\"\u001b[39m\u001b[39m[sigma] must be positive! Value passed: sigma = \u001b[39m\u001b[39m{\u001b[39;00msigma\u001b[39m}\u001b[39;00m\u001b[39m\"\u001b[39m)\n\u001b[1;32m     99\u001b[0m \u001b[39mif\u001b[39;00m p \u001b[39m<\u001b[39m\u001b[39m=\u001b[39m \u001b[39m0\u001b[39m \u001b[39mor\u001b[39;00m c \u001b[39m<\u001b[39m \u001b[39m0\u001b[39m:\n\u001b[0;32m--> 100\u001b[0m     \u001b[39mraise\u001b[39;00m \u001b[39mException\u001b[39;00m(\n\u001b[1;32m    101\u001b[0m         \u001b[39mf\u001b[39m\u001b[39m\"\u001b[39m\u001b[39m[p] and [c] must be positive! Values passed: p = \u001b[39m\u001b[39m{\u001b[39;00mp\u001b[39m}\u001b[39;00m\u001b[39m, c = \u001b[39m\u001b[39m{\u001b[39;00mc\u001b[39m}\u001b[39;00m\u001b[39m\"\u001b[39m\n\u001b[1;32m    102\u001b[0m     )\n\u001b[1;32m    104\u001b[0m additionalParameters \u001b[39m=\u001b[39m {\n\u001b[1;32m    105\u001b[0m     \u001b[39m\"\u001b[39m\u001b[39mg\u001b[39m\u001b[39m\"\u001b[39m: \u001b[39mfloat\u001b[39m(G),\n\u001b[1;32m    106\u001b[0m     \u001b[39m\"\u001b[39m\u001b[39mC1\u001b[39m\u001b[39m\"\u001b[39m: \u001b[39mfloat\u001b[39m(C1),\n\u001b[0;32m   (...)\u001b[0m\n\u001b[1;32m    122\u001b[0m     \u001b[39m\"\u001b[39m\u001b[39mlambdaG\u001b[39m\u001b[39m\"\u001b[39m: \u001b[39mfloat\u001b[39m(lambdaG),\n\u001b[1;32m    123\u001b[0m }\n\u001b[1;32m    125\u001b[0m spectralIndices \u001b[39m=\u001b[39m _get_indices(online)\n",
      "\u001b[0;31mException\u001b[0m: [p] and [c] must be positive! Values passed: p = False, c = 1.0"
     ]
    }
   ],
   "source": [
    "point = ee.Geometry.PointFromQuery(\n",
    "    'Cali, Colombia',\n",
    "    user_agent = 'eemont-example'\n",
    ") # Extended constructor\n",
    "S2 = (ee.ImageCollection('COPERNICUS/S2_SR')\n",
    "    .filterBounds(point)\n",
    "    .closest('2020-10-15') # Extended (pre-processing)\n",
    "    .maskClouds(prob = 70) # Extended (pre-processing)\n",
    "    .scaleAndOffset() # Extended (pre-processing)\n",
    "    .spectralIndices(['NDVI','NDWI','BAIS2'])) # Extended (processing)"
   ]
  },
  {
   "cell_type": "code",
   "execution_count": null,
   "metadata": {},
   "outputs": [],
   "source": [
    "S2 = ee.ImageCollection('COPERNICUS/S2_SR').scaleAndOffset()\n",
    "S2withIndices = S2.spectralIndices()"
   ]
  },
  {
   "cell_type": "code",
   "execution_count": 31,
   "metadata": {},
   "outputs": [
    {
     "ename": "Exception",
     "evalue": "[p] and [c] must be positive! Values passed: p = False, c = 1.0",
     "output_type": "error",
     "traceback": [
      "\u001b[0;31m---------------------------------------------------------------------------\u001b[0m",
      "\u001b[0;31mException\u001b[0m                                 Traceback (most recent call last)",
      "Cell \u001b[0;32mIn [31], line 2\u001b[0m\n\u001b[1;32m      1\u001b[0m \u001b[38;5;66;03m# load image\u001b[39;00m\n\u001b[0;32m----> 2\u001b[0m S2_Image \u001b[38;5;241m=\u001b[39m (\u001b[43mee\u001b[49m\u001b[38;5;241;43m.\u001b[39;49m\u001b[43mImage\u001b[49m\u001b[43m(\u001b[49m\u001b[38;5;124;43m'\u001b[39;49m\u001b[38;5;124;43mCOPERNICUS/S2_SR/20210805T030551_20210805T030545_T53WMR\u001b[39;49m\u001b[38;5;124;43m'\u001b[39;49m\u001b[43m)\u001b[49m\n\u001b[1;32m      3\u001b[0m \u001b[43m            \u001b[49m\u001b[38;5;241;43m.\u001b[39;49m\u001b[43mscaleAndOffset\u001b[49m\u001b[43m(\u001b[49m\u001b[43m)\u001b[49m\n\u001b[1;32m      4\u001b[0m \u001b[43m            \u001b[49m\u001b[38;5;241;43m.\u001b[39;49m\u001b[43mspectralIndices\u001b[49m\u001b[43m(\u001b[49m\u001b[43m[\u001b[49m\u001b[38;5;124;43m'\u001b[39;49m\u001b[38;5;124;43mNDVI\u001b[39;49m\u001b[38;5;124;43m'\u001b[39;49m\u001b[43m,\u001b[49m\u001b[43m \u001b[49m\u001b[38;5;124;43m'\u001b[39;49m\u001b[38;5;124;43mNBR\u001b[39;49m\u001b[38;5;124;43m'\u001b[39;49m\u001b[43m]\u001b[49m\u001b[43m)\u001b[49m \u001b[38;5;66;03m# Calculate multispectral indices\u001b[39;00m\n\u001b[1;32m      5\u001b[0m            )\n\u001b[1;32m      8\u001b[0m \u001b[38;5;66;03m# S2_Image = ((ee.ImageCollection('COPERNICUS/S2_SR').first())\u001b[39;00m\n\u001b[1;32m      9\u001b[0m \u001b[38;5;66;03m#             .scaleAndOffset()\u001b[39;00m\n\u001b[1;32m     10\u001b[0m \u001b[38;5;66;03m#             .spectralIndices(['NDVI', 'NBR']) # Calculate multispectral indices\u001b[39;00m\n\u001b[1;32m     11\u001b[0m \u001b[38;5;66;03m#            )\u001b[39;00m\n\u001b[1;32m     12\u001b[0m \n\u001b[1;32m     13\u001b[0m \u001b[38;5;66;03m# Show\u001b[39;00m\n\u001b[1;32m     14\u001b[0m Map\u001b[38;5;241m.\u001b[39maddLayer(S2_Image, \u001b[38;5;28mdict\u001b[39m(\u001b[38;5;28mmin\u001b[39m\u001b[38;5;241m=\u001b[39m\u001b[38;5;241m0.0\u001b[39m, \u001b[38;5;28mmax\u001b[39m\u001b[38;5;241m=\u001b[39m\u001b[38;5;241m0.15\u001b[39m, gamma\u001b[38;5;241m=\u001b[39m\u001b[38;5;241m1.5\u001b[39m, bands\u001b[38;5;241m=\u001b[39m[\u001b[38;5;124m'\u001b[39m\u001b[38;5;124mB2\u001b[39m\u001b[38;5;124m'\u001b[39m, \u001b[38;5;124m'\u001b[39m\u001b[38;5;124mB3\u001b[39m\u001b[38;5;124m'\u001b[39m, \u001b[38;5;124m'\u001b[39m\u001b[38;5;124mB2\u001b[39m\u001b[38;5;124m'\u001b[39m]), \u001b[38;5;124m'\u001b[39m\u001b[38;5;124mRGB\u001b[39m\u001b[38;5;124m'\u001b[39m)\n",
      "File \u001b[0;32m~/.virtualenvs/scomp/lib/python3.9/site-packages/eemont/image.py:930\u001b[0m, in \u001b[0;36mspectralIndices\u001b[0;34m(self, index, G, C1, C2, L, cexp, nexp, alpha, slope, intercept, gamma, kernel, sigma, p, c, online, drop)\u001b[0m\n\u001b[1;32m    802\u001b[0m \u001b[39m@extend\u001b[39m(ee\u001b[39m.\u001b[39mimage\u001b[39m.\u001b[39mImage)\n\u001b[1;32m    803\u001b[0m \u001b[39mdef\u001b[39;00m \u001b[39mspectralIndices\u001b[39m(\n\u001b[1;32m    804\u001b[0m     \u001b[39mself\u001b[39m,\n\u001b[0;32m   (...)\u001b[0m\n\u001b[1;32m    821\u001b[0m     drop\u001b[39m=\u001b[39m\u001b[39mFalse\u001b[39;00m,\n\u001b[1;32m    822\u001b[0m ):\n\u001b[1;32m    823\u001b[0m     \u001b[39m\"\"\"Computes one or more spectral indices (indices are added as bands) for an image\u001b[39;00m\n\u001b[1;32m    824\u001b[0m \u001b[39m    from the Awesome List of Spectral Indices.\u001b[39;00m\n\u001b[1;32m    825\u001b[0m \n\u001b[0;32m   (...)\u001b[0m\n\u001b[1;32m    928\u001b[0m \u001b[39m    >>> S2.spectralIndices('all')\u001b[39;00m\n\u001b[1;32m    929\u001b[0m \u001b[39m    \"\"\"\u001b[39;00m\n\u001b[0;32m--> 930\u001b[0m     \u001b[39mreturn\u001b[39;00m ee_extra\u001b[39m.\u001b[39;49mSpectral\u001b[39m.\u001b[39;49mcore\u001b[39m.\u001b[39;49mspectralIndices(\n\u001b[1;32m    931\u001b[0m         \u001b[39mself\u001b[39;49m,\n\u001b[1;32m    932\u001b[0m         index,\n\u001b[1;32m    933\u001b[0m         G,\n\u001b[1;32m    934\u001b[0m         C1,\n\u001b[1;32m    935\u001b[0m         C2,\n\u001b[1;32m    936\u001b[0m         L,\n\u001b[1;32m    937\u001b[0m         cexp,\n\u001b[1;32m    938\u001b[0m         nexp,\n\u001b[1;32m    939\u001b[0m         alpha,\n\u001b[1;32m    940\u001b[0m         slope,\n\u001b[1;32m    941\u001b[0m         intercept,\n\u001b[1;32m    942\u001b[0m         gamma,\n\u001b[1;32m    943\u001b[0m         kernel,\n\u001b[1;32m    944\u001b[0m         sigma,\n\u001b[1;32m    945\u001b[0m         p,\n\u001b[1;32m    946\u001b[0m         c,\n\u001b[1;32m    947\u001b[0m         online,\n\u001b[1;32m    948\u001b[0m         drop,\n\u001b[1;32m    949\u001b[0m     )\n",
      "File \u001b[0;32m~/.virtualenvs/scomp/lib/python3.9/site-packages/ee_extra/Spectral/core.py:100\u001b[0m, in \u001b[0;36mspectralIndices\u001b[0;34m(x, index, G, C1, C2, L, cexp, nexp, alpha, slope, intercept, gamma, omega, beta, k, kernel, sigma, p, c, lambdaN, lambdaR, lambdaG, online, drop)\u001b[0m\n\u001b[1;32m     97\u001b[0m         \u001b[39mraise\u001b[39;00m \u001b[39mException\u001b[39;00m(\u001b[39mf\u001b[39m\u001b[39m\"\u001b[39m\u001b[39m[sigma] must be positive! Value passed: sigma = \u001b[39m\u001b[39m{\u001b[39;00msigma\u001b[39m}\u001b[39;00m\u001b[39m\"\u001b[39m)\n\u001b[1;32m     99\u001b[0m \u001b[39mif\u001b[39;00m p \u001b[39m<\u001b[39m\u001b[39m=\u001b[39m \u001b[39m0\u001b[39m \u001b[39mor\u001b[39;00m c \u001b[39m<\u001b[39m \u001b[39m0\u001b[39m:\n\u001b[0;32m--> 100\u001b[0m     \u001b[39mraise\u001b[39;00m \u001b[39mException\u001b[39;00m(\n\u001b[1;32m    101\u001b[0m         \u001b[39mf\u001b[39m\u001b[39m\"\u001b[39m\u001b[39m[p] and [c] must be positive! Values passed: p = \u001b[39m\u001b[39m{\u001b[39;00mp\u001b[39m}\u001b[39;00m\u001b[39m, c = \u001b[39m\u001b[39m{\u001b[39;00mc\u001b[39m}\u001b[39;00m\u001b[39m\"\u001b[39m\n\u001b[1;32m    102\u001b[0m     )\n\u001b[1;32m    104\u001b[0m additionalParameters \u001b[39m=\u001b[39m {\n\u001b[1;32m    105\u001b[0m     \u001b[39m\"\u001b[39m\u001b[39mg\u001b[39m\u001b[39m\"\u001b[39m: \u001b[39mfloat\u001b[39m(G),\n\u001b[1;32m    106\u001b[0m     \u001b[39m\"\u001b[39m\u001b[39mC1\u001b[39m\u001b[39m\"\u001b[39m: \u001b[39mfloat\u001b[39m(C1),\n\u001b[0;32m   (...)\u001b[0m\n\u001b[1;32m    122\u001b[0m     \u001b[39m\"\u001b[39m\u001b[39mlambdaG\u001b[39m\u001b[39m\"\u001b[39m: \u001b[39mfloat\u001b[39m(lambdaG),\n\u001b[1;32m    123\u001b[0m }\n\u001b[1;32m    125\u001b[0m spectralIndices \u001b[39m=\u001b[39m _get_indices(online)\n",
      "\u001b[0;31mException\u001b[0m: [p] and [c] must be positive! Values passed: p = False, c = 1.0"
     ]
    }
   ],
   "source": [
    "# load image\n",
    "S2_Image = (ee.Image('COPERNICUS/S2_SR/20210805T030551_20210805T030545_T53WMR')\n",
    "            .scaleAndOffset()\n",
    "            .spectralIndices(['NDVI', 'NBR']) # Calculate multispectral indices\n",
    "           )\n",
    "\n",
    "\n",
    "# S2_Image = ((ee.ImageCollection('COPERNICUS/S2_SR').first())\n",
    "#             .scaleAndOffset()\n",
    "#             .spectralIndices(['NDVI', 'NBR']) # Calculate multispectral indices\n",
    "#            )\n",
    "\n",
    "# Show\n",
    "Map.addLayer(S2_Image, dict(min=0.0, max=0.15, gamma=1.5, bands=['B2', 'B3', 'B2']), 'RGB')\n",
    "Map.addLayer(S2_Image, dict(min=0.0, max=0.3, gamma=1.5, bands=['B8', 'B4', 'B3']), 'Color-Infrared', False)\n",
    "\n",
    "RdYlGn = ['#d7191c','#fdae61','#ffffbf','#a6d96a','#1a9641']\n",
    "Map.addLayer(S2_Image, dict(min=0.0, max=0.8, bands=['NDVI'], palette=RdYlGn), 'NDVI')\n",
    "Map.addLayer(S2_Image, dict(min=0.0, max=0.8, bands=['NBR'], palette=RdYlGn), 'NBR')\n",
    "\n",
    "Map.centerObject(S2_Image, zoom=8)\n",
    "\n",
    "Map"
   ]
  },
  {
   "cell_type": "markdown",
   "metadata": {},
   "source": [
    "# Code that works not in the book"
   ]
  },
  {
   "cell_type": "code",
   "execution_count": 21,
   "metadata": {},
   "outputs": [],
   "source": [
    "import ee \n",
    "import geemap\n",
    "import eemont\n",
    "import pandas as pd\n",
    "import numpy as np\n",
    "import seaborn as sns\n",
    "import matplotlib.pyplot as plt\n",
    "import plotly.express as px"
   ]
  },
  {
   "cell_type": "code",
   "execution_count": 27,
   "metadata": {},
   "outputs": [
    {
     "data": {
      "application/vnd.jupyter.widget-view+json": {
       "model_id": "9dadea732f95438d8f057fcf68240f2b",
       "version_major": 2,
       "version_minor": 0
      },
      "text/plain": [
       "Map(center=[67.64848549607278, 134.65000000000018], controls=(WidgetControl(options=['position', 'transparent_…"
      ]
     },
     "metadata": {},
     "output_type": "display_data"
    }
   ],
   "source": [
    "bbox = ee.Geometry.BBox(134.5, 67.7, 134.8, 67.597)\n",
    "Map = geemap.Map()\n",
    "Map.addLayer(bbox)\n",
    "Map.centerObject(bbox, zoom=10)\n",
    "Map"
   ]
  },
  {
   "cell_type": "code",
   "execution_count": 28,
   "metadata": {},
   "outputs": [
    {
     "ename": "Exception",
     "evalue": "[p] and [c] must be positive! Values passed: p = False, c = 1.0",
     "output_type": "error",
     "traceback": [
      "\u001b[0;31m---------------------------------------------------------------------------\u001b[0m",
      "\u001b[0;31mException\u001b[0m                                 Traceback (most recent call last)",
      "Cell \u001b[0;32mIn [28], line 4\u001b[0m\n\u001b[1;32m      1\u001b[0m \u001b[38;5;66;03m# Image Collection\u001b[39;00m\n\u001b[1;32m      2\u001b[0m ds \u001b[38;5;241m=\u001b[39m \u001b[38;5;124m'\u001b[39m\u001b[38;5;124mCOPERNICUS/S2_SR\u001b[39m\u001b[38;5;124m'\u001b[39m\n\u001b[0;32m----> 4\u001b[0m S2 \u001b[38;5;241m=\u001b[39m (\u001b[43mee\u001b[49m\u001b[38;5;241;43m.\u001b[39;49m\u001b[43mImageCollection\u001b[49m\u001b[43m(\u001b[49m\u001b[43mds\u001b[49m\u001b[43m)\u001b[49m\n\u001b[1;32m      5\u001b[0m \u001b[43m      \u001b[49m\u001b[38;5;66;43;03m### Filters ###\u001b[39;49;00m\n\u001b[1;32m      6\u001b[0m \u001b[43m      \u001b[49m\u001b[38;5;241;43m.\u001b[39;49m\u001b[43mfilterBounds\u001b[49m\u001b[43m(\u001b[49m\u001b[43mpoi\u001b[49m\u001b[43m)\u001b[49m\u001b[43m \u001b[49m\u001b[38;5;66;43;03m# only images, which intersect our point/region\u001b[39;49;00m\n\u001b[1;32m      7\u001b[0m \u001b[43m      \u001b[49m\u001b[38;5;241;43m.\u001b[39;49m\u001b[43mfilter\u001b[49m\u001b[43m(\u001b[49m\u001b[43mee\u001b[49m\u001b[38;5;241;43m.\u001b[39;49m\u001b[43mFilter\u001b[49m\u001b[38;5;241;43m.\u001b[39;49m\u001b[43mcalendarRange\u001b[49m\u001b[43m(\u001b[49m\u001b[38;5;241;43m6\u001b[39;49m\u001b[43m,\u001b[49m\u001b[38;5;241;43m9\u001b[39;49m\u001b[43m,\u001b[49m\u001b[38;5;124;43m'\u001b[39;49m\u001b[38;5;124;43mmonth\u001b[39;49m\u001b[38;5;124;43m'\u001b[39;49m\u001b[43m)\u001b[49m\u001b[43m)\u001b[49m\u001b[43m \u001b[49m\u001b[38;5;66;43;03m# only June through September, Summer only\u001b[39;49;00m\n\u001b[1;32m      8\u001b[0m \u001b[43m      \u001b[49m\u001b[38;5;241;43m.\u001b[39;49m\u001b[43mfilter\u001b[49m\u001b[43m(\u001b[49m\u001b[43mee\u001b[49m\u001b[38;5;241;43m.\u001b[39;49m\u001b[43mFilter\u001b[49m\u001b[38;5;241;43m.\u001b[39;49m\u001b[43mlt\u001b[49m\u001b[43m(\u001b[49m\u001b[38;5;124;43m'\u001b[39;49m\u001b[38;5;124;43mCLOUDY_PIXEL_PERCENTAGE\u001b[39;49m\u001b[38;5;124;43m'\u001b[39;49m\u001b[43m,\u001b[49m\u001b[43m \u001b[49m\u001b[38;5;241;43m10\u001b[39;49m\u001b[43m)\u001b[49m\u001b[43m)\u001b[49m\u001b[43m \u001b[49m\u001b[38;5;66;43;03m# only images with less that 10 % clouds\u001b[39;49;00m\n\u001b[1;32m      9\u001b[0m \u001b[43m      \u001b[49m\u001b[38;5;66;43;03m#.filterDate('2022-07-01','2022-12-31')\u001b[39;49;00m\n\u001b[1;32m     10\u001b[0m \u001b[43m      \u001b[49m\u001b[38;5;66;43;03m### PreProcessing ###\u001b[39;49;00m\n\u001b[1;32m     11\u001b[0m \u001b[43m      \u001b[49m\u001b[38;5;241;43m.\u001b[39;49m\u001b[43mscaleAndOffset\u001b[49m\u001b[43m(\u001b[49m\u001b[43m)\u001b[49m\n\u001b[1;32m     12\u001b[0m \u001b[43m      \u001b[49m\u001b[38;5;241;43m.\u001b[39;49m\u001b[43mspectralIndices\u001b[49m\u001b[43m(\u001b[49m\u001b[43m[\u001b[49m\u001b[38;5;124;43m'\u001b[39;49m\u001b[38;5;124;43mNDVI\u001b[39;49m\u001b[38;5;124;43m'\u001b[39;49m\u001b[43m,\u001b[49m\u001b[43m \u001b[49m\u001b[38;5;124;43m'\u001b[39;49m\u001b[38;5;124;43mNBR\u001b[39;49m\u001b[38;5;124;43m'\u001b[39;49m\u001b[43m]\u001b[49m\u001b[43m)\u001b[49m\n\u001b[1;32m     13\u001b[0m       \u001b[38;5;241m.\u001b[39mmaskClouds()\n\u001b[1;32m     14\u001b[0m       \u001b[38;5;241m.\u001b[39msort(\u001b[38;5;124m'\u001b[39m\u001b[38;5;124mCLOUDY_PIXEL_PERCENTAGE\u001b[39m\u001b[38;5;124m'\u001b[39m)\n\u001b[1;32m     15\u001b[0m      )\u001b[38;5;66;03m#.first()\u001b[39;00m\n\u001b[1;32m     16\u001b[0m \u001b[38;5;66;03m# calculate indices (e.g. NDVI, NBR)\u001b[39;00m\n\u001b[1;32m     17\u001b[0m \u001b[38;5;28mprint\u001b[39m(\u001b[38;5;124mf\u001b[39m\u001b[38;5;124m'\u001b[39m\u001b[38;5;124mNumber of images \u001b[39m\u001b[38;5;132;01m{\u001b[39;00mS2\u001b[38;5;241m.\u001b[39msize()\u001b[38;5;241m.\u001b[39mgetInfo()\u001b[38;5;132;01m}\u001b[39;00m\u001b[38;5;124m'\u001b[39m)\n",
      "File \u001b[0;32m~/.virtualenvs/scomp/lib/python3.9/site-packages/eemont/imagecollection.py:607\u001b[0m, in \u001b[0;36mspectralIndices\u001b[0;34m(self, index, G, C1, C2, L, cexp, nexp, alpha, slope, intercept, gamma, kernel, sigma, p, c, online, drop)\u001b[0m\n\u001b[1;32m    479\u001b[0m \u001b[39m@extend\u001b[39m(ee\u001b[39m.\u001b[39mimagecollection\u001b[39m.\u001b[39mImageCollection)\n\u001b[1;32m    480\u001b[0m \u001b[39mdef\u001b[39;00m \u001b[39mspectralIndices\u001b[39m(\n\u001b[1;32m    481\u001b[0m     \u001b[39mself\u001b[39m,\n\u001b[0;32m   (...)\u001b[0m\n\u001b[1;32m    498\u001b[0m     drop\u001b[39m=\u001b[39m\u001b[39mFalse\u001b[39;00m,\n\u001b[1;32m    499\u001b[0m ):\n\u001b[1;32m    500\u001b[0m     \u001b[39m\"\"\"Computes one or more spectral indices (indices are added as bands) for an image\u001b[39;00m\n\u001b[1;32m    501\u001b[0m \u001b[39m    collection from the Awesome List of Spectral Indices.\u001b[39;00m\n\u001b[1;32m    502\u001b[0m \n\u001b[0;32m   (...)\u001b[0m\n\u001b[1;32m    605\u001b[0m \u001b[39m    >>> S2.spectralIndices('all')\u001b[39;00m\n\u001b[1;32m    606\u001b[0m \u001b[39m    \"\"\"\u001b[39;00m\n\u001b[0;32m--> 607\u001b[0m     \u001b[39mreturn\u001b[39;00m ee_extra\u001b[39m.\u001b[39;49mSpectral\u001b[39m.\u001b[39;49mcore\u001b[39m.\u001b[39;49mspectralIndices(\n\u001b[1;32m    608\u001b[0m         \u001b[39mself\u001b[39;49m,\n\u001b[1;32m    609\u001b[0m         index,\n\u001b[1;32m    610\u001b[0m         G,\n\u001b[1;32m    611\u001b[0m         C1,\n\u001b[1;32m    612\u001b[0m         C2,\n\u001b[1;32m    613\u001b[0m         L,\n\u001b[1;32m    614\u001b[0m         cexp,\n\u001b[1;32m    615\u001b[0m         nexp,\n\u001b[1;32m    616\u001b[0m         alpha,\n\u001b[1;32m    617\u001b[0m         slope,\n\u001b[1;32m    618\u001b[0m         intercept,\n\u001b[1;32m    619\u001b[0m         gamma,\n\u001b[1;32m    620\u001b[0m         kernel,\n\u001b[1;32m    621\u001b[0m         sigma,\n\u001b[1;32m    622\u001b[0m         p,\n\u001b[1;32m    623\u001b[0m         c,\n\u001b[1;32m    624\u001b[0m         online,\n\u001b[1;32m    625\u001b[0m         drop,\n\u001b[1;32m    626\u001b[0m     )\n",
      "File \u001b[0;32m~/.virtualenvs/scomp/lib/python3.9/site-packages/ee_extra/Spectral/core.py:100\u001b[0m, in \u001b[0;36mspectralIndices\u001b[0;34m(x, index, G, C1, C2, L, cexp, nexp, alpha, slope, intercept, gamma, omega, beta, k, kernel, sigma, p, c, lambdaN, lambdaR, lambdaG, online, drop)\u001b[0m\n\u001b[1;32m     97\u001b[0m         \u001b[39mraise\u001b[39;00m \u001b[39mException\u001b[39;00m(\u001b[39mf\u001b[39m\u001b[39m\"\u001b[39m\u001b[39m[sigma] must be positive! Value passed: sigma = \u001b[39m\u001b[39m{\u001b[39;00msigma\u001b[39m}\u001b[39;00m\u001b[39m\"\u001b[39m)\n\u001b[1;32m     99\u001b[0m \u001b[39mif\u001b[39;00m p \u001b[39m<\u001b[39m\u001b[39m=\u001b[39m \u001b[39m0\u001b[39m \u001b[39mor\u001b[39;00m c \u001b[39m<\u001b[39m \u001b[39m0\u001b[39m:\n\u001b[0;32m--> 100\u001b[0m     \u001b[39mraise\u001b[39;00m \u001b[39mException\u001b[39;00m(\n\u001b[1;32m    101\u001b[0m         \u001b[39mf\u001b[39m\u001b[39m\"\u001b[39m\u001b[39m[p] and [c] must be positive! Values passed: p = \u001b[39m\u001b[39m{\u001b[39;00mp\u001b[39m}\u001b[39;00m\u001b[39m, c = \u001b[39m\u001b[39m{\u001b[39;00mc\u001b[39m}\u001b[39;00m\u001b[39m\"\u001b[39m\n\u001b[1;32m    102\u001b[0m     )\n\u001b[1;32m    104\u001b[0m additionalParameters \u001b[39m=\u001b[39m {\n\u001b[1;32m    105\u001b[0m     \u001b[39m\"\u001b[39m\u001b[39mg\u001b[39m\u001b[39m\"\u001b[39m: \u001b[39mfloat\u001b[39m(G),\n\u001b[1;32m    106\u001b[0m     \u001b[39m\"\u001b[39m\u001b[39mC1\u001b[39m\u001b[39m\"\u001b[39m: \u001b[39mfloat\u001b[39m(C1),\n\u001b[0;32m   (...)\u001b[0m\n\u001b[1;32m    122\u001b[0m     \u001b[39m\"\u001b[39m\u001b[39mlambdaG\u001b[39m\u001b[39m\"\u001b[39m: \u001b[39mfloat\u001b[39m(lambdaG),\n\u001b[1;32m    123\u001b[0m }\n\u001b[1;32m    125\u001b[0m spectralIndices \u001b[39m=\u001b[39m _get_indices(online)\n",
      "\u001b[0;31mException\u001b[0m: [p] and [c] must be positive! Values passed: p = False, c = 1.0"
     ]
    }
   ],
   "source": [
    "# Image Collection\n",
    "ds = 'COPERNICUS/S2_SR'\n",
    "\n",
    "S2 = (ee.ImageCollection(ds)\n",
    "      ### Filters ###\n",
    "      .filterBounds(poi) # only images, which intersect our point/region\n",
    "      .filter(ee.Filter.calendarRange(6,9,'month')) # only June through September, Summer only\n",
    "      .filter(ee.Filter.lt('CLOUDY_PIXEL_PERCENTAGE', 10)) # only images with less that 10 % clouds\n",
    "      #.filterDate('2022-07-01','2022-12-31')\n",
    "      ### PreProcessing ###\n",
    "      .scaleAndOffset()\n",
    "      .spectralIndices(['NDVI', 'NBR'])\n",
    "      .maskClouds()\n",
    "      .sort('CLOUDY_PIXEL_PERCENTAGE')\n",
    "     )#.first()\n",
    "# calculate indices (e.g. NDVI, NBR)\n",
    "print(f'Number of images {S2.size().getInfo()}') # Print number of images"
   ]
  },
  {
   "cell_type": "code",
   "execution_count": null,
   "metadata": {},
   "outputs": [],
   "source": [
    "#Map = geemap.Map()\n",
    "Map.addLayer(S2, dict(min=0.0, max=0.15, gamma=1.5, bands=['B2', 'B3', 'B2']), 'RGB_Collection')\n",
    "Map.addLayer(S2, dict(min=0.0, max=0.3, gamma=1.5, bands=['B8', 'B4', 'B3']), 'Color-Infrared_Collection')\n",
    "RdYlGn = ['#d7191c','#fdae61','#ffffbf','#a6d96a','#1a9641']\n",
    "\n",
    "# Show NDVI\n",
    "#Map.addLayer(S2_Image, dict(min=0.0, max=0.8, bands=['NDVI'], palette=RdYlGn), 'NDVI')\n",
    "# Show NDVI \n",
    "#Map.addLayer(S2_Image, dict(min=0.0, max=0.8, bands=['NBR'], palette=RdYlGn), 'NBR')\n",
    "Map.centerObject(S2_Image, zoom=8)\n",
    "Map"
   ]
  },
  {
   "cell_type": "markdown",
   "metadata": {},
   "source": [
    "## Timeseries"
   ]
  },
  {
   "cell_type": "code",
   "execution_count": 29,
   "metadata": {},
   "outputs": [],
   "source": [
    "def load_and_prepare_Landsat(collection_name):\n",
    "    collection = (ee.ImageCollection(collection_name)\n",
    "      ### Filters ###\n",
    "      .filterBounds(poi) # only images, which intersect our point/region\n",
    "      .filter(ee.Filter.calendarRange(7,8,'month')) # only June through September, Summer only\n",
    "      .filter(ee.Filter.lt('CLOUD_COVER_LAND', 10)) # only images with less that 10 % clouds\n",
    "      #.filterDate('2022-07-01','2022-12-31')\n",
    "      ### PreProcessing ###\n",
    "      .scaleAndOffset()\n",
    "      .spectralIndices(['NDVI', 'NBR'])\n",
    "      .maskClouds()\n",
    "     )\n",
    "    return collection"
   ]
  },
  {
   "cell_type": "code",
   "execution_count": 30,
   "metadata": {},
   "outputs": [
    {
     "ename": "Exception",
     "evalue": "[p] and [c] must be positive! Values passed: p = False, c = 1.0",
     "output_type": "error",
     "traceback": [
      "\u001b[0;31m---------------------------------------------------------------------------\u001b[0m",
      "\u001b[0;31mException\u001b[0m                                 Traceback (most recent call last)",
      "Cell \u001b[0;32mIn [30], line 1\u001b[0m\n\u001b[0;32m----> 1\u001b[0m L9 \u001b[38;5;241m=\u001b[39m \u001b[43mload_and_prepare_Landsat\u001b[49m\u001b[43m(\u001b[49m\u001b[38;5;124;43m\"\u001b[39;49m\u001b[38;5;124;43mLANDSAT/LC09/C02/T1_L2\u001b[39;49m\u001b[38;5;124;43m\"\u001b[39;49m\u001b[43m)\u001b[49m\n\u001b[1;32m      2\u001b[0m L8 \u001b[38;5;241m=\u001b[39m load_and_prepare_Landsat(\u001b[38;5;124m\"\u001b[39m\u001b[38;5;124mLANDSAT/LC08/C02/T1_L2\u001b[39m\u001b[38;5;124m\"\u001b[39m)\n\u001b[1;32m      3\u001b[0m L7 \u001b[38;5;241m=\u001b[39m load_and_prepare_Landsat(\u001b[38;5;124m\"\u001b[39m\u001b[38;5;124mLANDSAT/LE07/C02/T1_L2\u001b[39m\u001b[38;5;124m\"\u001b[39m)\n",
      "Cell \u001b[0;32mIn [29], line 2\u001b[0m, in \u001b[0;36mload_and_prepare_Landsat\u001b[0;34m(collection_name)\u001b[0m\n\u001b[1;32m      1\u001b[0m \u001b[38;5;28;01mdef\u001b[39;00m \u001b[38;5;21mload_and_prepare_Landsat\u001b[39m(collection_name):\n\u001b[0;32m----> 2\u001b[0m     collection \u001b[38;5;241m=\u001b[39m (\u001b[43mee\u001b[49m\u001b[38;5;241;43m.\u001b[39;49m\u001b[43mImageCollection\u001b[49m\u001b[43m(\u001b[49m\u001b[43mcollection_name\u001b[49m\u001b[43m)\u001b[49m\n\u001b[1;32m      3\u001b[0m \u001b[43m      \u001b[49m\u001b[38;5;66;43;03m### Filters ###\u001b[39;49;00m\n\u001b[1;32m      4\u001b[0m \u001b[43m      \u001b[49m\u001b[38;5;241;43m.\u001b[39;49m\u001b[43mfilterBounds\u001b[49m\u001b[43m(\u001b[49m\u001b[43mpoi\u001b[49m\u001b[43m)\u001b[49m\u001b[43m \u001b[49m\u001b[38;5;66;43;03m# only images, which intersect our point/region\u001b[39;49;00m\n\u001b[1;32m      5\u001b[0m \u001b[43m      \u001b[49m\u001b[38;5;241;43m.\u001b[39;49m\u001b[43mfilter\u001b[49m\u001b[43m(\u001b[49m\u001b[43mee\u001b[49m\u001b[38;5;241;43m.\u001b[39;49m\u001b[43mFilter\u001b[49m\u001b[38;5;241;43m.\u001b[39;49m\u001b[43mcalendarRange\u001b[49m\u001b[43m(\u001b[49m\u001b[38;5;241;43m7\u001b[39;49m\u001b[43m,\u001b[49m\u001b[38;5;241;43m8\u001b[39;49m\u001b[43m,\u001b[49m\u001b[38;5;124;43m'\u001b[39;49m\u001b[38;5;124;43mmonth\u001b[39;49m\u001b[38;5;124;43m'\u001b[39;49m\u001b[43m)\u001b[49m\u001b[43m)\u001b[49m\u001b[43m \u001b[49m\u001b[38;5;66;43;03m# only June through September, Summer only\u001b[39;49;00m\n\u001b[1;32m      6\u001b[0m \u001b[43m      \u001b[49m\u001b[38;5;241;43m.\u001b[39;49m\u001b[43mfilter\u001b[49m\u001b[43m(\u001b[49m\u001b[43mee\u001b[49m\u001b[38;5;241;43m.\u001b[39;49m\u001b[43mFilter\u001b[49m\u001b[38;5;241;43m.\u001b[39;49m\u001b[43mlt\u001b[49m\u001b[43m(\u001b[49m\u001b[38;5;124;43m'\u001b[39;49m\u001b[38;5;124;43mCLOUD_COVER_LAND\u001b[39;49m\u001b[38;5;124;43m'\u001b[39;49m\u001b[43m,\u001b[49m\u001b[43m \u001b[49m\u001b[38;5;241;43m10\u001b[39;49m\u001b[43m)\u001b[49m\u001b[43m)\u001b[49m\u001b[43m \u001b[49m\u001b[38;5;66;43;03m# only images with less that 10 % clouds\u001b[39;49;00m\n\u001b[1;32m      7\u001b[0m \u001b[43m      \u001b[49m\u001b[38;5;66;43;03m#.filterDate('2022-07-01','2022-12-31')\u001b[39;49;00m\n\u001b[1;32m      8\u001b[0m \u001b[43m      \u001b[49m\u001b[38;5;66;43;03m### PreProcessing ###\u001b[39;49;00m\n\u001b[1;32m      9\u001b[0m \u001b[43m      \u001b[49m\u001b[38;5;241;43m.\u001b[39;49m\u001b[43mscaleAndOffset\u001b[49m\u001b[43m(\u001b[49m\u001b[43m)\u001b[49m\n\u001b[1;32m     10\u001b[0m \u001b[43m      \u001b[49m\u001b[38;5;241;43m.\u001b[39;49m\u001b[43mspectralIndices\u001b[49m\u001b[43m(\u001b[49m\u001b[43m[\u001b[49m\u001b[38;5;124;43m'\u001b[39;49m\u001b[38;5;124;43mNDVI\u001b[39;49m\u001b[38;5;124;43m'\u001b[39;49m\u001b[43m,\u001b[49m\u001b[43m \u001b[49m\u001b[38;5;124;43m'\u001b[39;49m\u001b[38;5;124;43mNBR\u001b[39;49m\u001b[38;5;124;43m'\u001b[39;49m\u001b[43m]\u001b[49m\u001b[43m)\u001b[49m\n\u001b[1;32m     11\u001b[0m       \u001b[38;5;241m.\u001b[39mmaskClouds()\n\u001b[1;32m     12\u001b[0m      )\n\u001b[1;32m     13\u001b[0m     \u001b[38;5;28;01mreturn\u001b[39;00m collection\n",
      "File \u001b[0;32m~/.virtualenvs/scomp/lib/python3.9/site-packages/eemont/imagecollection.py:607\u001b[0m, in \u001b[0;36mspectralIndices\u001b[0;34m(self, index, G, C1, C2, L, cexp, nexp, alpha, slope, intercept, gamma, kernel, sigma, p, c, online, drop)\u001b[0m\n\u001b[1;32m    479\u001b[0m \u001b[39m@extend\u001b[39m(ee\u001b[39m.\u001b[39mimagecollection\u001b[39m.\u001b[39mImageCollection)\n\u001b[1;32m    480\u001b[0m \u001b[39mdef\u001b[39;00m \u001b[39mspectralIndices\u001b[39m(\n\u001b[1;32m    481\u001b[0m     \u001b[39mself\u001b[39m,\n\u001b[0;32m   (...)\u001b[0m\n\u001b[1;32m    498\u001b[0m     drop\u001b[39m=\u001b[39m\u001b[39mFalse\u001b[39;00m,\n\u001b[1;32m    499\u001b[0m ):\n\u001b[1;32m    500\u001b[0m     \u001b[39m\"\"\"Computes one or more spectral indices (indices are added as bands) for an image\u001b[39;00m\n\u001b[1;32m    501\u001b[0m \u001b[39m    collection from the Awesome List of Spectral Indices.\u001b[39;00m\n\u001b[1;32m    502\u001b[0m \n\u001b[0;32m   (...)\u001b[0m\n\u001b[1;32m    605\u001b[0m \u001b[39m    >>> S2.spectralIndices('all')\u001b[39;00m\n\u001b[1;32m    606\u001b[0m \u001b[39m    \"\"\"\u001b[39;00m\n\u001b[0;32m--> 607\u001b[0m     \u001b[39mreturn\u001b[39;00m ee_extra\u001b[39m.\u001b[39;49mSpectral\u001b[39m.\u001b[39;49mcore\u001b[39m.\u001b[39;49mspectralIndices(\n\u001b[1;32m    608\u001b[0m         \u001b[39mself\u001b[39;49m,\n\u001b[1;32m    609\u001b[0m         index,\n\u001b[1;32m    610\u001b[0m         G,\n\u001b[1;32m    611\u001b[0m         C1,\n\u001b[1;32m    612\u001b[0m         C2,\n\u001b[1;32m    613\u001b[0m         L,\n\u001b[1;32m    614\u001b[0m         cexp,\n\u001b[1;32m    615\u001b[0m         nexp,\n\u001b[1;32m    616\u001b[0m         alpha,\n\u001b[1;32m    617\u001b[0m         slope,\n\u001b[1;32m    618\u001b[0m         intercept,\n\u001b[1;32m    619\u001b[0m         gamma,\n\u001b[1;32m    620\u001b[0m         kernel,\n\u001b[1;32m    621\u001b[0m         sigma,\n\u001b[1;32m    622\u001b[0m         p,\n\u001b[1;32m    623\u001b[0m         c,\n\u001b[1;32m    624\u001b[0m         online,\n\u001b[1;32m    625\u001b[0m         drop,\n\u001b[1;32m    626\u001b[0m     )\n",
      "File \u001b[0;32m~/.virtualenvs/scomp/lib/python3.9/site-packages/ee_extra/Spectral/core.py:100\u001b[0m, in \u001b[0;36mspectralIndices\u001b[0;34m(x, index, G, C1, C2, L, cexp, nexp, alpha, slope, intercept, gamma, omega, beta, k, kernel, sigma, p, c, lambdaN, lambdaR, lambdaG, online, drop)\u001b[0m\n\u001b[1;32m     97\u001b[0m         \u001b[39mraise\u001b[39;00m \u001b[39mException\u001b[39;00m(\u001b[39mf\u001b[39m\u001b[39m\"\u001b[39m\u001b[39m[sigma] must be positive! Value passed: sigma = \u001b[39m\u001b[39m{\u001b[39;00msigma\u001b[39m}\u001b[39;00m\u001b[39m\"\u001b[39m)\n\u001b[1;32m     99\u001b[0m \u001b[39mif\u001b[39;00m p \u001b[39m<\u001b[39m\u001b[39m=\u001b[39m \u001b[39m0\u001b[39m \u001b[39mor\u001b[39;00m c \u001b[39m<\u001b[39m \u001b[39m0\u001b[39m:\n\u001b[0;32m--> 100\u001b[0m     \u001b[39mraise\u001b[39;00m \u001b[39mException\u001b[39;00m(\n\u001b[1;32m    101\u001b[0m         \u001b[39mf\u001b[39m\u001b[39m\"\u001b[39m\u001b[39m[p] and [c] must be positive! Values passed: p = \u001b[39m\u001b[39m{\u001b[39;00mp\u001b[39m}\u001b[39;00m\u001b[39m, c = \u001b[39m\u001b[39m{\u001b[39;00mc\u001b[39m}\u001b[39;00m\u001b[39m\"\u001b[39m\n\u001b[1;32m    102\u001b[0m     )\n\u001b[1;32m    104\u001b[0m additionalParameters \u001b[39m=\u001b[39m {\n\u001b[1;32m    105\u001b[0m     \u001b[39m\"\u001b[39m\u001b[39mg\u001b[39m\u001b[39m\"\u001b[39m: \u001b[39mfloat\u001b[39m(G),\n\u001b[1;32m    106\u001b[0m     \u001b[39m\"\u001b[39m\u001b[39mC1\u001b[39m\u001b[39m\"\u001b[39m: \u001b[39mfloat\u001b[39m(C1),\n\u001b[0;32m   (...)\u001b[0m\n\u001b[1;32m    122\u001b[0m     \u001b[39m\"\u001b[39m\u001b[39mlambdaG\u001b[39m\u001b[39m\"\u001b[39m: \u001b[39mfloat\u001b[39m(lambdaG),\n\u001b[1;32m    123\u001b[0m }\n\u001b[1;32m    125\u001b[0m spectralIndices \u001b[39m=\u001b[39m _get_indices(online)\n",
      "\u001b[0;31mException\u001b[0m: [p] and [c] must be positive! Values passed: p = False, c = 1.0"
     ]
    }
   ],
   "source": [
    "L9 = load_and_prepare_Landsat(\"LANDSAT/LC09/C02/T1_L2\")\n",
    "L8 = load_and_prepare_Landsat(\"LANDSAT/LC08/C02/T1_L2\")\n",
    "L7 = load_and_prepare_Landsat(\"LANDSAT/LE07/C02/T1_L2\")\n",
    "L5 = load_and_prepare_Landsat(\"LANDSAT/LT05/C02/T1_L2\")\n",
    "LS = L9.merge(L8).merge(L7).merge(L5)"
   ]
  },
  {
   "cell_type": "markdown",
   "metadata": {},
   "source": []
  }
 ],
 "metadata": {
  "kernelspec": {
   "display_name": "Python 3.9.13 ('scomp')",
   "language": "python",
   "name": "python3"
  },
  "language_info": {
   "codemirror_mode": {
    "name": "ipython",
    "version": 3
   },
   "file_extension": ".py",
   "mimetype": "text/x-python",
   "name": "python",
   "nbconvert_exporter": "python",
   "pygments_lexer": "ipython3",
   "version": "3.9.13"
  },
  "orig_nbformat": 4,
  "vscode": {
   "interpreter": {
    "hash": "3bc86895b5d8569f33588bfbb1475393b4e3b52b49eb441663b259ecef6692f4"
   }
  }
 },
 "nbformat": 4,
 "nbformat_minor": 2
}
