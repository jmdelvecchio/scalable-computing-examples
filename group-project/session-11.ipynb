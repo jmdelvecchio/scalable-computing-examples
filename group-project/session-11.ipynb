{
 "cells": [
  {
   "cell_type": "markdown",
   "metadata": {},
   "source": [
    "# Session 11: Data Processing"
   ]
  },
  {
   "cell_type": "code",
   "execution_count": 1,
   "metadata": {},
   "outputs": [
    {
     "name": "stderr",
     "output_type": "stream",
     "text": [
      "/home/sjclark/miniconda3/envs/scale_comp/lib/python3.9/site-packages/geopandas/_compat.py:112: UserWarning: The Shapely GEOS version (3.10.2-CAPI-1.16.0) is incompatible with the GEOS version PyGEOS was compiled with (3.10.1-CAPI-1.16.0). Conversions between both will be slow.\n",
      "  warnings.warn(\n"
     ]
    }
   ],
   "source": [
    "import logging\n",
    "import os\n",
    "from datetime import datetime\n",
    "\n",
    "import matplotlib.pyplot as plt\n",
    "from pdgraster import RasterTiler\n",
    "\n",
    "# For parallel processing\n",
    "import parsl\n",
    "import parsl\n",
    "from parsl import python_app\n",
    "from parsl.config import Config\n",
    "from parsl.channels import LocalChannel\n",
    "from parsl.executors import HighThroughputExecutor\n",
    "from parsl.providers import LocalProvider\n",
    "\n",
    "# set up plotting in notebook\n",
    "plt.style.use('seaborn-notebook')\n",
    "font_size = 4\n",
    "plt.rcParams['font.size'] = font_size\n",
    "plt.rcParams['axes.labelsize'] = font_size\n",
    "plt.rcParams['axes.titlesize'] = font_size\n",
    "plt.rcParams['xtick.labelsize'] = font_size\n",
    "plt.rcParams['ytick.labelsize'] = font_size\n",
    "plt.rcParams['legend.fontsize'] = font_size\n",
    "plt.rcParams['figure.titlesize'] = font_size\n",
    "plt.rcParams['figure.dpi'] = 200"
   ]
  },
  {
   "cell_type": "markdown",
   "metadata": {},
   "source": [
    "## The `RasterTiler` class\n",
    "\n",
    "The purpose of the RasterTiler class is to read in tiled vector data (the out put of staging), and create raster data from each vector tile.\n",
    "\n",
    "![](https://raw.githubusercontent.com/PermafrostDiscoveryGateway/viz-raster/develop/docs/images/raster_tldr.png)"
   ]
  },
  {
   "cell_type": "markdown",
   "metadata": {},
   "source": [
    "The `RasterTiler` takes the same config as the `TileStager` class, but we add a few more options for rasterization."
   ]
  },
  {
   "cell_type": "code",
   "execution_count": 2,
   "metadata": {},
   "outputs": [],
   "source": [
    "# Here are the options that we set for the TileStager\n",
    "iwp_config = {\n",
    "    # The directory and file type of the input vector data the we want to stage\n",
    "    'dir_input': 'example-data',\n",
    "    'ext_input': '.gpkg',\n",
    "    # The path to the directory where we want the output tiles to be saved\n",
    "    # (this will be created if it doesn't exist)\n",
    "    'dir_staged': 'staged',\n",
    "    # Set simplify_tolerance to None to disable polygon simplification (not\n",
    "    # needed)\n",
    "    'simplify_tolerance': None\n",
    "}\n",
    "\n",
    "# Here are the extra options we will use for rasterization\n",
    "iwp_config_raster = {\n",
    "    # Where two store the two formats of the output raster tiles\n",
    "    'dir_geotiff': 'geotiff',\n",
    "    'dir_web_tiles': 'web_tiles',\n",
    "    # We will calculate TWO statistics. Each statistic will result in a separate\n",
    "    # band in the output GeoTIFF.\n",
    "    'statistics': [\n",
    "        {\n",
    "            # The first statistic will count the number of IWP that are located in\n",
    "            # each pixel in the output GeoTIFF.\n",
    "            'name': 'number_IWP_per_pixel',\n",
    "            'weight_by': 'count',\n",
    "            'property': 'centroids_per_pixel',\n",
    "            'aggregation_method': 'sum',\n",
    "            'resampling_method': 'sum',\n",
    "            'palette': ['rgb(102 51 153 / 0.0)', '#d93fce', 'lch(85% 100 85)'],\n",
    "            # Across ALL the data, the minimum number of polygons per pixel\n",
    "            # will always be zero, but the maximum will depend on the number of\n",
    "            # polygons in the input vector data, and the size of the pixel. It\n",
    "            # will be calculated dynamically.\n",
    "            'val_range': [0, None]\n",
    "        },\n",
    "        {\n",
    "            # The second statistic will calculate the proportion of that each\n",
    "            # pixel in the GeoTIFF is covered by IWP.\n",
    "            'name': 'prop_pixel_covered_by_IWP',\n",
    "            'weight_by': 'area',\n",
    "            'property': 'area_per_pixel_area',\n",
    "            'aggregation_method': 'sum',\n",
    "            'resampling_method': 'average',\n",
    "            'palette': ['rgb(102 51 153 / 0.0)', 'lch(85% 100 85)'],\n",
    "            # Since we are calculating a proportion, the min and max proportion\n",
    "            # of a pixel that can be covered by IWP will be 0 and 1, respectively.\n",
    "            'val_range': [0, 1]\n",
    "        }\n",
    "    ],\n",
    "}\n",
    "\n",
    "# Update it\n",
    "iwp_config.update(iwp_config_raster)"
   ]
  },
  {
   "cell_type": "markdown",
   "metadata": {},
   "source": [
    "Here are explanations of all the options for each statistic (this can also be found in `help(pdgstaging.ConfigManager)` )\n",
    "\n",
    "* name : `str` The name of the statistic. Can be anything but must be unique.\n",
    "\n",
    "* weight_by : `'count' or 'area'` The weighting method for the statistic. Options\n",
    "    are 'count' and 'area'. 'count' indicates that the statistic is calculated\n",
    "    based on the number of polygons in each cell (location is identified by the\n",
    "    centroid of the polygon). 'area' indicates that the statistic is calculated\n",
    "    based on the area of the polygons that cover each cell.\n",
    "\n",
    "* property : `str` The name of the property in the vector file to calculate the\n",
    "    statistic for. Besides the properties that are available from the input\n",
    "    vector data, the following keywords can be used:\n",
    "\n",
    "  * 'centroids_per_pixel' : The number of polygons with centroids that fall in\n",
    "      the cell/pixel. (Only available if weight_by is 'count')\n",
    "\n",
    "  * 'area_within_pixel' : The area of the polygon that falls within a given\n",
    "      cell/pixel, in the units of the CRS. (Only available if weight_by is\n",
    "      'area')\n",
    "\n",
    "  * 'area_per_pixel_area' : Same as 'area_within_pixel', but divided by the\n",
    "      area of the cell/pixel. (Only available if weight_by is 'area')\n",
    "\n",
    "* aggregation_method : `str` The function to be applied to the property. The\n",
    "    vector data will first be grouped into cells, then the aggregation method\n",
    "    will be used to summarize the given property in the cell. Method can be any\n",
    "    method allowed in the 'func' property of the panda's aggregate method, e.g.\n",
    "    'sum', 'count', 'mean', etc.\n",
    "\n",
    "* resampling_method : `str` The resampling method to use when combining raster\n",
    "    data from child tiles into parent tiles. See rasterio's Resampling Methods\n",
    "    for list of the available methods.\n",
    "\n",
    "* val_range : `str` A min and max value for the statistic. This is used for\n",
    "    consistency when mapping the color palette to the pixel values during web\n",
    "    tile image generation. When a min or max value within a val_range is set to\n",
    "    None, then a min or max value will be calculated for the each z-level for\n",
    "    which geotiffs are created.\n",
    "\n",
    "* palette : `list of str` A list of colors to use for the color palette (for web-tiles)\n",
    "\n",
    "* z_config : `str` A dict of config options specific to each z-level. Currently, \n",
    "    only setting a val_range is supported. Eventually, this could be used to\n",
    "    set z-specific tile sizes and color palettes.\n"
   ]
  },
  {
   "cell_type": "code",
   "execution_count": 3,
   "metadata": {},
   "outputs": [],
   "source": [
    "# Instantiate our rasterizer using the config options\n",
    "iwp_rasterizer = RasterTiler(iwp_config)"
   ]
  },
  {
   "cell_type": "markdown",
   "metadata": {},
   "source": [
    "Like the `TileStager`, we can rasterize the tiles that we've created individually or as a batch, using either:"
   ]
  },
  {
   "cell_type": "code",
   "execution_count": 4,
   "metadata": {},
   "outputs": [
    {
     "name": "stdout",
     "output_type": "stream",
     "text": [
      "Help on method rasterize_vector in module pdgraster.RasterTiler:\n",
      "\n",
      "rasterize_vector(path) method of pdgraster.RasterTiler.RasterTiler instance\n",
      "    Given a path to an output file from the viz-staging step, create a\n",
      "    GeoTIFF and save it to the configured dir_geotiff directory. If the\n",
      "    output geotiff already exists, it will be overwritten.\n",
      "    \n",
      "    During this process, the min and max values (and other summary\n",
      "    stats) of the data arrays that comprise the GeoTIFFs for each band\n",
      "    will be tracked.\n",
      "    \n",
      "    Parameters\n",
      "    ----------\n",
      "    \n",
      "    path : str\n",
      "        Path to the staged vector file to rasterize.\n",
      "    \n",
      "    Returns\n",
      "    -------\n",
      "    \n",
      "    morecantile.Tile or None\n",
      "        The tile that was rasterized or None if there was an error.\n",
      "\n"
     ]
    }
   ],
   "source": [
    "help(iwp_rasterizer.rasterize_vector)"
   ]
  },
  {
   "cell_type": "code",
   "execution_count": null,
   "metadata": {},
   "outputs": [],
   "source": [
    "help(iwp_rasterizer.rasterize_all)"
   ]
  },
  {
   "cell_type": "markdown",
   "metadata": {},
   "source": [
    "\n",
    "The `RasterTiler` also has a method to rasterize an arbitary bunch of tiles at once:"
   ]
  },
  {
   "cell_type": "code",
   "execution_count": null,
   "metadata": {},
   "outputs": [],
   "source": [
    "help(iwp_rasterizer.rasterize_vectors)"
   ]
  },
  {
   "cell_type": "code",
   "execution_count": 5,
   "metadata": {},
   "outputs": [
    {
     "name": "stdout",
     "output_type": "stream",
     "text": [
      "There are 2249 tiles to rasterize, ranging in size from 96.0 kb to 14400.0 kb. The total size of the data to rasterize is 6.11 GB.\n"
     ]
    }
   ],
   "source": [
    "# Let's look at the data we intend to rasterize\n",
    "staged_paths = iwp_rasterizer.tiles.get_filenames_from_dir('staged')\n",
    "tiles_to_rasterize = len(staged_paths)\n",
    "filesizes = [os.path.getsize(path) for path in staged_paths]\n",
    "total_gb = sum(filesizes) / 1024 / 1024 / 1024\n",
    "min_kb = min(filesizes) / 1024\n",
    "max_kb = max(filesizes) / 1024\n",
    "\n",
    "print(f'There are {tiles_to_rasterize} tiles to rasterize, ranging in size from '\n",
    "        f'{min_kb} kb to {max_kb} kb. The total size of the data to '\n",
    "        f'rasterize is {total_gb:.2f} GB.')"
   ]
  },
  {
   "cell_type": "code",
   "execution_count": 6,
   "metadata": {},
   "outputs": [
    {
     "name": "stdout",
     "output_type": "stream",
     "text": [
      "Rasterizing the first tile took 0:00:01.984216.\n"
     ]
    }
   ],
   "source": [
    "# The files are small so rasterizing one tile is pretty fast. Let's rasterize\n",
    "# the first tile.\n",
    "\n",
    "start_time = datetime.now()\n",
    "iwp_rasterizer.rasterize_vector(staged_paths[0])\n",
    "end_time = datetime.now()\n",
    "total_time = end_time - start_time\n",
    "\n",
    "print(f'Rasterizing the first tile took {total_time}.')"
   ]
  },
  {
   "cell_type": "code",
   "execution_count": 7,
   "metadata": {},
   "outputs": [
    {
     "data": {
      "text/plain": [
       "0"
      ]
     },
     "execution_count": 7,
     "metadata": {},
     "output_type": "execute_result"
    }
   ],
   "source": [
    "# However, since there are thousands of tiles to rasterize, it is much faster to\n",
    "# rasterize them in parallel. Let's delete the files that we just created:\n",
    "os.system(f'rm -rf {iwp_rasterizer.config.get(\"dir_geotiff\")}')\n",
    "os.system(f'rm {iwp_rasterizer.config.get(\"filename_rasterization_events\")}')\n",
    "os.system(f'rm {iwp_rasterizer.config.get(\"filename_rasters_summary\")}')"
   ]
  },
  {
   "cell_type": "code",
   "execution_count": 8,
   "metadata": {},
   "outputs": [],
   "source": [
    "# Because rasterization is relatively quick, we want each parsl \"task\" to process a batch of tiles.\n",
    "def make_batch(items, batch_size):\n",
    "    \"\"\"\n",
    "    Create batches of a given size from a list of items.\n",
    "    \"\"\"\n",
    "    return [items[i:i + batch_size] for i in range(0, len(items), batch_size)]"
   ]
  },
  {
   "cell_type": "code",
   "execution_count": 9,
   "metadata": {},
   "outputs": [
    {
     "name": "stdout",
     "output_type": "stream",
     "text": [
      "There are 45 batches to rasterize, each batch has a max of 50 tiles.\n"
     ]
    }
   ],
   "source": [
    "# We can try 50 tiles at a time.\n",
    "batch_size = 50\n",
    "batches = make_batch(staged_paths, batch_size)\n",
    "print(f'There are {len(batches)} batches to rasterize, each batch has a max of {batch_size} tiles.')"
   ]
  },
  {
   "cell_type": "code",
   "execution_count": 10,
   "metadata": {},
   "outputs": [],
   "source": [
    "# Set up Parsl and logging again:\n",
    "activate_conda = 'source /home/sjclark/miniconda3/bin/activate scale_comp'\n",
    "htex_local = Config(\n",
    "    executors=[\n",
    "        HighThroughputExecutor(\n",
    "            label=\"htex_local\",\n",
    "            worker_debug=False,\n",
    "            cores_per_worker=1,\n",
    "            max_workers=26,\n",
    "            provider=LocalProvider(\n",
    "                channel=LocalChannel(),\n",
    "                init_blocks=1,\n",
    "                max_blocks=20,\n",
    "                worker_init=activate_conda\n",
    "            )\n",
    "        )\n",
    "    ],\n",
    ")\n",
    "parsl.clear()\n",
    "parsl.load(htex_local)\n",
    "\n",
    "logging.basicConfig(level=logging.INFO)"
   ]
  },
  {
   "cell_type": "code",
   "execution_count": 11,
   "metadata": {},
   "outputs": [],
   "source": [
    "# Make a Parsl app that uses the rasterize_vectors method\n",
    "@python_app\n",
    "def rasterize(staged_paths, config):\n",
    "    \"\"\"\n",
    "    Rasterize a batch of vector files\n",
    "    \"\"\"\n",
    "    import pdgraster\n",
    "    import logging.config\n",
    "    logging.basicConfig(level=logging.INFO)\n",
    "    rasterizer = pdgraster.RasterTiler(config)\n",
    "    return rasterizer.rasterize_vectors(staged_paths, make_parents=False)"
   ]
  },
  {
   "cell_type": "code",
   "execution_count": 12,
   "metadata": {},
   "outputs": [
    {
     "name": "stderr",
     "output_type": "stream",
     "text": [
      "DEBUG:parsl.dataflow.dflow:Task 0 will be sent to executor htex_local\n",
      "DEBUG:parsl.dataflow.dflow:Adding output dependencies\n",
      "INFO:parsl.dataflow.dflow:Task 0 submitted for App rasterize, not waiting on any dependency\n",
      "DEBUG:parsl.dataflow.dflow:Task 0 set to pending state with AppFuture: <AppFuture at 0x7f379b51f6a0 state=pending>\n",
      "DEBUG:parsl.dataflow.memoization:Task 0 will not be memoized\n",
      "DEBUG:parsl.executors.high_throughput.executor:Pushing function <function rasterize at 0x7f379b6a1ca0> to queue with args (\"['staged/WorldCRS84Quad/13/909/1059.gpkg', 'staged/WorldCRS84Quad/13/909/1060.gpkg', 'staged/WorldCR...\", \"{'dir_input': 'example-data', 'ext_input': '.gpkg', 'dir_staged': 'staged', 'simplify_tolerance': No...\")\n",
      "INFO:parsl.dataflow.dflow:Task 0 launched on executor htex_local\n",
      "DEBUG:parsl.dataflow.dflow:Task 1 will be sent to executor htex_local\n",
      "DEBUG:parsl.dataflow.dflow:Adding output dependencies\n",
      "INFO:parsl.dataflow.dflow:Task 1 submitted for App rasterize, not waiting on any dependency\n",
      "DEBUG:parsl.dataflow.dflow:Task 1 set to pending state with AppFuture: <AppFuture at 0x7f379b762100 state=pending>\n",
      "DEBUG:parsl.dataflow.memoization:Task 1 will not be memoized\n",
      "DEBUG:parsl.executors.high_throughput.executor:Pushing function <function rasterize at 0x7f379b6a1ca0> to queue with args (\"['staged/WorldCRS84Quad/13/910/1054.gpkg', 'staged/WorldCRS84Quad/13/910/1055.gpkg', 'staged/WorldCR...\", \"{'dir_input': 'example-data', 'ext_input': '.gpkg', 'dir_staged': 'staged', 'simplify_tolerance': No...\")\n",
      "INFO:parsl.dataflow.dflow:Task 1 launched on executor htex_local\n",
      "DEBUG:parsl.dataflow.dflow:Task 2 will be sent to executor htex_local\n",
      "DEBUG:parsl.dataflow.dflow:Adding output dependencies\n",
      "INFO:parsl.dataflow.dflow:Task 2 submitted for App rasterize, not waiting on any dependency\n",
      "DEBUG:parsl.dataflow.dflow:Task 2 set to pending state with AppFuture: <AppFuture at 0x7f379b762ee0 state=pending>\n",
      "DEBUG:parsl.dataflow.memoization:Task 2 will not be memoized\n",
      "DEBUG:parsl.executors.high_throughput.executor:Pushing function <function rasterize at 0x7f379b6a1ca0> to queue with args (\"['staged/WorldCRS84Quad/13/912/1058.gpkg', 'staged/WorldCRS84Quad/13/912/1059.gpkg', 'staged/WorldCR...\", \"{'dir_input': 'example-data', 'ext_input': '.gpkg', 'dir_staged': 'staged', 'simplify_tolerance': No...\")\n",
      "INFO:parsl.dataflow.dflow:Task 2 launched on executor htex_local\n",
      "DEBUG:parsl.dataflow.dflow:Task 3 will be sent to executor htex_local\n",
      "DEBUG:parsl.dataflow.dflow:Adding output dependencies\n",
      "INFO:parsl.dataflow.dflow:Task 3 submitted for App rasterize, not waiting on any dependency\n",
      "DEBUG:parsl.dataflow.dflow:Task 3 set to pending state with AppFuture: <AppFuture at 0x7f379b762fd0 state=pending>\n",
      "DEBUG:parsl.dataflow.memoization:Task 3 will not be memoized\n",
      "DEBUG:parsl.executors.high_throughput.executor:Pushing function <function rasterize at 0x7f379b6a1ca0> to queue with args (\"['staged/WorldCRS84Quad/13/898/1080.gpkg', 'staged/WorldCRS84Quad/13/898/1059.gpkg', 'staged/WorldCR...\", \"{'dir_input': 'example-data', 'ext_input': '.gpkg', 'dir_staged': 'staged', 'simplify_tolerance': No...\")\n",
      "INFO:parsl.dataflow.dflow:Task 3 launched on executor htex_local\n",
      "DEBUG:parsl.dataflow.dflow:Task 4 will be sent to executor htex_local\n",
      "DEBUG:parsl.dataflow.dflow:Adding output dependencies\n",
      "INFO:parsl.dataflow.dflow:Task 4 submitted for App rasterize, not waiting on any dependency\n",
      "DEBUG:parsl.dataflow.dflow:Task 4 set to pending state with AppFuture: <AppFuture at 0x7f379b472640 state=pending>\n",
      "DEBUG:parsl.dataflow.memoization:Task 4 will not be memoized\n",
      "DEBUG:parsl.executors.high_throughput.executor:Pushing function <function rasterize at 0x7f379b6a1ca0> to queue with args (\"['staged/WorldCRS84Quad/13/896/1065.gpkg', 'staged/WorldCRS84Quad/13/896/1067.gpkg', 'staged/WorldCR...\", \"{'dir_input': 'example-data', 'ext_input': '.gpkg', 'dir_staged': 'staged', 'simplify_tolerance': No...\")\n",
      "INFO:parsl.dataflow.dflow:Task 4 launched on executor htex_local\n",
      "DEBUG:parsl.dataflow.dflow:Task 5 will be sent to executor htex_local\n",
      "DEBUG:parsl.dataflow.dflow:Adding output dependencies\n",
      "INFO:parsl.dataflow.dflow:Task 5 submitted for App rasterize, not waiting on any dependency\n",
      "DEBUG:parsl.dataflow.dflow:Task 5 set to pending state with AppFuture: <AppFuture at 0x7f379b472070 state=pending>\n",
      "DEBUG:parsl.dataflow.memoization:Task 5 will not be memoized\n",
      "DEBUG:parsl.executors.high_throughput.executor:Pushing function <function rasterize at 0x7f379b6a1ca0> to queue with args (\"['staged/WorldCRS84Quad/13/899/1051.gpkg', 'staged/WorldCRS84Quad/13/899/1052.gpkg', 'staged/WorldCR...\", \"{'dir_input': 'example-data', 'ext_input': '.gpkg', 'dir_staged': 'staged', 'simplify_tolerance': No...\")\n",
      "INFO:parsl.dataflow.dflow:Task 5 launched on executor htex_local\n",
      "DEBUG:parsl.dataflow.dflow:Task 6 will be sent to executor htex_local\n",
      "DEBUG:parsl.dataflow.dflow:Adding output dependencies\n",
      "INFO:parsl.dataflow.dflow:Task 6 submitted for App rasterize, not waiting on any dependency\n",
      "DEBUG:parsl.dataflow.dflow:Task 6 set to pending state with AppFuture: <AppFuture at 0x7f379b472e50 state=pending>\n",
      "DEBUG:parsl.dataflow.memoization:Task 6 will not be memoized\n",
      "DEBUG:parsl.executors.high_throughput.executor:Pushing function <function rasterize at 0x7f379b6a1ca0> to queue with args (\"['staged/WorldCRS84Quad/13/920/1058.gpkg', 'staged/WorldCRS84Quad/13/920/1059.gpkg', 'staged/WorldCR...\", \"{'dir_input': 'example-data', 'ext_input': '.gpkg', 'dir_staged': 'staged', 'simplify_tolerance': No...\")\n",
      "INFO:parsl.dataflow.dflow:Task 6 launched on executor htex_local\n",
      "DEBUG:parsl.dataflow.dflow:Task 7 will be sent to executor htex_local\n",
      "DEBUG:parsl.dataflow.dflow:Adding output dependencies\n",
      "INFO:parsl.dataflow.dflow:Task 7 submitted for App rasterize, not waiting on any dependency\n",
      "DEBUG:parsl.dataflow.dflow:Task 7 set to pending state with AppFuture: <AppFuture at 0x7f379b472f40 state=pending>\n",
      "DEBUG:parsl.dataflow.memoization:Task 7 will not be memoized\n",
      "DEBUG:parsl.executors.high_throughput.executor:Pushing function <function rasterize at 0x7f379b6a1ca0> to queue with args (\"['staged/WorldCRS84Quad/13/921/1079.gpkg', 'staged/WorldCRS84Quad/13/921/1080.gpkg', 'staged/WorldCR...\", \"{'dir_input': 'example-data', 'ext_input': '.gpkg', 'dir_staged': 'staged', 'simplify_tolerance': No...\")\n",
      "INFO:parsl.dataflow.dflow:Task 7 launched on executor htex_local\n",
      "DEBUG:parsl.dataflow.dflow:Task 8 will be sent to executor htex_local\n",
      "DEBUG:parsl.dataflow.dflow:Adding output dependencies\n",
      "INFO:parsl.dataflow.dflow:Task 8 submitted for App rasterize, not waiting on any dependency\n",
      "DEBUG:parsl.dataflow.dflow:Task 8 set to pending state with AppFuture: <AppFuture at 0x7f379b47b910 state=pending>\n",
      "DEBUG:parsl.dataflow.memoization:Task 8 will not be memoized\n",
      "DEBUG:parsl.executors.high_throughput.executor:Pushing function <function rasterize at 0x7f379b6a1ca0> to queue with args (\"['staged/WorldCRS84Quad/13/916/1079.gpkg', 'staged/WorldCRS84Quad/13/916/1080.gpkg', 'staged/WorldCR...\", \"{'dir_input': 'example-data', 'ext_input': '.gpkg', 'dir_staged': 'staged', 'simplify_tolerance': No...\")\n",
      "INFO:parsl.dataflow.dflow:Task 8 launched on executor htex_local\n",
      "DEBUG:parsl.dataflow.dflow:Task 9 will be sent to executor htex_local\n",
      "DEBUG:parsl.dataflow.dflow:Adding output dependencies\n",
      "INFO:parsl.dataflow.dflow:Task 9 submitted for App rasterize, not waiting on any dependency\n",
      "DEBUG:parsl.dataflow.dflow:Task 9 set to pending state with AppFuture: <AppFuture at 0x7f379b47b670 state=pending>\n",
      "DEBUG:parsl.dataflow.memoization:Task 9 will not be memoized\n",
      "DEBUG:parsl.executors.high_throughput.executor:Pushing function <function rasterize at 0x7f379b6a1ca0> to queue with args (\"['staged/WorldCRS84Quad/13/922/1081.gpkg', 'staged/WorldCRS84Quad/13/922/1082.gpkg', 'staged/WorldCR...\", \"{'dir_input': 'example-data', 'ext_input': '.gpkg', 'dir_staged': 'staged', 'simplify_tolerance': No...\")\n",
      "INFO:parsl.dataflow.dflow:Task 9 launched on executor htex_local\n",
      "DEBUG:parsl.dataflow.dflow:Task 10 will be sent to executor htex_local\n",
      "DEBUG:parsl.dataflow.dflow:Adding output dependencies\n",
      "INFO:parsl.dataflow.dflow:Task 10 submitted for App rasterize, not waiting on any dependency\n",
      "DEBUG:parsl.dataflow.dflow:Task 10 set to pending state with AppFuture: <AppFuture at 0x7f379b472310 state=pending>\n",
      "DEBUG:parsl.dataflow.memoization:Task 10 will not be memoized\n",
      "DEBUG:parsl.executors.high_throughput.executor:Pushing function <function rasterize at 0x7f379b6a1ca0> to queue with args (\"['staged/WorldCRS84Quad/13/923/1080.gpkg', 'staged/WorldCRS84Quad/13/923/1081.gpkg', 'staged/WorldCR...\", \"{'dir_input': 'example-data', 'ext_input': '.gpkg', 'dir_staged': 'staged', 'simplify_tolerance': No...\")\n",
      "INFO:parsl.dataflow.dflow:Task 10 launched on executor htex_local\n",
      "DEBUG:parsl.dataflow.dflow:Task 11 will be sent to executor htex_local\n",
      "DEBUG:parsl.dataflow.dflow:Adding output dependencies\n",
      "INFO:parsl.dataflow.dflow:Task 11 submitted for App rasterize, not waiting on any dependency\n",
      "DEBUG:parsl.dataflow.dflow:Task 11 set to pending state with AppFuture: <AppFuture at 0x7f379b47b520 state=pending>\n",
      "DEBUG:parsl.dataflow.memoization:Task 11 will not be memoized\n",
      "DEBUG:parsl.executors.high_throughput.executor:Pushing function <function rasterize at 0x7f379b6a1ca0> to queue with args (\"['staged/WorldCRS84Quad/13/901/1055.gpkg', 'staged/WorldCRS84Quad/13/901/1056.gpkg', 'staged/WorldCR...\", \"{'dir_input': 'example-data', 'ext_input': '.gpkg', 'dir_staged': 'staged', 'simplify_tolerance': No...\")\n",
      "INFO:parsl.dataflow.dflow:Task 11 launched on executor htex_local\n",
      "DEBUG:parsl.dataflow.dflow:Task 12 will be sent to executor htex_local\n",
      "DEBUG:parsl.dataflow.dflow:Adding output dependencies\n",
      "INFO:parsl.dataflow.dflow:Task 12 submitted for App rasterize, not waiting on any dependency\n",
      "DEBUG:parsl.dataflow.dflow:Task 12 set to pending state with AppFuture: <AppFuture at 0x7f379b46c1f0 state=pending>\n",
      "DEBUG:parsl.dataflow.memoization:Task 12 will not be memoized\n",
      "DEBUG:parsl.executors.high_throughput.executor:Pushing function <function rasterize at 0x7f379b6a1ca0> to queue with args (\"['staged/WorldCRS84Quad/13/925/1086.gpkg', 'staged/WorldCRS84Quad/13/925/1073.gpkg', 'staged/WorldCR...\", \"{'dir_input': 'example-data', 'ext_input': '.gpkg', 'dir_staged': 'staged', 'simplify_tolerance': No...\")\n",
      "INFO:parsl.dataflow.dflow:Task 12 launched on executor htex_local\n",
      "DEBUG:parsl.dataflow.dflow:Task 13 will be sent to executor htex_local\n",
      "DEBUG:parsl.dataflow.dflow:Adding output dependencies\n",
      "INFO:parsl.dataflow.dflow:Task 13 submitted for App rasterize, not waiting on any dependency\n",
      "DEBUG:parsl.dataflow.dflow:Task 13 set to pending state with AppFuture: <AppFuture at 0x7f379b46c4f0 state=pending>\n",
      "DEBUG:parsl.dataflow.memoization:Task 13 will not be memoized\n",
      "DEBUG:parsl.executors.high_throughput.executor:Pushing function <function rasterize at 0x7f379b6a1ca0> to queue with args (\"['staged/WorldCRS84Quad/13/926/1054.gpkg', 'staged/WorldCRS84Quad/13/926/1055.gpkg', 'staged/WorldCR...\", \"{'dir_input': 'example-data', 'ext_input': '.gpkg', 'dir_staged': 'staged', 'simplify_tolerance': No...\")\n",
      "INFO:parsl.dataflow.dflow:Task 13 launched on executor htex_local\n",
      "DEBUG:parsl.dataflow.dflow:Task 14 will be sent to executor htex_local\n",
      "DEBUG:parsl.dataflow.dflow:Adding output dependencies\n",
      "INFO:parsl.dataflow.dflow:Task 14 submitted for App rasterize, not waiting on any dependency\n",
      "DEBUG:parsl.dataflow.dflow:Task 14 set to pending state with AppFuture: <AppFuture at 0x7f379b46cac0 state=pending>\n",
      "DEBUG:parsl.dataflow.memoization:Task 14 will not be memoized\n",
      "DEBUG:parsl.executors.high_throughput.executor:Pushing function <function rasterize at 0x7f379b6a1ca0> to queue with args (\"['staged/WorldCRS84Quad/13/892/1052.gpkg', 'staged/WorldCRS84Quad/13/892/1053.gpkg', 'staged/WorldCR...\", \"{'dir_input': 'example-data', 'ext_input': '.gpkg', 'dir_staged': 'staged', 'simplify_tolerance': No...\")\n",
      "INFO:parsl.dataflow.dflow:Task 14 launched on executor htex_local\n",
      "DEBUG:parsl.dataflow.dflow:Task 15 will be sent to executor htex_local\n",
      "DEBUG:parsl.dataflow.dflow:Adding output dependencies\n",
      "INFO:parsl.dataflow.dflow:Task 15 submitted for App rasterize, not waiting on any dependency\n",
      "DEBUG:parsl.dataflow.dflow:Task 15 set to pending state with AppFuture: <AppFuture at 0x7f379b46cee0 state=pending>\n",
      "DEBUG:parsl.dataflow.memoization:Task 15 will not be memoized\n",
      "DEBUG:parsl.executors.high_throughput.executor:Pushing function <function rasterize at 0x7f379b6a1ca0> to queue with args (\"['staged/WorldCRS84Quad/13/893/1083.gpkg', 'staged/WorldCRS84Quad/13/893/1084.gpkg', 'staged/WorldCR...\", \"{'dir_input': 'example-data', 'ext_input': '.gpkg', 'dir_staged': 'staged', 'simplify_tolerance': No...\")\n",
      "INFO:parsl.dataflow.dflow:Task 15 launched on executor htex_local\n",
      "DEBUG:parsl.dataflow.dflow:Task 16 will be sent to executor htex_local\n",
      "DEBUG:parsl.dataflow.dflow:Adding output dependencies\n",
      "INFO:parsl.dataflow.dflow:Task 16 submitted for App rasterize, not waiting on any dependency\n",
      "DEBUG:parsl.dataflow.dflow:Task 16 set to pending state with AppFuture: <AppFuture at 0x7f379b4683d0 state=pending>\n",
      "DEBUG:parsl.dataflow.memoization:Task 16 will not be memoized\n",
      "DEBUG:parsl.executors.high_throughput.executor:Pushing function <function rasterize at 0x7f379b6a1ca0> to queue with args (\"['staged/WorldCRS84Quad/13/929/1081.gpkg', 'staged/WorldCRS84Quad/13/929/1082.gpkg', 'staged/WorldCR...\", \"{'dir_input': 'example-data', 'ext_input': '.gpkg', 'dir_staged': 'staged', 'simplify_tolerance': No...\")\n",
      "INFO:parsl.dataflow.dflow:Task 16 launched on executor htex_local\n",
      "DEBUG:parsl.dataflow.dflow:Task 17 will be sent to executor htex_local\n",
      "DEBUG:parsl.dataflow.dflow:Adding output dependencies\n",
      "INFO:parsl.dataflow.dflow:Task 17 submitted for App rasterize, not waiting on any dependency\n",
      "DEBUG:parsl.dataflow.dflow:Task 17 set to pending state with AppFuture: <AppFuture at 0x7f379b46c9a0 state=pending>\n",
      "DEBUG:parsl.dataflow.memoization:Task 17 will not be memoized\n",
      "DEBUG:parsl.executors.high_throughput.executor:Pushing function <function rasterize at 0x7f379b6a1ca0> to queue with args (\"['staged/WorldCRS84Quad/13/953/1079.gpkg', 'staged/WorldCRS84Quad/13/953/1080.gpkg', 'staged/WorldCR...\", \"{'dir_input': 'example-data', 'ext_input': '.gpkg', 'dir_staged': 'staged', 'simplify_tolerance': No...\")\n",
      "INFO:parsl.dataflow.dflow:Task 17 launched on executor htex_local\n",
      "DEBUG:parsl.dataflow.dflow:Task 18 will be sent to executor htex_local\n",
      "DEBUG:parsl.dataflow.dflow:Adding output dependencies\n",
      "INFO:parsl.dataflow.dflow:Task 18 submitted for App rasterize, not waiting on any dependency\n",
      "DEBUG:parsl.dataflow.dflow:Task 18 set to pending state with AppFuture: <AppFuture at 0x7f379b468910 state=pending>\n",
      "DEBUG:parsl.dataflow.memoization:Task 18 will not be memoized\n",
      "DEBUG:parsl.executors.high_throughput.executor:Pushing function <function rasterize at 0x7f379b6a1ca0> to queue with args (\"['staged/WorldCRS84Quad/13/954/1071.gpkg', 'staged/WorldCRS84Quad/13/954/1072.gpkg', 'staged/WorldCR...\", \"{'dir_input': 'example-data', 'ext_input': '.gpkg', 'dir_staged': 'staged', 'simplify_tolerance': No...\")\n",
      "INFO:parsl.dataflow.dflow:Task 18 launched on executor htex_local\n",
      "DEBUG:parsl.dataflow.dflow:Task 19 will be sent to executor htex_local\n",
      "DEBUG:parsl.dataflow.dflow:Adding output dependencies\n",
      "INFO:parsl.dataflow.dflow:Task 19 submitted for App rasterize, not waiting on any dependency\n",
      "DEBUG:parsl.dataflow.dflow:Task 19 set to pending state with AppFuture: <AppFuture at 0x7f379b468a30 state=pending>\n",
      "DEBUG:parsl.dataflow.memoization:Task 19 will not be memoized\n",
      "DEBUG:parsl.executors.high_throughput.executor:Pushing function <function rasterize at 0x7f379b6a1ca0> to queue with args (\"['staged/WorldCRS84Quad/13/930/1076.gpkg', 'staged/WorldCRS84Quad/13/930/1077.gpkg', 'staged/WorldCR...\", \"{'dir_input': 'example-data', 'ext_input': '.gpkg', 'dir_staged': 'staged', 'simplify_tolerance': No...\")\n",
      "INFO:parsl.dataflow.dflow:Task 19 launched on executor htex_local\n",
      "DEBUG:parsl.dataflow.dflow:Task 20 will be sent to executor htex_local\n",
      "DEBUG:parsl.dataflow.dflow:Adding output dependencies\n",
      "INFO:parsl.dataflow.dflow:Task 20 submitted for App rasterize, not waiting on any dependency\n",
      "DEBUG:parsl.dataflow.dflow:Task 20 set to pending state with AppFuture: <AppFuture at 0x7f379b469310 state=pending>\n",
      "DEBUG:parsl.dataflow.memoization:Task 20 will not be memoized\n",
      "DEBUG:parsl.executors.high_throughput.executor:Pushing function <function rasterize at 0x7f379b6a1ca0> to queue with args (\"['staged/WorldCRS84Quad/13/903/1060.gpkg', 'staged/WorldCRS84Quad/13/903/1061.gpkg', 'staged/WorldCR...\", \"{'dir_input': 'example-data', 'ext_input': '.gpkg', 'dir_staged': 'staged', 'simplify_tolerance': No...\")\n",
      "INFO:parsl.dataflow.dflow:Task 20 launched on executor htex_local\n",
      "DEBUG:parsl.dataflow.dflow:Task 21 will be sent to executor htex_local\n",
      "DEBUG:parsl.dataflow.dflow:Adding output dependencies\n",
      "INFO:parsl.dataflow.dflow:Task 21 submitted for App rasterize, not waiting on any dependency\n",
      "DEBUG:parsl.dataflow.dflow:Task 21 set to pending state with AppFuture: <AppFuture at 0x7f379b469700 state=pending>\n",
      "DEBUG:parsl.dataflow.memoization:Task 21 will not be memoized\n",
      "DEBUG:parsl.executors.high_throughput.executor:Pushing function <function rasterize at 0x7f379b6a1ca0> to queue with args (\"['staged/WorldCRS84Quad/13/955/1077.gpkg', 'staged/WorldCRS84Quad/13/955/1078.gpkg', 'staged/WorldCR...\", \"{'dir_input': 'example-data', 'ext_input': '.gpkg', 'dir_staged': 'staged', 'simplify_tolerance': No...\")\n",
      "INFO:parsl.dataflow.dflow:Task 21 launched on executor htex_local\n",
      "DEBUG:parsl.dataflow.dflow:Task 22 will be sent to executor htex_local\n",
      "DEBUG:parsl.dataflow.dflow:Adding output dependencies\n",
      "INFO:parsl.dataflow.dflow:Task 22 submitted for App rasterize, not waiting on any dependency\n",
      "DEBUG:parsl.dataflow.dflow:Task 22 set to pending state with AppFuture: <AppFuture at 0x7f379b469b50 state=pending>\n",
      "DEBUG:parsl.dataflow.memoization:Task 22 will not be memoized\n",
      "DEBUG:parsl.executors.high_throughput.executor:Pushing function <function rasterize at 0x7f379b6a1ca0> to queue with args (\"['staged/WorldCRS84Quad/13/905/1081.gpkg', 'staged/WorldCRS84Quad/13/905/1082.gpkg', 'staged/WorldCR...\", \"{'dir_input': 'example-data', 'ext_input': '.gpkg', 'dir_staged': 'staged', 'simplify_tolerance': No...\")\n",
      "INFO:parsl.dataflow.dflow:Task 22 launched on executor htex_local\n",
      "DEBUG:parsl.dataflow.dflow:Task 23 will be sent to executor htex_local\n",
      "DEBUG:parsl.dataflow.dflow:Adding output dependencies\n",
      "INFO:parsl.dataflow.dflow:Task 23 submitted for App rasterize, not waiting on any dependency\n",
      "DEBUG:parsl.dataflow.dflow:Task 23 set to pending state with AppFuture: <AppFuture at 0x7f379b469fa0 state=pending>\n",
      "DEBUG:parsl.dataflow.memoization:Task 23 will not be memoized\n",
      "DEBUG:parsl.executors.high_throughput.executor:Pushing function <function rasterize at 0x7f379b6a1ca0> to queue with args (\"['staged/WorldCRS84Quad/13/907/1083.gpkg', 'staged/WorldCRS84Quad/13/907/1084.gpkg', 'staged/WorldCR...\", \"{'dir_input': 'example-data', 'ext_input': '.gpkg', 'dir_staged': 'staged', 'simplify_tolerance': No...\")\n",
      "INFO:parsl.dataflow.dflow:Task 23 launched on executor htex_local\n",
      "DEBUG:parsl.dataflow.dflow:Task 24 will be sent to executor htex_local\n",
      "DEBUG:parsl.dataflow.dflow:Adding output dependencies\n",
      "INFO:parsl.dataflow.dflow:Task 24 submitted for App rasterize, not waiting on any dependency\n",
      "DEBUG:parsl.dataflow.dflow:Task 24 set to pending state with AppFuture: <AppFuture at 0x7f379b4641c0 state=pending>\n",
      "DEBUG:parsl.dataflow.memoization:Task 24 will not be memoized\n",
      "DEBUG:parsl.executors.high_throughput.executor:Pushing function <function rasterize at 0x7f379b6a1ca0> to queue with args (\"['staged/WorldCRS84Quad/13/938/1068.gpkg', 'staged/WorldCRS84Quad/13/938/1069.gpkg', 'staged/WorldCR...\", \"{'dir_input': 'example-data', 'ext_input': '.gpkg', 'dir_staged': 'staged', 'simplify_tolerance': No...\")\n",
      "INFO:parsl.dataflow.dflow:Task 24 launched on executor htex_local\n",
      "DEBUG:parsl.dataflow.dflow:Task 25 will be sent to executor htex_local\n",
      "DEBUG:parsl.dataflow.dflow:Adding output dependencies\n",
      "INFO:parsl.dataflow.dflow:Task 25 submitted for App rasterize, not waiting on any dependency\n",
      "DEBUG:parsl.dataflow.dflow:Task 25 set to pending state with AppFuture: <AppFuture at 0x7f379b468280 state=pending>\n",
      "DEBUG:parsl.dataflow.memoization:Task 25 will not be memoized\n",
      "DEBUG:parsl.executors.high_throughput.executor:Pushing function <function rasterize at 0x7f379b6a1ca0> to queue with args (\"['staged/WorldCRS84Quad/13/956/1077.gpkg', 'staged/WorldCRS84Quad/13/956/1078.gpkg', 'staged/WorldCR...\", \"{'dir_input': 'example-data', 'ext_input': '.gpkg', 'dir_staged': 'staged', 'simplify_tolerance': No...\")\n",
      "INFO:parsl.dataflow.dflow:Task 25 launched on executor htex_local\n",
      "DEBUG:parsl.dataflow.dflow:Task 26 will be sent to executor htex_local\n",
      "DEBUG:parsl.dataflow.dflow:Adding output dependencies\n",
      "INFO:parsl.dataflow.dflow:Task 26 submitted for App rasterize, not waiting on any dependency\n",
      "DEBUG:parsl.dataflow.dflow:Task 26 set to pending state with AppFuture: <AppFuture at 0x7f379b4644c0 state=pending>\n",
      "DEBUG:parsl.dataflow.memoization:Task 26 will not be memoized\n",
      "DEBUG:parsl.executors.high_throughput.executor:Pushing function <function rasterize at 0x7f379b6a1ca0> to queue with args (\"['staged/WorldCRS84Quad/13/939/1067.gpkg', 'staged/WorldCRS84Quad/13/939/1068.gpkg', 'staged/WorldCR...\", \"{'dir_input': 'example-data', 'ext_input': '.gpkg', 'dir_staged': 'staged', 'simplify_tolerance': No...\")\n",
      "INFO:parsl.dataflow.dflow:Task 26 launched on executor htex_local\n",
      "DEBUG:parsl.dataflow.dflow:Task 27 will be sent to executor htex_local\n",
      "DEBUG:parsl.dataflow.dflow:Adding output dependencies\n",
      "INFO:parsl.dataflow.dflow:Task 27 submitted for App rasterize, not waiting on any dependency\n",
      "DEBUG:parsl.dataflow.dflow:Task 27 set to pending state with AppFuture: <AppFuture at 0x7f379b464760 state=pending>\n",
      "DEBUG:parsl.dataflow.memoization:Task 27 will not be memoized\n",
      "DEBUG:parsl.executors.high_throughput.executor:Pushing function <function rasterize at 0x7f379b6a1ca0> to queue with args (\"['staged/WorldCRS84Quad/13/957/1055.gpkg', 'staged/WorldCRS84Quad/13/957/1056.gpkg', 'staged/WorldCR...\", \"{'dir_input': 'example-data', 'ext_input': '.gpkg', 'dir_staged': 'staged', 'simplify_tolerance': No...\")\n",
      "INFO:parsl.dataflow.dflow:Task 27 launched on executor htex_local\n",
      "DEBUG:parsl.dataflow.dflow:Task 28 will be sent to executor htex_local\n",
      "DEBUG:parsl.dataflow.dflow:Adding output dependencies\n",
      "INFO:parsl.dataflow.dflow:Task 28 submitted for App rasterize, not waiting on any dependency\n",
      "DEBUG:parsl.dataflow.dflow:Task 28 set to pending state with AppFuture: <AppFuture at 0x7f379b464850 state=pending>\n",
      "DEBUG:parsl.dataflow.memoization:Task 28 will not be memoized\n",
      "DEBUG:parsl.executors.high_throughput.executor:Pushing function <function rasterize at 0x7f379b6a1ca0> to queue with args (\"['staged/WorldCRS84Quad/13/958/1084.gpkg', 'staged/WorldCRS84Quad/13/958/1073.gpkg', 'staged/WorldCR...\", \"{'dir_input': 'example-data', 'ext_input': '.gpkg', 'dir_staged': 'staged', 'simplify_tolerance': No...\")\n",
      "INFO:parsl.dataflow.dflow:Task 28 launched on executor htex_local\n",
      "DEBUG:parsl.dataflow.dflow:Task 29 will be sent to executor htex_local\n",
      "DEBUG:parsl.dataflow.dflow:Adding output dependencies\n",
      "INFO:parsl.dataflow.dflow:Task 29 submitted for App rasterize, not waiting on any dependency\n",
      "DEBUG:parsl.dataflow.dflow:Task 29 set to pending state with AppFuture: <AppFuture at 0x7f379b464c40 state=pending>\n",
      "DEBUG:parsl.dataflow.memoization:Task 29 will not be memoized\n",
      "DEBUG:parsl.executors.high_throughput.executor:Pushing function <function rasterize at 0x7f379b6a1ca0> to queue with args (\"['staged/WorldCRS84Quad/13/941/1060.gpkg', 'staged/WorldCRS84Quad/13/941/1061.gpkg', 'staged/WorldCR...\", \"{'dir_input': 'example-data', 'ext_input': '.gpkg', 'dir_staged': 'staged', 'simplify_tolerance': No...\")\n",
      "INFO:parsl.dataflow.dflow:Task 29 launched on executor htex_local\n",
      "DEBUG:parsl.dataflow.dflow:Task 30 will be sent to executor htex_local\n",
      "DEBUG:parsl.dataflow.dflow:Adding output dependencies\n",
      "INFO:parsl.dataflow.dflow:Task 30 submitted for App rasterize, not waiting on any dependency\n",
      "DEBUG:parsl.dataflow.dflow:Task 30 set to pending state with AppFuture: <AppFuture at 0x7f379b464e80 state=pending>\n",
      "DEBUG:parsl.dataflow.memoization:Task 30 will not be memoized\n",
      "DEBUG:parsl.executors.high_throughput.executor:Pushing function <function rasterize at 0x7f379b6a1ca0> to queue with args (\"['staged/WorldCRS84Quad/13/960/1073.gpkg', 'staged/WorldCRS84Quad/13/960/1074.gpkg', 'staged/WorldCR...\", \"{'dir_input': 'example-data', 'ext_input': '.gpkg', 'dir_staged': 'staged', 'simplify_tolerance': No...\")\n",
      "INFO:parsl.dataflow.dflow:Task 30 launched on executor htex_local\n",
      "DEBUG:parsl.dataflow.dflow:Task 31 will be sent to executor htex_local\n",
      "DEBUG:parsl.dataflow.dflow:Adding output dependencies\n",
      "INFO:parsl.dataflow.dflow:Task 31 submitted for App rasterize, not waiting on any dependency\n",
      "DEBUG:parsl.dataflow.dflow:Task 31 set to pending state with AppFuture: <AppFuture at 0x7f379b464ee0 state=pending>\n",
      "DEBUG:parsl.dataflow.memoization:Task 31 will not be memoized\n",
      "DEBUG:parsl.executors.high_throughput.executor:Pushing function <function rasterize at 0x7f379b6a1ca0> to queue with args (\"['staged/WorldCRS84Quad/13/942/1061.gpkg', 'staged/WorldCRS84Quad/13/942/1062.gpkg', 'staged/WorldCR...\", \"{'dir_input': 'example-data', 'ext_input': '.gpkg', 'dir_staged': 'staged', 'simplify_tolerance': No...\")\n",
      "INFO:parsl.dataflow.dflow:Task 31 launched on executor htex_local\n",
      "DEBUG:parsl.dataflow.dflow:Task 32 will be sent to executor htex_local\n",
      "DEBUG:parsl.dataflow.dflow:Adding output dependencies\n",
      "INFO:parsl.dataflow.dflow:Task 32 submitted for App rasterize, not waiting on any dependency\n",
      "DEBUG:parsl.dataflow.dflow:Task 32 set to pending state with AppFuture: <AppFuture at 0x7f379b462490 state=pending>\n",
      "DEBUG:parsl.dataflow.memoization:Task 32 will not be memoized\n",
      "DEBUG:parsl.executors.high_throughput.executor:Pushing function <function rasterize at 0x7f379b6a1ca0> to queue with args (\"['staged/WorldCRS84Quad/13/961/1058.gpkg', 'staged/WorldCRS84Quad/13/961/1059.gpkg', 'staged/WorldCR...\", \"{'dir_input': 'example-data', 'ext_input': '.gpkg', 'dir_staged': 'staged', 'simplify_tolerance': No...\")\n",
      "INFO:parsl.dataflow.dflow:Task 32 launched on executor htex_local\n",
      "DEBUG:parsl.dataflow.dflow:Task 33 will be sent to executor htex_local\n",
      "DEBUG:parsl.dataflow.dflow:Adding output dependencies\n",
      "INFO:parsl.dataflow.dflow:Task 33 submitted for App rasterize, not waiting on any dependency\n",
      "DEBUG:parsl.dataflow.dflow:Task 33 set to pending state with AppFuture: <AppFuture at 0x7f379b462700 state=pending>\n",
      "DEBUG:parsl.dataflow.memoization:Task 33 will not be memoized\n",
      "DEBUG:parsl.executors.high_throughput.executor:Pushing function <function rasterize at 0x7f379b6a1ca0> to queue with args (\"['staged/WorldCRS84Quad/13/943/1063.gpkg', 'staged/WorldCRS84Quad/13/943/1064.gpkg', 'staged/WorldCR...\", \"{'dir_input': 'example-data', 'ext_input': '.gpkg', 'dir_staged': 'staged', 'simplify_tolerance': No...\")\n",
      "INFO:parsl.dataflow.dflow:Task 33 launched on executor htex_local\n",
      "DEBUG:parsl.dataflow.dflow:Task 34 will be sent to executor htex_local\n",
      "DEBUG:parsl.dataflow.dflow:Adding output dependencies\n",
      "INFO:parsl.dataflow.dflow:Task 34 submitted for App rasterize, not waiting on any dependency\n",
      "DEBUG:parsl.dataflow.dflow:Task 34 set to pending state with AppFuture: <AppFuture at 0x7f379b462970 state=pending>\n",
      "DEBUG:parsl.dataflow.memoization:Task 34 will not be memoized\n",
      "DEBUG:parsl.executors.high_throughput.executor:Pushing function <function rasterize at 0x7f379b6a1ca0> to queue with args (\"['staged/WorldCRS84Quad/13/932/1070.gpkg', 'staged/WorldCRS84Quad/13/932/1071.gpkg', 'staged/WorldCR...\", \"{'dir_input': 'example-data', 'ext_input': '.gpkg', 'dir_staged': 'staged', 'simplify_tolerance': No...\")\n",
      "INFO:parsl.dataflow.dflow:Task 34 launched on executor htex_local\n",
      "DEBUG:parsl.dataflow.dflow:Task 35 will be sent to executor htex_local\n",
      "DEBUG:parsl.dataflow.dflow:Adding output dependencies\n",
      "INFO:parsl.dataflow.dflow:Task 35 submitted for App rasterize, not waiting on any dependency\n",
      "DEBUG:parsl.dataflow.dflow:Task 35 set to pending state with AppFuture: <AppFuture at 0x7f379b462be0 state=pending>\n",
      "DEBUG:parsl.dataflow.memoization:Task 35 will not be memoized\n",
      "DEBUG:parsl.executors.high_throughput.executor:Pushing function <function rasterize at 0x7f379b6a1ca0> to queue with args (\"['staged/WorldCRS84Quad/13/944/1074.gpkg', 'staged/WorldCRS84Quad/13/944/1075.gpkg', 'staged/WorldCR...\", \"{'dir_input': 'example-data', 'ext_input': '.gpkg', 'dir_staged': 'staged', 'simplify_tolerance': No...\")\n",
      "INFO:parsl.dataflow.dflow:Task 35 launched on executor htex_local\n",
      "DEBUG:parsl.dataflow.dflow:Task 36 will be sent to executor htex_local\n",
      "DEBUG:parsl.dataflow.dflow:Adding output dependencies\n",
      "INFO:parsl.dataflow.dflow:Task 36 submitted for App rasterize, not waiting on any dependency\n",
      "DEBUG:parsl.dataflow.dflow:Task 36 set to pending state with AppFuture: <AppFuture at 0x7f379b462e50 state=pending>\n",
      "DEBUG:parsl.dataflow.memoization:Task 36 will not be memoized\n",
      "DEBUG:parsl.executors.high_throughput.executor:Pushing function <function rasterize at 0x7f379b6a1ca0> to queue with args (\"['staged/WorldCRS84Quad/13/964/1060.gpkg', 'staged/WorldCRS84Quad/13/964/1061.gpkg', 'staged/WorldCR...\", \"{'dir_input': 'example-data', 'ext_input': '.gpkg', 'dir_staged': 'staged', 'simplify_tolerance': No...\")\n",
      "INFO:parsl.dataflow.dflow:Task 36 launched on executor htex_local\n",
      "DEBUG:parsl.dataflow.dflow:Task 37 will be sent to executor htex_local\n",
      "DEBUG:parsl.dataflow.dflow:Adding output dependencies\n",
      "INFO:parsl.dataflow.dflow:Task 37 submitted for App rasterize, not waiting on any dependency\n",
      "DEBUG:parsl.dataflow.dflow:Task 37 set to pending state with AppFuture: <AppFuture at 0x7f379b462d30 state=pending>\n",
      "DEBUG:parsl.dataflow.memoization:Task 37 will not be memoized\n",
      "DEBUG:parsl.executors.high_throughput.executor:Pushing function <function rasterize at 0x7f379b6a1ca0> to queue with args (\"['staged/WorldCRS84Quad/13/965/1083.gpkg', 'staged/WorldCRS84Quad/13/965/1084.gpkg', 'staged/WorldCR...\", \"{'dir_input': 'example-data', 'ext_input': '.gpkg', 'dir_staged': 'staged', 'simplify_tolerance': No...\")\n",
      "INFO:parsl.dataflow.dflow:Task 37 launched on executor htex_local\n",
      "DEBUG:parsl.dataflow.dflow:Task 38 will be sent to executor htex_local\n",
      "DEBUG:parsl.dataflow.dflow:Adding output dependencies\n",
      "INFO:parsl.dataflow.dflow:Task 38 submitted for App rasterize, not waiting on any dependency\n",
      "DEBUG:parsl.dataflow.dflow:Task 38 set to pending state with AppFuture: <AppFuture at 0x7f379b45e280 state=pending>\n",
      "DEBUG:parsl.dataflow.memoization:Task 38 will not be memoized\n",
      "DEBUG:parsl.executors.high_throughput.executor:Pushing function <function rasterize at 0x7f379b6a1ca0> to queue with args (\"['staged/WorldCRS84Quad/13/934/1079.gpkg', 'staged/WorldCRS84Quad/13/934/1080.gpkg', 'staged/WorldCR...\", \"{'dir_input': 'example-data', 'ext_input': '.gpkg', 'dir_staged': 'staged', 'simplify_tolerance': No...\")\n",
      "INFO:parsl.dataflow.dflow:Task 38 launched on executor htex_local\n",
      "DEBUG:parsl.dataflow.dflow:Task 39 will be sent to executor htex_local\n",
      "DEBUG:parsl.dataflow.dflow:Adding output dependencies\n",
      "INFO:parsl.dataflow.dflow:Task 39 submitted for App rasterize, not waiting on any dependency\n",
      "DEBUG:parsl.dataflow.dflow:Task 39 set to pending state with AppFuture: <AppFuture at 0x7f379b45e580 state=pending>\n",
      "DEBUG:parsl.dataflow.memoization:Task 39 will not be memoized\n",
      "DEBUG:parsl.executors.high_throughput.executor:Pushing function <function rasterize at 0x7f379b6a1ca0> to queue with args (\"['staged/WorldCRS84Quad/13/946/1062.gpkg', 'staged/WorldCRS84Quad/13/946/1065.gpkg', 'staged/WorldCR...\", \"{'dir_input': 'example-data', 'ext_input': '.gpkg', 'dir_staged': 'staged', 'simplify_tolerance': No...\")\n",
      "INFO:parsl.dataflow.dflow:Task 39 launched on executor htex_local\n",
      "DEBUG:parsl.dataflow.dflow:Task 40 will be sent to executor htex_local\n",
      "DEBUG:parsl.dataflow.dflow:Adding output dependencies\n",
      "INFO:parsl.dataflow.dflow:Task 40 submitted for App rasterize, not waiting on any dependency\n",
      "DEBUG:parsl.dataflow.dflow:Task 40 set to pending state with AppFuture: <AppFuture at 0x7f379b45e520 state=pending>\n",
      "DEBUG:parsl.dataflow.memoization:Task 40 will not be memoized\n",
      "DEBUG:parsl.executors.high_throughput.executor:Pushing function <function rasterize at 0x7f379b6a1ca0> to queue with args (\"['staged/WorldCRS84Quad/13/947/1078.gpkg', 'staged/WorldCRS84Quad/13/947/1081.gpkg', 'staged/WorldCR...\", \"{'dir_input': 'example-data', 'ext_input': '.gpkg', 'dir_staged': 'staged', 'simplify_tolerance': No...\")\n",
      "INFO:parsl.dataflow.dflow:Task 40 launched on executor htex_local\n",
      "DEBUG:parsl.dataflow.dflow:Task 41 will be sent to executor htex_local\n",
      "DEBUG:parsl.dataflow.dflow:Adding output dependencies\n",
      "INFO:parsl.dataflow.dflow:Task 41 submitted for App rasterize, not waiting on any dependency\n",
      "DEBUG:parsl.dataflow.dflow:Task 41 set to pending state with AppFuture: <AppFuture at 0x7f379b45eac0 state=pending>\n",
      "DEBUG:parsl.dataflow.memoization:Task 41 will not be memoized\n",
      "DEBUG:parsl.executors.high_throughput.executor:Pushing function <function rasterize at 0x7f379b6a1ca0> to queue with args (\"['staged/WorldCRS84Quad/13/936/1061.gpkg', 'staged/WorldCRS84Quad/13/936/1058.gpkg', 'staged/WorldCR...\", \"{'dir_input': 'example-data', 'ext_input': '.gpkg', 'dir_staged': 'staged', 'simplify_tolerance': No...\")\n",
      "INFO:parsl.dataflow.dflow:Task 41 launched on executor htex_local\n",
      "DEBUG:parsl.dataflow.dflow:Task 42 will be sent to executor htex_local\n",
      "DEBUG:parsl.dataflow.dflow:Adding output dependencies\n",
      "INFO:parsl.dataflow.dflow:Task 42 submitted for App rasterize, not waiting on any dependency\n",
      "DEBUG:parsl.dataflow.dflow:Task 42 set to pending state with AppFuture: <AppFuture at 0x7f379b45ed30 state=pending>\n",
      "DEBUG:parsl.dataflow.memoization:Task 42 will not be memoized\n",
      "DEBUG:parsl.executors.high_throughput.executor:Pushing function <function rasterize at 0x7f379b6a1ca0> to queue with args (\"['staged/WorldCRS84Quad/13/949/1074.gpkg', 'staged/WorldCRS84Quad/13/949/1075.gpkg', 'staged/WorldCR...\", \"{'dir_input': 'example-data', 'ext_input': '.gpkg', 'dir_staged': 'staged', 'simplify_tolerance': No...\")\n",
      "INFO:parsl.dataflow.dflow:Task 42 launched on executor htex_local\n",
      "DEBUG:parsl.dataflow.dflow:Task 43 will be sent to executor htex_local\n",
      "DEBUG:parsl.dataflow.dflow:Adding output dependencies\n",
      "INFO:parsl.dataflow.dflow:Task 43 submitted for App rasterize, not waiting on any dependency\n",
      "DEBUG:parsl.dataflow.dflow:Task 43 set to pending state with AppFuture: <AppFuture at 0x7f379b46cd30 state=pending>\n",
      "DEBUG:parsl.dataflow.memoization:Task 43 will not be memoized\n",
      "DEBUG:parsl.executors.high_throughput.executor:Pushing function <function rasterize at 0x7f379b6a1ca0> to queue with args (\"['staged/WorldCRS84Quad/13/950/1055.gpkg', 'staged/WorldCRS84Quad/13/950/1056.gpkg', 'staged/WorldCR...\", \"{'dir_input': 'example-data', 'ext_input': '.gpkg', 'dir_staged': 'staged', 'simplify_tolerance': No...\")\n",
      "INFO:parsl.dataflow.dflow:Task 43 launched on executor htex_local\n",
      "DEBUG:parsl.dataflow.dflow:Task 44 will be sent to executor htex_local\n",
      "DEBUG:parsl.dataflow.dflow:Adding output dependencies\n",
      "INFO:parsl.dataflow.dflow:Task 44 submitted for App rasterize, not waiting on any dependency\n",
      "DEBUG:parsl.dataflow.dflow:Task 44 set to pending state with AppFuture: <AppFuture at 0x7f379b464b20 state=pending>\n",
      "DEBUG:parsl.dataflow.memoization:Task 44 will not be memoized\n",
      "DEBUG:parsl.executors.high_throughput.executor:Pushing function <function rasterize at 0x7f379b6a1ca0> to queue with args (\"['staged/WorldCRS84Quad/13/951/1068.gpkg', 'staged/WorldCRS84Quad/13/951/1069.gpkg', 'staged/WorldCR...\", \"{'dir_input': 'example-data', 'ext_input': '.gpkg', 'dir_staged': 'staged', 'simplify_tolerance': No...\")\n",
      "INFO:parsl.dataflow.dflow:Task 44 launched on executor htex_local\n",
      "DEBUG:parsl.dataflow.strategy:Executor htex_local has 45 active tasks, 1/0 running/pending blocks, and 26 connected workers\n",
      "DEBUG:parsl.dataflow.strategy:Requesting 1 more blocks\n",
      "DEBUG:parsl.providers.local.local:Launching in remote mode\n",
      "DEBUG:parsl.executors.status_handling:Launched block 1->69696\n",
      "DEBUG:parsl.dataflow.strategy:Executor htex_local has 45 active tasks, 2/0 running/pending blocks, and 52 connected workers\n",
      "DEBUG:parsl.dataflow.strategy:Executor htex_local has 45 active tasks, 2/0 running/pending blocks, and 52 connected workers\n",
      "DEBUG:parsl.dataflow.strategy:Executor htex_local has 45 active tasks, 2/0 running/pending blocks, and 52 connected workers\n",
      "DEBUG:parsl.dataflow.strategy:Executor htex_local has 45 active tasks, 2/0 running/pending blocks, and 52 connected workers\n",
      "DEBUG:parsl.dataflow.strategy:Executor htex_local has 45 active tasks, 2/0 running/pending blocks, and 52 connected workers\n",
      "DEBUG:parsl.dataflow.strategy:Executor htex_local has 45 active tasks, 2/0 running/pending blocks, and 52 connected workers\n",
      "DEBUG:parsl.dataflow.strategy:Executor htex_local has 45 active tasks, 2/0 running/pending blocks, and 52 connected workers\n",
      "DEBUG:parsl.dataflow.strategy:Executor htex_local has 45 active tasks, 2/0 running/pending blocks, and 52 connected workers\n",
      "DEBUG:parsl.dataflow.strategy:Executor htex_local has 45 active tasks, 2/0 running/pending blocks, and 52 connected workers\n",
      "DEBUG:parsl.dataflow.strategy:Executor htex_local has 45 active tasks, 2/0 running/pending blocks, and 52 connected workers\n",
      "DEBUG:parsl.dataflow.strategy:Executor htex_local has 45 active tasks, 2/0 running/pending blocks, and 52 connected workers\n",
      "DEBUG:parsl.dataflow.strategy:Executor htex_local has 45 active tasks, 2/0 running/pending blocks, and 52 connected workers\n",
      "DEBUG:parsl.dataflow.strategy:Executor htex_local has 45 active tasks, 2/0 running/pending blocks, and 52 connected workers\n",
      "DEBUG:parsl.dataflow.strategy:Executor htex_local has 45 active tasks, 2/0 running/pending blocks, and 52 connected workers\n",
      "DEBUG:parsl.dataflow.strategy:Executor htex_local has 45 active tasks, 2/0 running/pending blocks, and 52 connected workers\n",
      "DEBUG:parsl.dataflow.strategy:Executor htex_local has 45 active tasks, 2/0 running/pending blocks, and 52 connected workers\n",
      "DEBUG:parsl.dataflow.strategy:Executor htex_local has 45 active tasks, 2/0 running/pending blocks, and 52 connected workers\n",
      "DEBUG:parsl.dataflow.strategy:Executor htex_local has 45 active tasks, 2/0 running/pending blocks, and 52 connected workers\n",
      "INFO:parsl.dataflow.dflow:Task 14 completed (launched -> exec_done)\n",
      "INFO:parsl.dataflow.dflow:Task 22 completed (launched -> exec_done)\n",
      "DEBUG:parsl.dataflow.strategy:Executor htex_local has 43 active tasks, 2/0 running/pending blocks, and 52 connected workers\n",
      "INFO:parsl.dataflow.dflow:Task 36 completed (launched -> exec_done)\n",
      "INFO:parsl.dataflow.dflow:Task 3 completed (launched -> exec_done)\n",
      "DEBUG:parsl.dataflow.strategy:Executor htex_local has 41 active tasks, 2/0 running/pending blocks, and 52 connected workers\n",
      "DEBUG:parsl.dataflow.strategy:Executor htex_local has 41 active tasks, 2/0 running/pending blocks, and 52 connected workers\n",
      "INFO:parsl.dataflow.dflow:Task 0 completed (launched -> exec_done)\n",
      "INFO:parsl.dataflow.dflow:Task 10 completed (launched -> exec_done)\n",
      "INFO:parsl.dataflow.dflow:Task 7 completed (launched -> exec_done)\n",
      "DEBUG:parsl.dataflow.strategy:Executor htex_local has 38 active tasks, 2/0 running/pending blocks, and 52 connected workers\n",
      "INFO:parsl.dataflow.dflow:Task 4 completed (launched -> exec_done)\n",
      "INFO:parsl.dataflow.dflow:Task 20 completed (launched -> exec_done)\n",
      "DEBUG:parsl.dataflow.strategy:Executor htex_local has 36 active tasks, 2/0 running/pending blocks, and 52 connected workers\n",
      "INFO:parsl.dataflow.dflow:Task 8 completed (launched -> exec_done)\n",
      "DEBUG:parsl.dataflow.strategy:Executor htex_local has 35 active tasks, 2/0 running/pending blocks, and 52 connected workers\n",
      "INFO:parsl.dataflow.dflow:Task 16 completed (launched -> exec_done)\n",
      "DEBUG:parsl.dataflow.strategy:Executor htex_local has 34 active tasks, 2/0 running/pending blocks, and 52 connected workers\n",
      "INFO:parsl.dataflow.dflow:Task 2 completed (launched -> exec_done)\n",
      "INFO:parsl.dataflow.dflow:Task 6 completed (launched -> exec_done)\n",
      "INFO:parsl.dataflow.dflow:Task 11 completed (launched -> exec_done)\n",
      "DEBUG:parsl.dataflow.strategy:Executor htex_local has 31 active tasks, 2/0 running/pending blocks, and 52 connected workers\n",
      "INFO:parsl.dataflow.dflow:Task 13 completed (launched -> exec_done)\n",
      "INFO:parsl.dataflow.dflow:Task 19 completed (launched -> exec_done)\n",
      "DEBUG:parsl.dataflow.strategy:Executor htex_local has 29 active tasks, 2/0 running/pending blocks, and 52 connected workers\n",
      "DEBUG:parsl.dataflow.strategy:Executor htex_local has 29 active tasks, 2/0 running/pending blocks, and 52 connected workers\n",
      "INFO:parsl.dataflow.dflow:Task 1 completed (launched -> exec_done)\n",
      "INFO:parsl.dataflow.dflow:Task 12 completed (launched -> exec_done)\n",
      "DEBUG:parsl.dataflow.strategy:Executor htex_local has 27 active tasks, 2/0 running/pending blocks, and 52 connected workers\n",
      "INFO:parsl.dataflow.dflow:Task 17 completed (launched -> exec_done)\n",
      "INFO:parsl.dataflow.dflow:Task 35 completed (launched -> exec_done)\n",
      "DEBUG:parsl.dataflow.strategy:Executor htex_local has 25 active tasks, 2/0 running/pending blocks, and 52 connected workers\n",
      "INFO:parsl.dataflow.dflow:Task 44 completed (launched -> exec_done)\n",
      "INFO:parsl.dataflow.dflow:Task 23 completed (launched -> exec_done)\n",
      "INFO:parsl.dataflow.dflow:Task 5 completed (launched -> exec_done)\n",
      "DEBUG:parsl.dataflow.strategy:Executor htex_local has 22 active tasks, 2/0 running/pending blocks, and 52 connected workers\n",
      "INFO:parsl.dataflow.dflow:Task 40 completed (launched -> exec_done)\n",
      "INFO:parsl.dataflow.dflow:Task 37 completed (launched -> exec_done)\n",
      "INFO:parsl.dataflow.dflow:Task 24 completed (launched -> exec_done)\n",
      "INFO:parsl.dataflow.dflow:Task 43 completed (launched -> exec_done)\n",
      "INFO:parsl.dataflow.dflow:Task 9 completed (launched -> exec_done)\n",
      "DEBUG:parsl.dataflow.strategy:Executor htex_local has 17 active tasks, 2/0 running/pending blocks, and 52 connected workers\n",
      "INFO:parsl.dataflow.dflow:Task 18 completed (launched -> exec_done)\n",
      "INFO:parsl.dataflow.dflow:Task 31 completed (launched -> exec_done)\n",
      "DEBUG:parsl.dataflow.strategy:Executor htex_local has 15 active tasks, 2/0 running/pending blocks, and 52 connected workers\n",
      "INFO:parsl.dataflow.dflow:Task 39 completed (launched -> exec_done)\n",
      "DEBUG:parsl.dataflow.strategy:Executor htex_local has 14 active tasks, 2/0 running/pending blocks, and 52 connected workers\n",
      "DEBUG:parsl.dataflow.strategy:Executor htex_local has 14 active tasks, 2/0 running/pending blocks, and 52 connected workers\n",
      "INFO:parsl.dataflow.dflow:Task 29 completed (launched -> exec_done)\n",
      "INFO:parsl.dataflow.dflow:Task 38 completed (launched -> exec_done)\n",
      "DEBUG:parsl.dataflow.strategy:Executor htex_local has 12 active tasks, 2/0 running/pending blocks, and 52 connected workers\n",
      "INFO:parsl.dataflow.dflow:Task 15 completed (launched -> exec_done)\n",
      "INFO:parsl.dataflow.dflow:Task 25 completed (launched -> exec_done)\n",
      "INFO:parsl.dataflow.dflow:Task 27 completed (launched -> exec_done)\n",
      "INFO:parsl.dataflow.dflow:Task 34 completed (launched -> exec_done)\n",
      "INFO:parsl.dataflow.dflow:Task 32 completed (launched -> exec_done)\n",
      "DEBUG:parsl.dataflow.strategy:Executor htex_local has 7 active tasks, 2/0 running/pending blocks, and 52 connected workers\n",
      "INFO:parsl.dataflow.dflow:Task 42 completed (launched -> exec_done)\n",
      "DEBUG:parsl.dataflow.strategy:Executor htex_local has 6 active tasks, 2/0 running/pending blocks, and 52 connected workers\n",
      "INFO:parsl.dataflow.dflow:Task 21 completed (launched -> exec_done)\n",
      "INFO:parsl.dataflow.dflow:Task 28 completed (launched -> exec_done)\n",
      "INFO:parsl.dataflow.dflow:Task 41 completed (launched -> exec_done)\n",
      "INFO:parsl.dataflow.dflow:Task 33 completed (launched -> exec_done)\n",
      "DEBUG:parsl.dataflow.strategy:Executor htex_local has 2 active tasks, 2/0 running/pending blocks, and 52 connected workers\n",
      "INFO:parsl.dataflow.dflow:Task 30 completed (launched -> exec_done)\n",
      "DEBUG:parsl.dataflow.strategy:Executor htex_local has 1 active tasks, 2/0 running/pending blocks, and 52 connected workers\n",
      "DEBUG:parsl.dataflow.strategy:Executor htex_local has 1 active tasks, 2/0 running/pending blocks, and 52 connected workers\n",
      "DEBUG:parsl.dataflow.strategy:Executor htex_local has 1 active tasks, 2/0 running/pending blocks, and 52 connected workers\n",
      "DEBUG:parsl.dataflow.strategy:Executor htex_local has 1 active tasks, 2/0 running/pending blocks, and 52 connected workers\n",
      "DEBUG:parsl.dataflow.strategy:Executor htex_local has 1 active tasks, 2/0 running/pending blocks, and 52 connected workers\n",
      "DEBUG:parsl.dataflow.strategy:Executor htex_local has 1 active tasks, 2/0 running/pending blocks, and 52 connected workers\n",
      "INFO:parsl.dataflow.dflow:Task 26 completed (launched -> exec_done)\n",
      "INFO:parsl.executors.high_throughput.executor:Attempting HighThroughputExecutor shutdown\n",
      "INFO:parsl.executors.high_throughput.executor:Finished HighThroughputExecutor shutdown attempt\n"
     ]
    },
    {
     "name": "stdout",
     "output_type": "stream",
     "text": [
      "🎉🎉🎉 Finished rasterizing 2249 vector tiles in 3.82 minutes.\n"
     ]
    }
   ],
   "source": [
    "# Rasterize the batches in parallel\n",
    "\n",
    "start_time = datetime.now()\n",
    "\n",
    "app_futures = []\n",
    "for batch in batches:\n",
    "    app_future = rasterize(batch, iwp_config)\n",
    "    app_futures.append(app_future)\n",
    "\n",
    "# Don't continue to print message until all tiles have been rasterized\n",
    "[app_future.result() for app_future in app_futures]\n",
    "\n",
    "end_time = datetime.now()\n",
    "total_minutes = round(((end_time - start_time).total_seconds() / 60), 2)\n",
    "print(f'🎉🎉🎉 Finished rasterizing {tiles_to_rasterize} vector tiles in {total_minutes} minutes.')\n",
    "\n",
    "htex_local.executors[0].shutdown()\n",
    "parsl.clear()"
   ]
  },
  {
   "cell_type": "code",
   "execution_count": 13,
   "metadata": {},
   "outputs": [
    {
     "name": "stdout",
     "output_type": "stream",
     "text": [
      "There are 2249 geotiff paths and 2249 vector tiles.\n"
     ]
    }
   ],
   "source": [
    "# Now we should have just as many GeoTIFF files as we do vector tiles.\n",
    "# Let's check that.\n",
    "geotiff_paths = iwp_rasterizer.tiles.get_filenames_from_dir('geotiff')\n",
    "tiles_rasterized = len(geotiff_paths)\n",
    "print(f'There are {len(geotiff_paths)} geotiff paths and {tiles_to_rasterize} vector tiles.')"
   ]
  },
  {
   "cell_type": "code",
   "execution_count": 14,
   "metadata": {},
   "outputs": [],
   "source": [
    "# We read in and plot one of the GeoTIFF tiles using rasterio\n",
    "import rasterio as rio\n",
    "from rasterio.plot import show\n",
    "\n",
    "ex_tile = geotiff_paths[0]\n",
    "ex_tile_rio = rio.open(ex_tile)"
   ]
  },
  {
   "cell_type": "code",
   "execution_count": 15,
   "metadata": {},
   "outputs": [
    {
     "data": {
      "text/plain": [
       "{'driver': 'GTiff', 'dtype': 'float64', 'nodata': None, 'width': 256, 'height': 256, 'count': 2, 'crs': CRS.from_epsg(4326), 'transform': Affine(8.58306884765625e-05, 0.0, -160.24658203125009,\n",
       "       0.0, -8.58306884765625e-05, 66.9067382812501), 'tiled': False, 'interleave': 'pixel'}"
      ]
     },
     "execution_count": 15,
     "metadata": {},
     "output_type": "execute_result"
    }
   ],
   "source": [
    "ex_tile_rio.profile"
   ]
  },
  {
   "cell_type": "code",
   "execution_count": 16,
   "metadata": {},
   "outputs": [
    {
     "name": "stdout",
     "output_type": "stream",
     "text": [
      "number_IWP_per_pixel\n"
     ]
    },
    {
     "data": {
      "image/png": "[encoded data removed]",
      "text/plain": [
       "<Figure size 1600x1100 with 1 Axes>"
      ]
     },
     "metadata": {
      "needs_background": "light"
     },
     "output_type": "display_data"
    },
    {
     "data": {
      "text/plain": [
       "<AxesSubplot:>"
      ]
     },
     "execution_count": 16,
     "metadata": {},
     "output_type": "execute_result"
    }
   ],
   "source": [
    "# Plot the first band (number of IWP per pixel)\n",
    "band = 1\n",
    "print(ex_tile_rio.descriptions[band - 1])\n",
    "show((ex_tile_rio, band))"
   ]
  },
  {
   "cell_type": "code",
   "execution_count": 17,
   "metadata": {},
   "outputs": [
    {
     "name": "stdout",
     "output_type": "stream",
     "text": [
      "prop_pixel_covered_by_IWP\n"
     ]
    },
    {
     "data": {
      "image/png": "[encoded data removed]",
      "text/plain": [
       "<Figure size 1600x1100 with 1 Axes>"
      ]
     },
     "metadata": {
      "needs_background": "light"
     },
     "output_type": "display_data"
    },
    {
     "data": {
      "text/plain": [
       "<AxesSubplot:>"
      ]
     },
     "execution_count": 17,
     "metadata": {},
     "output_type": "execute_result"
    }
   ],
   "source": [
    "# Plot the second band (proportion of pixel covered by IWP)\n",
    "band = 2\n",
    "print(ex_tile_rio.descriptions[band - 1])\n",
    "show((ex_tile_rio, band))"
   ]
  }
 ],
 "metadata": {
  "kernelspec": {
   "display_name": "Python 3.9.12 ('scale_comp')",
   "language": "python",
   "name": "python3"
  },
  "language_info": {
   "codemirror_mode": {
    "name": "ipython",
    "version": 3
   },
   "file_extension": ".py",
   "mimetype": "text/x-python",
   "name": "python",
   "nbconvert_exporter": "python",
   "pygments_lexer": "ipython3",
   "version": "3.9.12"
  },
  "orig_nbformat": 4,
  "vscode": {
   "interpreter": {
    "hash": "a21763f4ffff4c1ef9123c03d72058f6638e1b551ce586e61907b795abc6fa7c"
   }
  }
 },
 "nbformat": 4,
 "nbformat_minor": 2
}
