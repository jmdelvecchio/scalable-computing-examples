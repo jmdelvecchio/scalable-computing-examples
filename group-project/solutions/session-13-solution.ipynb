{
 "cells": [
  {
   "cell_type": "markdown",
   "metadata": {},
   "source": [
    "# Session 13: Visualization"
   ]
  },
  {
   "cell_type": "code",
   "execution_count": null,
   "metadata": {},
   "outputs": [],
   "source": [
    "import logging\n",
    "from datetime import datetime\n",
    "\n",
    "import matplotlib.pyplot as plt\n",
    "from pdgraster import RasterTiler\n",
    "\n",
    "import parsl\n",
    "from parsl import python_app\n",
    "from parsl.config import Config\n",
    "from parsl.channels import LocalChannel\n",
    "from parsl.executors import HighThroughputExecutor\n",
    "from parsl.providers import LocalProvider\n",
    "\n",
    "# set up plotting in notebook\n",
    "plt.style.use('seaborn-notebook')\n",
    "font_size = 4\n",
    "plt.rcParams['font.size'] = font_size\n",
    "plt.rcParams['axes.labelsize'] = font_size\n",
    "plt.rcParams['axes.titlesize'] = font_size\n",
    "plt.rcParams['xtick.labelsize'] = font_size\n",
    "plt.rcParams['ytick.labelsize'] = font_size\n",
    "plt.rcParams['legend.fontsize'] = font_size\n",
    "plt.rcParams['figure.titlesize'] = font_size\n",
    "plt.rcParams['figure.dpi'] = 200"
   ]
  },
  {
   "cell_type": "markdown",
   "metadata": {},
   "source": [
    "In session 8 and 11, tiles were created at the maximum zoom level (z: 13). To show this data in a performant way on a web map, we need to create lower resolution tiles, and they need to be in a web-accessible format (most browsers can't render GeoTIFF files, PNG is better.) - [Here is a good explanation](https://www.maptiler.com/google-maps-coordinates-tile-bounds-projection/)"
   ]
  },
  {
   "cell_type": "code",
   "execution_count": null,
   "metadata": {},
   "outputs": [],
   "source": [
    "# Start with the same config as Session 11, and initialize a RasterTiler again\n",
    "iwp_config = {\n",
    "    'dir_input': 'example-data',\n",
    "    'ext_input': '.gpkg',\n",
    "    'dir_geotiff': 'geotiff',\n",
    "    'dir_web_tiles': 'web_tiles',\n",
    "    'dir_staged': 'staged',\n",
    "    'simplify_tolerance': None,\n",
    "    'statistics': [\n",
    "        {\n",
    "            'name': 'number_IWP_per_pixel',\n",
    "            'weight_by': 'count',\n",
    "            'property': 'centroids_per_pixel',\n",
    "            'aggregation_method': 'sum',\n",
    "            'resampling_method': 'sum',\n",
    "            'palette': ['rgb(102 51 153 / 0.0)', '#d93fce', 'lch(85% 100 85)'],\n",
    "            'val_range': [0, None]\n",
    "        },\n",
    "        {\n",
    "            'name': 'prop_pixel_covered_by_IWP',\n",
    "            'weight_by': 'area',\n",
    "            'property': 'area_per_pixel_area',\n",
    "            'aggregation_method': 'sum',\n",
    "            'resampling_method': 'average',\n",
    "            'palette': ['rgb(102 51 153 / 0.0)', 'lch(85% 100 85)'],\n",
    "            'val_range': [0, 1]\n",
    "        }\n",
    "    ],\n",
    "}\n",
    "iwp_rasterizer = RasterTiler(iwp_config)"
   ]
  },
  {
   "cell_type": "code",
   "execution_count": null,
   "metadata": {},
   "outputs": [],
   "source": [
    "# Set up Parsl and logging again:\n",
    "activate_conda = 'source /home/thiessenbock/.bashrc; conda activate pdg'\n",
    "htex_local = Config(\n",
    "    executors=[\n",
    "        HighThroughputExecutor(\n",
    "            label=\"htex_local\",\n",
    "            worker_debug=False,\n",
    "            cores_per_worker=1,\n",
    "            max_workers=26,\n",
    "            provider=LocalProvider(\n",
    "                channel=LocalChannel(),\n",
    "                init_blocks=1,\n",
    "                max_blocks=20,\n",
    "                worker_init=activate_conda\n",
    "            )\n",
    "        )\n",
    "    ],\n",
    ")\n",
    "parsl.clear()\n",
    "parsl.load(htex_local)\n",
    "\n",
    "logging.basicConfig(level=logging.INFO)"
   ]
  },
  {
   "cell_type": "markdown",
   "metadata": {},
   "source": [
    "Here are the methods that we will use from the RasterTiler:"
   ]
  },
  {
   "cell_type": "code",
   "execution_count": null,
   "metadata": {},
   "outputs": [],
   "source": [
    "# Which are the min and max z-levels we want to create tiles for?\n",
    "help(iwp_rasterizer.config.get_min_z)\n",
    "help(iwp_rasterizer.config.get_max_z)"
   ]
  },
  {
   "cell_type": "code",
   "execution_count": null,
   "metadata": {},
   "outputs": [],
   "source": [
    "# Given a tile, identify the tile that is one z-level above it (lower resolution)\n",
    "help(iwp_rasterizer.tiles.get_parent_tile)"
   ]
  },
  {
   "cell_type": "code",
   "execution_count": null,
   "metadata": {},
   "outputs": [],
   "source": [
    "# Make a parent GeoTIFF tile from the four child tiles\n",
    "help(iwp_rasterizer.parent_geotiffs_from_children)"
   ]
  },
  {
   "cell_type": "code",
   "execution_count": null,
   "metadata": {},
   "outputs": [],
   "source": [
    "# This needs to be run before making webtiles from GeoTIFF files\n",
    "help(iwp_rasterizer.update_ranges)"
   ]
  },
  {
   "cell_type": "code",
   "execution_count": null,
   "metadata": {},
   "outputs": [],
   "source": [
    "# Apply a color map to a GeoTIFF and save it as a PNG file, using the same\n",
    "# z/x/y directory structure\n",
    "help(iwp_rasterizer.webtiles_from_geotiffs)"
   ]
  },
  {
   "cell_type": "code",
   "execution_count": null,
   "metadata": {},
   "outputs": [],
   "source": [
    "# We'll also use the make_batch definition from Session 11 to create batches of\n",
    "# GeoTIFF files to process.\n",
    "def make_batch(items, batch_size):\n",
    "    \"\"\"\n",
    "    Create batches of a given size from a list of items.\n",
    "    \"\"\"\n",
    "    return [items[i:i + batch_size] for i in range(0, len(items), batch_size)]"
   ]
  },
  {
   "cell_type": "code",
   "execution_count": null,
   "metadata": {},
   "outputs": [],
   "source": [
    "# Here are the parallel tasks we want to run:\n",
    "\n",
    "@python_app\n",
    "def create_composite_geotiffs(tiles, config):\n",
    "    \"\"\"\n",
    "    Make composite geotiffs\n",
    "    \"\"\"\n",
    "    import pdgraster\n",
    "    import logging.config\n",
    "    logging.basicConfig(level=logging.INFO)\n",
    "    rasterizer = pdgraster.RasterTiler(config)\n",
    "    return rasterizer.parent_geotiffs_from_children(tiles, recursive=False)\n",
    "\n",
    "@python_app\n",
    "def create_web_tiles(geotiff_paths, config, logging_dict=None):\n",
    "    \"\"\"\n",
    "    Create a batch of webtiles from geotiffs (step 4)\n",
    "    \"\"\"\n",
    "    import pdgraster\n",
    "    import logging.config\n",
    "    logging.basicConfig(level=logging.INFO)\n",
    "    rasterizer = pdgraster.RasterTiler(config)\n",
    "    return rasterizer.webtiles_from_geotiffs(\n",
    "        geotiff_paths, update_ranges=False)"
   ]
  },
  {
   "cell_type": "markdown",
   "metadata": {},
   "source": [
    "To create lower resolution GeoTIFF files, we can combine high resolution GeoTIFFs then resample them so that we still have 256x256 pixel data."
   ]
  },
  {
   "cell_type": "code",
   "execution_count": null,
   "metadata": {},
   "outputs": [],
   "source": [
    "# Get each z-level of GeoTIFFs we need to create:\n",
    "min_z = iwp_rasterizer.config.get_min_z()\n",
    "max_z = iwp_rasterizer.config.get_max_z()\n",
    "parent_zs = list(range(max_z - 1, min_z - 1, -1))\n",
    "print(f'Parent Zs: {parent_zs}')"
   ]
  },
  {
   "cell_type": "markdown",
   "metadata": {},
   "source": [
    "## Create composite GeoTIFFs"
   ]
  },
  {
   "cell_type": "code",
   "execution_count": null,
   "metadata": {},
   "outputs": [],
   "source": [
    "# Making composite GeoTIFFs is super fast, so let's choose a larger batch size\n",
    "composite_geotiff_batch_size = 100\n",
    "\n",
    "start_time = datetime.now()\n",
    "\n",
    "# Can't start lower z-level until higher z-level is complete, because tiles in\n",
    "# z-level n are created from tiles in z-level n+1, e.g. each level 12 tile is\n",
    "# created from four level 13 tiles.\n",
    "for z in parent_zs:\n",
    "\n",
    "    # Determine which tiles we need to make for the next z-level based on\n",
    "    # the path names of the files just created\n",
    "\n",
    "    # Get the list of files that exist for the one-step-higher-resolution\n",
    "    # z-level than the current z-level\n",
    "    child_paths = iwp_rasterizer.tiles.get_filenames_from_dir('geotiff', z=z + 1)\n",
    "\n",
    "    # Make a list of all the parent tiles that can be created from the z+1 child\n",
    "    # tiles\n",
    "    parent_tiles = set()\n",
    "    for child_path in child_paths:\n",
    "        parent_tile =  iwp_rasterizer.tiles.get_parent_tile(child_path)\n",
    "        parent_tiles.add(parent_tile)\n",
    "    parent_tiles = list(parent_tiles)\n",
    "\n",
    "    # Break all parent tiles at level z into batches\n",
    "    parent_tile_batches = make_batch(parent_tiles, composite_geotiff_batch_size)\n",
    "\n",
    "    # Make parent GeoTIFFs for the current z-level (by combining the children tiles)\n",
    "    app_futures = []\n",
    "    for parent_tile_batch in parent_tile_batches:\n",
    "        app_future = create_composite_geotiffs(\n",
    "            parent_tile_batch, iwp_config)\n",
    "        app_futures.append(app_future)\n",
    "\n",
    "    # Don't start the next z-level, and don't move to step 4, until the\n",
    "    # current z-level is complete\n",
    "    [app_future.result() for app_future in app_futures]\n",
    "\n",
    "end_time = datetime.now()\n",
    "total_minutes = round(((end_time - start_time).total_seconds() / 60), 2)\n",
    "print(f'🎉🎉🎉 Created composite GeoTIFF for {len(parent_zs)} z-levels in {total_minutes} minutes.')"
   ]
  },
  {
   "cell_type": "markdown",
   "metadata": {},
   "source": [
    "# Make webtiles"
   ]
  },
  {
   "cell_type": "code",
   "execution_count": null,
   "metadata": {},
   "outputs": [],
   "source": [
    "# Making webtiles is also super fast, so we can big a larger batch size\n",
    "batch_size_web_tiles = 200\n",
    "\n",
    "start_time = datetime.now()\n",
    "\n",
    "# Get the min & max pixel values that exist across each z-level. Save these to\n",
    "# the config file.\n",
    "iwp_rasterizer.update_ranges()\n",
    "\n",
    "# Process web tiles in batches\n",
    "geotiff_paths = iwp_rasterizer.tiles.get_filenames_from_dir('geotiff')\n",
    "geotiff_batches = make_batch(geotiff_paths, batch_size_web_tiles)\n",
    "\n",
    "app_futures = []\n",
    "for batch in geotiff_batches:\n",
    "    app_future = create_web_tiles(batch, iwp_config)\n",
    "    app_futures.append(app_future)\n",
    "\n",
    "# Don't record end time until all web tiles have been created\n",
    "[app_future.result() for app_future in app_futures]\n",
    "\n",
    "end_time = datetime.now()\n",
    "\n",
    "end_time = datetime.now()\n",
    "total_minutes = round(((end_time - start_time).total_seconds() / 60), 2)\n",
    "print(f'🎉🎉🎉 Converted all the GeoTIFFs to webtiles in {total_minutes} minutes.')\n",
    "\n",
    "htex_local.executors[0].shutdown()\n",
    "parsl.clear()\n"
   ]
  },
  {
   "cell_type": "code",
   "execution_count": null,
   "metadata": {},
   "outputs": [],
   "source": []
  }
 ],
 "metadata": {
  "kernelspec": {
   "display_name": "Python 3.9.1 ('pdg')",
   "language": "python",
   "name": "python3"
  },
  "language_info": {
   "codemirror_mode": {
    "name": "ipython",
    "version": 3
   },
   "file_extension": ".py",
   "mimetype": "text/x-python",
   "name": "python",
   "nbconvert_exporter": "python",
   "pygments_lexer": "ipython3",
   "version": "3.9.1"
  },
  "orig_nbformat": 4,
  "vscode": {
   "interpreter": {
    "hash": "871e6ab5d8c32783b7d359f916b3d4ca276fca701aa610f3529da75931f1d90f"
   }
  }
 },
 "nbformat": 4,
 "nbformat_minor": 2
}
