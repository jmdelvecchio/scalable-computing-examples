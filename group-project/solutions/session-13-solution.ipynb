{
 "cells": [
  {
   "cell_type": "markdown",
   "metadata": {},
   "source": [
    "# Session 13: Visualization"
   ]
  },
  {
   "cell_type": "code",
   "execution_count": 1,
   "metadata": {},
   "outputs": [],
   "source": [
    "\n",
    "import parsl\n",
    "from parsl import python_app\n",
    "from parsl.config import Config\n",
    "from parsl.channels import LocalChannel\n",
    "from parsl.executors import HighThroughputExecutor\n",
    "from parsl.providers import LocalProvider\n",
    "\n",
    "from ipyleaflet import Map, LocalTileLayer, WMSLayer, projections\n",
    "\n",
    "from grouputils import initialize_rasterizer"
   ]
  },
  {
   "cell_type": "markdown",
   "metadata": {},
   "source": [
    "In session 8 and 11, tiles were created at the maximum zoom level (z: 13). To show this data in a performant way on a web map, we need to create lower resolution tiles, and they need to be in a web-accessible format (most browsers can't render GeoTIFF files, PNG is better.) - [Here is a good explanation](https://www.maptiler.com/google-maps-coordinates-tile-bounds-projection/)\n",
    "\n",
    "First set up the rasterizer as before."
   ]
  },
  {
   "cell_type": "code",
   "execution_count": 11,
   "metadata": {},
   "outputs": [],
   "source": [
    "iwp_rasterizer = initialize_rasterizer(\"/home/jclark/example-data\")"
   ]
  },
  {
   "cell_type": "code",
   "execution_count": 7,
   "metadata": {},
   "outputs": [
    {
     "data": {
      "text/plain": [
       "<parsl.dataflow.dflow.DataFlowKernel at 0x7f9c358ebe80>"
      ]
     },
     "execution_count": 7,
     "metadata": {},
     "output_type": "execute_result"
    }
   ],
   "source": [
    "# Set up Parsl and logging again:\n",
    "activate_env = 'workon scomp'\n",
    "htex_local = Config(\n",
    "    executors=[\n",
    "        HighThroughputExecutor(\n",
    "            label=\"htex_local\",\n",
    "            worker_debug=False,\n",
    "            cores_per_worker=1,\n",
    "            max_workers=26,\n",
    "            provider=LocalProvider(\n",
    "                channel=LocalChannel(),\n",
    "                init_blocks=1,\n",
    "                max_blocks=20,\n",
    "                worker_init=activate_env\n",
    "            )\n",
    "        )\n",
    "    ],\n",
    ")\n",
    "parsl.clear()\n",
    "parsl.load(htex_local)"
   ]
  },
  {
   "cell_type": "markdown",
   "metadata": {},
   "source": [
    "Here are the methods that we will use from the RasterTiler:"
   ]
  },
  {
   "cell_type": "code",
   "execution_count": 8,
   "metadata": {},
   "outputs": [],
   "source": [
    "# We'll also use the make_batch definition from Session 11 to create batches of\n",
    "# GeoTIFF files to process.\n",
    "def make_batch(items, batch_size):\n",
    "    \"\"\"\n",
    "    Create batches of a given size from a list of items.\n",
    "    \"\"\"\n",
    "    return [items[i:i + batch_size] for i in range(0, len(items), batch_size)]"
   ]
  },
  {
   "cell_type": "code",
   "execution_count": 9,
   "metadata": {},
   "outputs": [],
   "source": [
    "# Here are the parallel tasks we want to run:\n",
    "\n",
    "@python_app\n",
    "def create_composite_geotiffs(tiles, rasterizer):\n",
    "    return rasterizer.parent_geotiffs_from_children(tiles, recursive=False)\n",
    "\n",
    "@python_app\n",
    "def create_web_tiles(geotiff_paths, rasterizer):\n",
    "    return rasterizer.webtiles_from_geotiffs(\n",
    "        geotiff_paths, update_ranges=False)"
   ]
  },
  {
   "cell_type": "markdown",
   "metadata": {},
   "source": [
    "To create lower resolution GeoTIFF files, we can combine high resolution GeoTIFFs then resample them so that we still have 256x256 pixel data."
   ]
  },
  {
   "cell_type": "code",
   "execution_count": 12,
   "metadata": {},
   "outputs": [
    {
     "name": "stdout",
     "output_type": "stream",
     "text": [
      "Parent Zs: [12, 11, 10, 9, 8, 7, 6, 5, 4, 3, 2, 1, 0]\n"
     ]
    }
   ],
   "source": [
    "# Get each z-level of GeoTIFFs we need to create:\n",
    "min_z = iwp_rasterizer.config.get_min_z()\n",
    "max_z = iwp_rasterizer.config.get_max_z()\n",
    "parent_zs = list(range(max_z - 1, min_z - 1, -1))\n",
    "print(f'Parent Zs: {parent_zs}')"
   ]
  },
  {
   "cell_type": "markdown",
   "metadata": {},
   "source": [
    "## Create composite GeoTIFFs"
   ]
  },
  {
   "cell_type": "code",
   "execution_count": 14,
   "metadata": {},
   "outputs": [],
   "source": [
    "# Making composite GeoTIFFs is super fast, so let's choose a larger batch size\n",
    "composite_geotiff_batch_size = 100\n",
    "\n",
    "# Can't start lower z-level until higher z-level is complete, because tiles in\n",
    "# z-level n are created from tiles in z-level n+1, e.g. each level 12 tile is\n",
    "# created from four level 13 tiles.\n",
    "for z in parent_zs:\n",
    "\n",
    "    # Determine which tiles we need to make for the next z-level based on\n",
    "    # the path names of the files just created\n",
    "\n",
    "    # Get the list of files that exist for the one-step-higher-resolution\n",
    "    # z-level than the current z-level\n",
    "    child_paths = iwp_rasterizer.tiles.get_filenames_from_dir('geotiff', z=z + 1)\n",
    "\n",
    "    # Make a list of all the parent tiles that can be created from the z+1 child\n",
    "    # tiles\n",
    "    parent_tiles = set()\n",
    "    for child_path in child_paths:\n",
    "        parent_tile =  iwp_rasterizer.tiles.get_parent_tile(child_path)\n",
    "        parent_tiles.add(parent_tile)\n",
    "    parent_tiles = list(parent_tiles)\n",
    "\n",
    "    # Break all parent tiles at level z into batches\n",
    "    parent_tile_batches = make_batch(parent_tiles, composite_geotiff_batch_size)\n",
    "\n",
    "    # Make parent GeoTIFFs for the current z-level (by combining the children tiles)\n",
    "    app_futures = []\n",
    "    for parent_tile_batch in parent_tile_batches:\n",
    "        app_future = create_composite_geotiffs(parent_tile_batch, iwp_rasterizer)\n",
    "        app_futures.append(app_future)\n",
    "\n",
    "    # Don't start the next z-level, and don't move to step 4, until the\n",
    "    # current z-level is complete\n",
    "    [app_future.result() for app_future in app_futures]"
   ]
  },
  {
   "cell_type": "markdown",
   "metadata": {},
   "source": [
    "# Make webtiles"
   ]
  },
  {
   "cell_type": "code",
   "execution_count": 16,
   "metadata": {},
   "outputs": [],
   "source": [
    "# Making webtiles is also super fast, so we can big a larger batch size\n",
    "batch_size_web_tiles = 200\n",
    "\n",
    "# Get the min & max pixel values that exist across each z-level. Save these to\n",
    "# the config file.\n",
    "iwp_rasterizer.update_ranges()\n",
    "\n",
    "# Process web tiles in batches\n",
    "geotiff_paths = iwp_rasterizer.tiles.get_filenames_from_dir('geotiff')\n",
    "geotiff_batches = make_batch(geotiff_paths, batch_size_web_tiles)\n",
    "\n",
    "app_futures = []\n",
    "for batch in geotiff_batches:\n",
    "    app_future = create_web_tiles(batch, iwp_rasterizer)\n",
    "    app_futures.append(app_future)\n",
    "\n",
    "# Don't record end time until all web tiles have been created\n",
    "[app_future.result() for app_future in app_futures]\n",
    "\n",
    "htex_local.executors[0].shutdown()\n",
    "parsl.clear()\n"
   ]
  },
  {
   "cell_type": "markdown",
   "metadata": {},
   "source": [
    "## Make a map!"
   ]
  },
  {
   "cell_type": "code",
   "execution_count": null,
   "metadata": {},
   "outputs": [],
   "source": [
    "wms = WMSLayer(\n",
    "    url=\"https://basemap.nationalmap.gov:443/arcgis/services/USGSImageryTopo/MapServer/WmsServer\",\n",
    "    layers=\"0\",\n",
    "    format=\"image/png\",\n",
    "    transparent=True,\n",
    "    min_zoom=0,\n",
    "    crs=projections.EPSG4326,  # I'm asking this WMS service to reproject the tile layer using EPSG:4326\n",
    ")\n",
    "\n",
    "\n",
    "\n",
    "m = Map(center=(66.5, -159.9),\n",
    "        zoom=9,\n",
    "        layers=(wms,),\n",
    "        crs=projections.EPSG4326)\n",
    "\n",
    "m.add_layer(LocalTileLayer(path='web_tiles/number_IWP_per_pixel/WorldCRS84Quad/{z}/{x}/{y}.png'));\n",
    "\n",
    "m"
   ]
  }
 ],
 "metadata": {
  "kernelspec": {
   "display_name": "Python 3.9.13 ('scomp')",
   "language": "python",
   "name": "python3"
  },
  "language_info": {
   "codemirror_mode": {
    "name": "ipython",
    "version": 3
   },
   "file_extension": ".py",
   "mimetype": "text/x-python",
   "name": "python",
   "nbconvert_exporter": "python",
   "pygments_lexer": "ipython3",
   "version": "3.9.13"
  },
  "orig_nbformat": 4,
  "vscode": {
   "interpreter": {
    "hash": "0030ed2ed4c0609037967981d5426019e14a913516344490dbc8ffbbe92f86b7"
   }
  }
 },
 "nbformat": 4,
 "nbformat_minor": 2
}
