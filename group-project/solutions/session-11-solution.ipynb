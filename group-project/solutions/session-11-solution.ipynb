{
 "cells": [
  {
   "cell_type": "markdown",
   "metadata": {},
   "source": [
    "# Session 11: Data Processing"
   ]
  },
  {
   "cell_type": "code",
   "execution_count": 1,
   "metadata": {},
   "outputs": [],
   "source": [
    "import os\n",
    "\n",
    "# For parallel processing\n",
    "import parsl\n",
    "import parsl\n",
    "from parsl import python_app\n",
    "from parsl.config import Config\n",
    "from parsl.channels import LocalChannel\n",
    "from parsl.executors import HighThroughputExecutor\n",
    "from parsl.providers import LocalProvider\n",
    "\n",
    "# helpers\n",
    "from grouputils import initialize_rasterizer\n",
    "from grouputils import plot_tiles"
   ]
  },
  {
   "cell_type": "markdown",
   "metadata": {},
   "source": [
    "## The `RasterTiler` class\n",
    "\n",
    "The purpose of the RasterTiler class is to read in tiled vector data (the out put of staging), and create raster data from each vector tile.\n",
    "\n",
    "![](https://raw.githubusercontent.com/PermafrostDiscoveryGateway/viz-raster/develop/docs/images/raster_tldr.png)"
   ]
  },
  {
   "cell_type": "markdown",
   "metadata": {},
   "source": [
    "The `RasterTiler` takes the same config as the `TileStager` class, but we add a few more options for rasterization."
   ]
  },
  {
   "cell_type": "code",
   "execution_count": 2,
   "metadata": {},
   "outputs": [],
   "source": [
    "iwp_rasterizer = initialize_rasterizer(\"/home/jclark/example-data\")"
   ]
  },
  {
   "cell_type": "markdown",
   "metadata": {},
   "source": [
    "Here are explanations of all the options for each statistic (this can also be found in `help(pdgstaging.ConfigManager)` )\n",
    "\n",
    "* name : `str` The name of the statistic. Can be anything but must be unique.\n",
    "\n",
    "* weight_by : `'count' or 'area'` The weighting method for the statistic. Options\n",
    "    are 'count' and 'area'. 'count' indicates that the statistic is calculated\n",
    "    based on the number of polygons in each cell (location is identified by the\n",
    "    centroid of the polygon). 'area' indicates that the statistic is calculated\n",
    "    based on the area of the polygons that cover each cell.\n",
    "\n",
    "* property : `str` The name of the property in the vector file to calculate the\n",
    "    statistic for. Besides the properties that are available from the input\n",
    "    vector data, the following keywords can be used:\n",
    "\n",
    "  * 'centroids_per_pixel' : The number of polygons with centroids that fall in\n",
    "      the cell/pixel. (Only available if weight_by is 'count')\n",
    "\n",
    "  * 'area_within_pixel' : The area of the polygon that falls within a given\n",
    "      cell/pixel, in the units of the CRS. (Only available if weight_by is\n",
    "      'area')\n",
    "\n",
    "  * 'area_per_pixel_area' : Same as 'area_within_pixel', but divided by the\n",
    "      area of the cell/pixel. (Only available if weight_by is 'area')\n",
    "\n",
    "* aggregation_method : `str` The function to be applied to the property. The\n",
    "    vector data will first be grouped into cells, then the aggregation method\n",
    "    will be used to summarize the given property in the cell. Method can be any\n",
    "    method allowed in the 'func' property of the panda's aggregate method, e.g.\n",
    "    'sum', 'count', 'mean', etc.\n",
    "\n",
    "* resampling_method : `str` The resampling method to use when combining raster\n",
    "    data from child tiles into parent tiles. See rasterio's Resampling Methods\n",
    "    for list of the available methods.\n",
    "\n",
    "* val_range : `str` A min and max value for the statistic. This is used for\n",
    "    consistency when mapping the color palette to the pixel values during web\n",
    "    tile image generation. When a min or max value within a val_range is set to\n",
    "    None, then a min or max value will be calculated for the each z-level for\n",
    "    which geotiffs are created.\n",
    "\n",
    "* palette : `list of str` A list of colors to use for the color palette (for web-tiles)\n",
    "\n",
    "* z_config : `str` A dict of config options specific to each z-level. Currently, \n",
    "    only setting a val_range is supported. Eventually, this could be used to\n",
    "    set z-specific tile sizes and color palettes.\n"
   ]
  },
  {
   "cell_type": "markdown",
   "metadata": {},
   "source": [
    "Like the `TileStager`, we can rasterize the tiles that we've created individually or as a batch, using either:"
   ]
  },
  {
   "cell_type": "markdown",
   "metadata": {},
   "source": [
    "\n",
    "The `RasterTiler` also has a method to rasterize an arbitary bunch of tiles at once:"
   ]
  },
  {
   "cell_type": "code",
   "execution_count": 4,
   "metadata": {},
   "outputs": [
    {
     "name": "stdout",
     "output_type": "stream",
     "text": [
      "There are 2249 tiles to rasterize, ranging in size from 96.0 kb to 15084.0 kb. The total size of the data to rasterize is 6.34 GB.\n"
     ]
    }
   ],
   "source": [
    "# Let's look at the data we intend to rasterize\n",
    "staged_paths = iwp_rasterizer.tiles.get_filenames_from_dir('staged')"
   ]
  },
  {
   "cell_type": "code",
   "execution_count": 5,
   "metadata": {},
   "outputs": [
    {
     "data": {
      "text/plain": [
       "Tile(x=909, y=1059, z=13)"
      ]
     },
     "execution_count": 5,
     "metadata": {},
     "output_type": "execute_result"
    }
   ],
   "source": [
    "# The files are small so rasterizing one tile is pretty fast. Let's rasterize\n",
    "# the first tile.\n",
    "\n",
    "iwp_rasterizer.rasterize_vector(staged_paths[0])"
   ]
  },
  {
   "cell_type": "code",
   "execution_count": 6,
   "metadata": {},
   "outputs": [
    {
     "data": {
      "text/plain": [
       "0"
      ]
     },
     "execution_count": 6,
     "metadata": {},
     "output_type": "execute_result"
    }
   ],
   "source": [
    "# However, since there are thousands of tiles to rasterize, it is much faster to\n",
    "# rasterize them in parallel. Let's delete the files that we just created:\n",
    "os.system(f'rm -rf {iwp_rasterizer.config.get(\"dir_geotiff\")}')\n",
    "os.system(f'rm {iwp_rasterizer.config.get(\"filename_rasterization_events\")}')\n",
    "os.system(f'rm {iwp_rasterizer.config.get(\"filename_rasters_summary\")}')"
   ]
  },
  {
   "cell_type": "markdown",
   "metadata": {},
   "source": [
    "## Rasterize in Parallel"
   ]
  },
  {
   "cell_type": "code",
   "execution_count": 7,
   "metadata": {},
   "outputs": [],
   "source": [
    "# Because rasterization is relatively quick, we want each parsl \"task\" to process a batch of tiles.\n",
    "def make_batch(items, batch_size):\n",
    "    \"\"\"\n",
    "    Create batches of a given size from a list of items.\n",
    "    \"\"\"\n",
    "    return [items[i:i + batch_size] for i in range(0, len(items), batch_size)]"
   ]
  },
  {
   "cell_type": "code",
   "execution_count": 8,
   "metadata": {},
   "outputs": [
    {
     "name": "stdout",
     "output_type": "stream",
     "text": [
      "There are 45 batches to rasterize, each batch has a max of 50 tiles.\n"
     ]
    }
   ],
   "source": [
    "# We can try 50 tiles at a time.\n",
    "batch_size = 50\n",
    "batches = make_batch(staged_paths, batch_size)"
   ]
  },
  {
   "cell_type": "code",
   "execution_count": 11,
   "metadata": {},
   "outputs": [
    {
     "data": {
      "text/plain": [
       "<parsl.dataflow.dflow.DataFlowKernel at 0x7fc96147dc10>"
      ]
     },
     "execution_count": 11,
     "metadata": {},
     "output_type": "execute_result"
    }
   ],
   "source": [
    "# Set up Parsl and logging again:\n",
    "activate_env = 'workon scomp'\n",
    "htex_local = Config(\n",
    "    executors=[\n",
    "        HighThroughputExecutor(\n",
    "            label=\"htex_local\",\n",
    "            worker_debug=False,\n",
    "            cores_per_worker=1,\n",
    "            max_workers=26,\n",
    "            provider=LocalProvider(\n",
    "                channel=LocalChannel(),\n",
    "                init_blocks=1,\n",
    "                max_blocks=20,\n",
    "                worker_init=activate_env\n",
    "            )\n",
    "        )\n",
    "    ],\n",
    ")\n",
    "parsl.clear()\n",
    "parsl.load(htex_local)"
   ]
  },
  {
   "cell_type": "code",
   "execution_count": 12,
   "metadata": {},
   "outputs": [],
   "source": [
    "# Make a Parsl app that uses the rasterize_vectors method\n",
    "@python_app\n",
    "def rasterize(staged_paths, rasterizer):\n",
    "    \"\"\"\n",
    "    Rasterize a batch of vector files\n",
    "    \"\"\"\n",
    "    return rasterizer.rasterize_vectors(staged_paths, make_parents=False)"
   ]
  },
  {
   "cell_type": "code",
   "execution_count": 13,
   "metadata": {},
   "outputs": [],
   "source": [
    "# Rasterize the batches in parallel\n",
    "\n",
    "iwp_rasterizer = initialize_rasterizer(\"/home/jclark/example-data\")\n",
    "\n",
    "app_futures = []\n",
    "for batch in batches:\n",
    "    app_future = rasterize(batch, iwp_rasterizer)\n",
    "    app_futures.append(app_future)\n",
    "\n",
    "# Don't continue to print message until all tiles have been rasterized\n",
    "[app_future.result() for app_future in app_futures]\n",
    "\n",
    "htex_local.executors[0].shutdown()\n",
    "parsl.clear()"
   ]
  },
  {
   "cell_type": "code",
   "execution_count": 14,
   "metadata": {},
   "outputs": [
    {
     "name": "stdout",
     "output_type": "stream",
     "text": [
      "2249\n"
     ]
    }
   ],
   "source": [
    "# Now we should have just as many GeoTIFF files as we do vector tiles.\n",
    "# Let's check that.\n",
    "geotiff_paths = iwp_rasterizer.tiles.get_filenames_from_dir('geotiff')\n",
    "print(len(geotiff_paths))\n"
   ]
  }
 ],
 "metadata": {
  "kernelspec": {
   "display_name": "Python 3.9.13 ('scomp')",
   "language": "python",
   "name": "python3"
  },
  "language_info": {
   "codemirror_mode": {
    "name": "ipython",
    "version": 3
   },
   "file_extension": ".py",
   "mimetype": "text/x-python",
   "name": "python",
   "nbconvert_exporter": "python",
   "pygments_lexer": "ipython3",
   "version": "3.9.13"
  },
  "orig_nbformat": 4,
  "vscode": {
   "interpreter": {
    "hash": "0030ed2ed4c0609037967981d5426019e14a913516344490dbc8ffbbe92f86b7"
   }
  }
 },
 "nbformat": 4,
 "nbformat_minor": 2
}
