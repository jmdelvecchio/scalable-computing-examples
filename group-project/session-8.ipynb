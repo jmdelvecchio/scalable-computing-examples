{
 "cells": [
  {
   "cell_type": "markdown",
   "metadata": {},
   "source": [
    "# Session 8: Staging and Preprocessing"
   ]
  },
  {
   "cell_type": "code",
   "execution_count": null,
   "metadata": {},
   "outputs": [],
   "source": [
    "# import all the libraries we need\n",
    "import logging\n",
    "import os\n",
    "from datetime import datetime\n",
    "import inspect\n",
    "import random\n",
    "\n",
    "import geopandas as gpd\n",
    "import matplotlib.pyplot as plt\n",
    "import pandas as pd\n",
    "from shapely.geometry import box\n",
    "from pdgstaging import TileStager\n",
    "\n",
    "# For parallel processing\n",
    "import parsl\n",
    "from parsl import python_app\n",
    "from parsl.config import Config\n",
    "from parsl.channels import LocalChannel\n",
    "from parsl.executors import HighThroughputExecutor\n",
    "from parsl.providers import LocalProvider\n",
    "\n",
    "# set up plotting in notebook\n",
    "plt.style.use('seaborn-notebook')\n",
    "font_size = 4\n",
    "plt.rcParams['font.size'] = font_size\n",
    "plt.rcParams['axes.labelsize'] = font_size\n",
    "plt.rcParams['axes.titlesize'] = font_size\n",
    "plt.rcParams['xtick.labelsize'] = font_size\n",
    "plt.rcParams['ytick.labelsize'] = font_size\n",
    "plt.rcParams['legend.fontsize'] = font_size\n",
    "plt.rcParams['figure.titlesize'] = font_size\n",
    "plt.rcParams['figure.dpi'] = 200"
   ]
  },
  {
   "cell_type": "markdown",
   "metadata": {},
   "source": [
    "## Background\n",
    "\n",
    "### The `TileStager` class\n",
    "\n",
    "The `TileStager` is a class from the pdgstaging library. The purpose of the\n",
    "`TileStager` is to \"stage\" the input vector data. We are using the term \"stage\"\n",
    "to encompass *all* of the following tasks:\n",
    "\n",
    "- simplify the polygons (optional)\n",
    "- set an input CRS if one is missing in the input data (optional)\n",
    "- reproject the data to the CRS of the TMS, when required\n",
    "- add additional properties to each polygon, including: the centroid x and y\n",
    "  coordinates, the area, a unique ID, and the name of the file that the\n",
    "  polygon originated from\n",
    "- Most importantly: break each input file into [standardized tiles](https://docs.opengeospatial.org/is/17-083r2/17-083r2.html), and save\n",
    " them to disk.\n",
    "- (Staging also currently removes any geometries that are not polygons. Even\n",
    "  multipolygons are removed. Subsequent processing is set up for only polygons\n",
    "  at the moment, something we need to adapt in the future)\n",
    "\n",
    "![](https://raw.githubusercontent.com/PermafrostDiscoveryGateway/viz-staging/develop/docs/images/staging_tldr.png)\n",
    "\n",
    "There are two key methods available in the `TileStager`: `stage` and `stage_all`\n",
    "\n",
    "#### The `TileStager.stage` method\n",
    "\n",
    "The `stage` method does all of the tasks listed above for a single input vector file."
   ]
  },
  {
   "cell_type": "code",
   "execution_count": null,
   "metadata": {},
   "outputs": [],
   "source": [
    "help(TileStager.stage)"
   ]
  },
  {
   "cell_type": "code",
   "execution_count": null,
   "metadata": {},
   "outputs": [],
   "source": [
    "# The stage method just combines 5 different steps into one function.\n",
    "print(inspect.getsource(TileStager.stage))"
   ]
  },
  {
   "cell_type": "markdown",
   "metadata": {},
   "source": [
    "#### The `TileStager.stage_all` method\n",
    "\n",
    "The `stage_all` method just calls the stage method for every input file."
   ]
  },
  {
   "cell_type": "code",
   "execution_count": null,
   "metadata": {},
   "outputs": [],
   "source": [
    "help(TileStager.stage_all)"
   ]
  },
  {
   "cell_type": "code",
   "execution_count": null,
   "metadata": {},
   "outputs": [],
   "source": [
    "print(inspect.getsource(TileStager.stage_all))"
   ]
  },
  {
   "cell_type": "markdown",
   "metadata": {},
   "source": [
    "### Configuration & Tiles\n",
    "\n",
    "The `stage` method only requires a `path` argument, and the `stage_all` method requires no arguments at all. This is because all options are set when we instantiate the `TileStager` class. "
   ]
  },
  {
   "cell_type": "code",
   "execution_count": null,
   "metadata": {},
   "outputs": [],
   "source": [
    "# Set some options for tiling\n",
    "iwp_config = {\n",
    "    # The directory and file type of the input vector data the we want to stage\n",
    "    'dir_input': 'example-data',\n",
    "    'ext_input': '.gpkg',\n",
    "    # The path to the directory where we want the output tiles to be saved\n",
    "    # (this will be created if it doesn't exist)\n",
    "    'dir_staged': 'staged',\n",
    "    # Set simplify_tolerance to None to disable polygon simplification (not needed)\n",
    "    'simplify_tolerance': None\n",
    "}\n",
    "\n",
    "# Create an instance of the TileStager class, which we can use to \n",
    "iwp_stager = TileStager(iwp_config)"
   ]
  },
  {
   "cell_type": "markdown",
   "metadata": {},
   "source": [
    "Once instantiated, The TileStager class contains an instance of a `pdgstaging.ConfigManager` class, and a `pdgstaging.TilePathManager` class.\n",
    "\n",
    "An instance of the ConfigManager class is stored as the `config` attribute of the TileStager. The documentation for the ConfigManager gives details about all the configuration options that can be set."
   ]
  },
  {
   "cell_type": "code",
   "execution_count": null,
   "metadata": {},
   "outputs": [],
   "source": [
    "help(iwp_stager.config)"
   ]
  },
  {
   "cell_type": "code",
   "execution_count": null,
   "metadata": {},
   "outputs": [],
   "source": [
    "# To see the default configuration options, use:\n",
    "iwp_stager.config.defaults"
   ]
  },
  {
   "cell_type": "markdown",
   "metadata": {},
   "source": [
    "Information about the TMS (Tile Matrix Set) we will use, and methods dealing with paths and tiles are managed using an instance of the `TilePathManager` class, available in the stager as the `tiles` attribute."
   ]
  },
  {
   "cell_type": "code",
   "execution_count": null,
   "metadata": {},
   "outputs": [],
   "source": [
    "help(iwp_stager.tiles)"
   ]
  },
  {
   "cell_type": "markdown",
   "metadata": {},
   "source": [
    "## The Data"
   ]
  },
  {
   "cell_type": "code",
   "execution_count": null,
   "metadata": {},
   "outputs": [],
   "source": [
    "# Here is a list of all the files we want to stage:\n",
    "files_to_stage = iwp_stager.tiles.get_filenames_from_dir('input')\n",
    "num_files_to_stage = len(files_to_stage)\n",
    "file_sizes = [os.path.getsize(f) for f in files_to_stage]\n",
    "size_files_to_stage = round(sum(file_sizes) / 1024 / 1024 / 1024, 2)\n",
    "min_file_size = round(min(file_sizes) / 1024 / 1024 / 1024, 2)\n",
    "max_file_size = round(max(file_sizes) / 1024 / 1024 / 1024, 2)\n",
    "print(f'There are {num_files_to_stage} vector files to stage, totalling {size_files_to_stage} GB.'\n",
    "        f'\\nThe smallest file is {min_file_size} GB, and the largest file is {max_file_size} GB.')"
   ]
  },
  {
   "cell_type": "code",
   "execution_count": null,
   "metadata": {},
   "outputs": [],
   "source": [
    "# Reading in and plotting just one of these files is slow\n",
    "example_file = files_to_stage[0]\n",
    "start_time = datetime.now()\n",
    "gdf = gpd.read_file(example_file)\n",
    "gdf.plot()\n",
    "plt.tight_layout()\n",
    "plt.show()\n",
    "num_polygons = len(gdf.geometry)\n",
    "end_time = datetime.now()\n",
    "total_time = round((end_time - start_time).total_seconds(), 1)\n",
    "print(f'It took {total_time} seconds to read in and plot the'\n",
    "      f' first file, with {num_polygons} polygons.')"
   ]
  },
  {
   "cell_type": "markdown",
   "metadata": {},
   "source": [
    "## Staging one file"
   ]
  },
  {
   "cell_type": "code",
   "execution_count": null,
   "metadata": {},
   "outputs": [],
   "source": [
    "# We can stage just one file with the stage method\n",
    "start_time = datetime.now()\n",
    "iwp_stager.stage(example_file)\n",
    "end_time = datetime.now()\n",
    "total_time = round((end_time - start_time).total_seconds(), 2)\n",
    "staged_files = iwp_stager.tiles.get_filenames_from_dir('staged')\n",
    "print(f'It took {total_time} seconds to stage the first file,'\n",
    "        f' resulting in {len(staged_files)} tiled vector files.')"
   ]
  },
  {
   "cell_type": "code",
   "execution_count": null,
   "metadata": {},
   "outputs": [],
   "source": [
    "# Lets plot each of the new vector tiles we just created. Each with a different color.\n",
    "# We can use the get_filenames_from_dir method to get a list of all the files we just staged.\n",
    "def random_hex_color():\n",
    "    return '#%06x' % random.randint(0, 0xFFFFFF)\n",
    "\n",
    "ax = None\n",
    "for tile in staged_files:\n",
    "    gdf = gpd.read_file(tile)\n",
    "    if ax is None:\n",
    "        ax = gdf.plot(color=random_hex_color())\n",
    "    else:\n",
    "        gdf.plot(ax=ax, color=random_hex_color())\n",
    "\n",
    "plt.show()"
   ]
  },
  {
   "cell_type": "code",
   "execution_count": null,
   "metadata": {},
   "outputs": [],
   "source": [
    "# We can roughly guess how long it would take to stage all the files consecutively with the stage_all.method\n",
    "est_time_all_files = round((total_time * num_files_to_stage) / 60, 1)\n",
    "print(f'It would take about {est_time_all_files} minutes to stage all {num_files_to_stage} files consecutively.')"
   ]
  },
  {
   "cell_type": "code",
   "execution_count": null,
   "metadata": {},
   "outputs": [],
   "source": [
    "# Instead, we can stage all the files in parallel.\n",
    "# First, remove the files we already have staged, including the CSV file that summarizes the staging process.\n",
    "# (otherwise, the same polygons will be appended to the file when we stage it again)\n",
    "os.system(f'rm -rf {iwp_stager.config.get(\"dir_staged\")}')\n",
    "os.system(f'rm {iwp_stager.config.get(\"filename_staging_summary\")}')"
   ]
  },
  {
   "cell_type": "markdown",
   "metadata": {},
   "source": [
    "## Stage all the input files in parallel"
   ]
  },
  {
   "cell_type": "code",
   "execution_count": null,
   "metadata": {},
   "outputs": [],
   "source": [
    "# Set up Parsl\n",
    "# TODO: Jeanette - not sure how to set up Parsl for the course. This is what I'm using on the datateam server...\n",
    "activate_conda = 'source /home/sjclark/miniconda3/bin/activate scale_comp'\n",
    "htex_local = Config(\n",
    "    executors=[\n",
    "        HighThroughputExecutor(\n",
    "            label=\"htex_local\",\n",
    "            worker_debug=False,\n",
    "            cores_per_worker=1,\n",
    "            max_workers=26,\n",
    "            provider=LocalProvider(\n",
    "                channel=LocalChannel(),\n",
    "                init_blocks=1,\n",
    "                max_blocks=20,\n",
    "                worker_init=activate_conda\n",
    "            )\n",
    "        )\n",
    "    ],\n",
    ")\n",
    "parsl.clear()\n",
    "parsl.load(htex_local)"
   ]
  },
  {
   "cell_type": "code",
   "execution_count": null,
   "metadata": {},
   "outputs": [],
   "source": [
    "# Let's also set up logging so we can see what's going on\n",
    "logging.basicConfig(level=logging.INFO)"
   ]
  },
  {
   "cell_type": "code",
   "execution_count": null,
   "metadata": {},
   "outputs": [],
   "source": [
    "# Make a Parsl app that uses the stage method\n",
    "@python_app\n",
    "def stage_file(path, config):\n",
    "    import logging\n",
    "    from pdgstaging import TileStager\n",
    "    logging.basicConfig(level=logging.INFO)\n",
    "    stager = TileStager(config)\n",
    "    stager.stage(path)\n",
    "    return path"
   ]
  },
  {
   "cell_type": "code",
   "execution_count": null,
   "metadata": {},
   "outputs": [],
   "source": [
    "start_time = datetime.now()\n",
    "\n",
    "app_futures = []\n",
    "for path in files_to_stage:\n",
    "    app_future = stage_file(path, iwp_config)\n",
    "    app_futures.append(app_future)\n",
    "\n",
    "# By getting the `result()` of each app future, this block won't continue to the print statement until all the files are staged.\n",
    "done = [app_future.result() for app_future in app_futures]\n",
    "end_time = datetime.now()\n",
    "total_minutes = round(((end_time - start_time).total_seconds() / 60), 2)\n",
    "print(f'🎉🎉🎉 Finished staging {len(files_to_stage)} files in {total_minutes} minutes.')\n",
    "\n",
    "htex_local.executors[0].shutdown()\n",
    "parsl.clear()\n"
   ]
  },
  {
   "cell_type": "markdown",
   "metadata": {},
   "source": [
    "## Plot the results"
   ]
  },
  {
   "cell_type": "code",
   "execution_count": 25,
   "metadata": {},
   "outputs": [
    {
     "data": {
      "text/html": [
       "<div>\n",
       "<style scoped>\n",
       "    .dataframe tbody tr th:only-of-type {\n",
       "        vertical-align: middle;\n",
       "    }\n",
       "\n",
       "    .dataframe tbody tr th {\n",
       "        vertical-align: top;\n",
       "    }\n",
       "\n",
       "    .dataframe thead th {\n",
       "        text-align: right;\n",
       "    }\n",
       "</style>\n",
       "<table border=\"1\" class=\"dataframe\">\n",
       "  <thead>\n",
       "    <tr style=\"text-align: right;\">\n",
       "      <th></th>\n",
       "      <th>filename</th>\n",
       "      <th>num_polygons</th>\n",
       "      <th>area_polygons</th>\n",
       "      <th>datetime</th>\n",
       "      <th>tile_x</th>\n",
       "      <th>tile_y</th>\n",
       "      <th>tile_z</th>\n",
       "      <th>tile_top</th>\n",
       "      <th>tile_right</th>\n",
       "      <th>tile_bottom</th>\n",
       "      <th>tile_left</th>\n",
       "      <th>tms_identifier</th>\n",
       "    </tr>\n",
       "  </thead>\n",
       "  <tbody>\n",
       "    <tr>\n",
       "      <th>0</th>\n",
       "      <td>GE01_20180907225323_1050010012146100_18SEP0722...</td>\n",
       "      <td>1</td>\n",
       "      <td>2.620270e-08</td>\n",
       "      <td>2022-07-20 13:29:26.053499</td>\n",
       "      <td>909</td>\n",
       "      <td>1059</td>\n",
       "      <td>13</td>\n",
       "      <td>66.730957</td>\n",
       "      <td>-160.004883</td>\n",
       "      <td>66.708984</td>\n",
       "      <td>-160.026855</td>\n",
       "      <td>WorldCRS84Quad</td>\n",
       "    </tr>\n",
       "    <tr>\n",
       "      <th>1</th>\n",
       "      <td>GE01_20180907225323_1050010012146100_18SEP0722...</td>\n",
       "      <td>9</td>\n",
       "      <td>6.370861e-07</td>\n",
       "      <td>2022-07-20 13:29:26.185821</td>\n",
       "      <td>909</td>\n",
       "      <td>1060</td>\n",
       "      <td>13</td>\n",
       "      <td>66.708984</td>\n",
       "      <td>-160.004883</td>\n",
       "      <td>66.687012</td>\n",
       "      <td>-160.026855</td>\n",
       "      <td>WorldCRS84Quad</td>\n",
       "    </tr>\n",
       "    <tr>\n",
       "      <th>2</th>\n",
       "      <td>GE01_20180907225323_1050010012146100_18SEP0722...</td>\n",
       "      <td>19</td>\n",
       "      <td>1.208546e-06</td>\n",
       "      <td>2022-07-20 13:29:26.250953</td>\n",
       "      <td>909</td>\n",
       "      <td>1061</td>\n",
       "      <td>13</td>\n",
       "      <td>66.687012</td>\n",
       "      <td>-160.004883</td>\n",
       "      <td>66.665039</td>\n",
       "      <td>-160.026855</td>\n",
       "      <td>WorldCRS84Quad</td>\n",
       "    </tr>\n",
       "    <tr>\n",
       "      <th>3</th>\n",
       "      <td>GE01_20180907225323_1050010012146100_18SEP0722...</td>\n",
       "      <td>9</td>\n",
       "      <td>5.847288e-07</td>\n",
       "      <td>2022-07-20 13:29:26.300402</td>\n",
       "      <td>910</td>\n",
       "      <td>1059</td>\n",
       "      <td>13</td>\n",
       "      <td>66.730957</td>\n",
       "      <td>-159.982910</td>\n",
       "      <td>66.708984</td>\n",
       "      <td>-160.004883</td>\n",
       "      <td>WorldCRS84Quad</td>\n",
       "    </tr>\n",
       "    <tr>\n",
       "      <th>4</th>\n",
       "      <td>GE01_20180907225323_1050010012146100_18SEP0722...</td>\n",
       "      <td>1137</td>\n",
       "      <td>6.222961e-05</td>\n",
       "      <td>2022-07-20 13:29:27.117265</td>\n",
       "      <td>910</td>\n",
       "      <td>1060</td>\n",
       "      <td>13</td>\n",
       "      <td>66.708984</td>\n",
       "      <td>-159.982910</td>\n",
       "      <td>66.687012</td>\n",
       "      <td>-160.004883</td>\n",
       "      <td>WorldCRS84Quad</td>\n",
       "    </tr>\n",
       "    <tr>\n",
       "      <th>...</th>\n",
       "      <td>...</td>\n",
       "      <td>...</td>\n",
       "      <td>...</td>\n",
       "      <td>...</td>\n",
       "      <td>...</td>\n",
       "      <td>...</td>\n",
       "      <td>...</td>\n",
       "      <td>...</td>\n",
       "      <td>...</td>\n",
       "      <td>...</td>\n",
       "      <td>...</td>\n",
       "      <td>...</td>\n",
       "    </tr>\n",
       "    <tr>\n",
       "      <th>4094</th>\n",
       "      <td>WV02_20130820230259_1030010026486200_13AUG2023...</td>\n",
       "      <td>569</td>\n",
       "      <td>4.882045e-06</td>\n",
       "      <td>2022-07-20 13:34:45.336993</td>\n",
       "      <td>957</td>\n",
       "      <td>1054</td>\n",
       "      <td>13</td>\n",
       "      <td>66.840820</td>\n",
       "      <td>-158.950195</td>\n",
       "      <td>66.818848</td>\n",
       "      <td>-158.972168</td>\n",
       "      <td>WorldCRS84Quad</td>\n",
       "    </tr>\n",
       "    <tr>\n",
       "      <th>4095</th>\n",
       "      <td>WV02_20130820230259_1030010026486200_13AUG2023...</td>\n",
       "      <td>2258</td>\n",
       "      <td>2.945750e-05</td>\n",
       "      <td>2022-07-20 13:34:46.598086</td>\n",
       "      <td>957</td>\n",
       "      <td>1055</td>\n",
       "      <td>13</td>\n",
       "      <td>66.818848</td>\n",
       "      <td>-158.950195</td>\n",
       "      <td>66.796875</td>\n",
       "      <td>-158.972168</td>\n",
       "      <td>WorldCRS84Quad</td>\n",
       "    </tr>\n",
       "    <tr>\n",
       "      <th>4096</th>\n",
       "      <td>WV02_20130820230259_1030010026486200_13AUG2023...</td>\n",
       "      <td>8</td>\n",
       "      <td>2.634584e-07</td>\n",
       "      <td>2022-07-20 13:34:46.699960</td>\n",
       "      <td>957</td>\n",
       "      <td>1056</td>\n",
       "      <td>13</td>\n",
       "      <td>66.796875</td>\n",
       "      <td>-158.950195</td>\n",
       "      <td>66.774902</td>\n",
       "      <td>-158.972168</td>\n",
       "      <td>WorldCRS84Quad</td>\n",
       "    </tr>\n",
       "    <tr>\n",
       "      <th>4097</th>\n",
       "      <td>WV02_20130820230259_1030010026486200_13AUG2023...</td>\n",
       "      <td>8</td>\n",
       "      <td>1.770936e-07</td>\n",
       "      <td>2022-07-20 13:34:46.801739</td>\n",
       "      <td>958</td>\n",
       "      <td>1054</td>\n",
       "      <td>13</td>\n",
       "      <td>66.840820</td>\n",
       "      <td>-158.928223</td>\n",
       "      <td>66.818848</td>\n",
       "      <td>-158.950195</td>\n",
       "      <td>WorldCRS84Quad</td>\n",
       "    </tr>\n",
       "    <tr>\n",
       "      <th>4098</th>\n",
       "      <td>WV02_20130820230259_1030010026486200_13AUG2023...</td>\n",
       "      <td>25</td>\n",
       "      <td>4.839181e-07</td>\n",
       "      <td>2022-07-20 13:34:47.130312</td>\n",
       "      <td>958</td>\n",
       "      <td>1055</td>\n",
       "      <td>13</td>\n",
       "      <td>66.818848</td>\n",
       "      <td>-158.928223</td>\n",
       "      <td>66.796875</td>\n",
       "      <td>-158.950195</td>\n",
       "      <td>WorldCRS84Quad</td>\n",
       "    </tr>\n",
       "  </tbody>\n",
       "</table>\n",
       "<p>4099 rows × 12 columns</p>\n",
       "</div>"
      ],
      "text/plain": [
       "                                               filename  num_polygons  \\\n",
       "0     GE01_20180907225323_1050010012146100_18SEP0722...             1   \n",
       "1     GE01_20180907225323_1050010012146100_18SEP0722...             9   \n",
       "2     GE01_20180907225323_1050010012146100_18SEP0722...            19   \n",
       "3     GE01_20180907225323_1050010012146100_18SEP0722...             9   \n",
       "4     GE01_20180907225323_1050010012146100_18SEP0722...          1137   \n",
       "...                                                 ...           ...   \n",
       "4094  WV02_20130820230259_1030010026486200_13AUG2023...           569   \n",
       "4095  WV02_20130820230259_1030010026486200_13AUG2023...          2258   \n",
       "4096  WV02_20130820230259_1030010026486200_13AUG2023...             8   \n",
       "4097  WV02_20130820230259_1030010026486200_13AUG2023...             8   \n",
       "4098  WV02_20130820230259_1030010026486200_13AUG2023...            25   \n",
       "\n",
       "      area_polygons                    datetime  tile_x  tile_y  tile_z  \\\n",
       "0      2.620270e-08  2022-07-20 13:29:26.053499     909    1059      13   \n",
       "1      6.370861e-07  2022-07-20 13:29:26.185821     909    1060      13   \n",
       "2      1.208546e-06  2022-07-20 13:29:26.250953     909    1061      13   \n",
       "3      5.847288e-07  2022-07-20 13:29:26.300402     910    1059      13   \n",
       "4      6.222961e-05  2022-07-20 13:29:27.117265     910    1060      13   \n",
       "...             ...                         ...     ...     ...     ...   \n",
       "4094   4.882045e-06  2022-07-20 13:34:45.336993     957    1054      13   \n",
       "4095   2.945750e-05  2022-07-20 13:34:46.598086     957    1055      13   \n",
       "4096   2.634584e-07  2022-07-20 13:34:46.699960     957    1056      13   \n",
       "4097   1.770936e-07  2022-07-20 13:34:46.801739     958    1054      13   \n",
       "4098   4.839181e-07  2022-07-20 13:34:47.130312     958    1055      13   \n",
       "\n",
       "       tile_top  tile_right  tile_bottom   tile_left  tms_identifier  \n",
       "0     66.730957 -160.004883    66.708984 -160.026855  WorldCRS84Quad  \n",
       "1     66.708984 -160.004883    66.687012 -160.026855  WorldCRS84Quad  \n",
       "2     66.687012 -160.004883    66.665039 -160.026855  WorldCRS84Quad  \n",
       "3     66.730957 -159.982910    66.708984 -160.004883  WorldCRS84Quad  \n",
       "4     66.708984 -159.982910    66.687012 -160.004883  WorldCRS84Quad  \n",
       "...         ...         ...          ...         ...             ...  \n",
       "4094  66.840820 -158.950195    66.818848 -158.972168  WorldCRS84Quad  \n",
       "4095  66.818848 -158.950195    66.796875 -158.972168  WorldCRS84Quad  \n",
       "4096  66.796875 -158.950195    66.774902 -158.972168  WorldCRS84Quad  \n",
       "4097  66.840820 -158.928223    66.818848 -158.950195  WorldCRS84Quad  \n",
       "4098  66.818848 -158.928223    66.796875 -158.950195  WorldCRS84Quad  \n",
       "\n",
       "[4099 rows x 12 columns]"
      ]
     },
     "execution_count": 25,
     "metadata": {},
     "output_type": "execute_result"
    }
   ],
   "source": [
    "# It would take ages to plot all of the tiles we created, but we can plot the\n",
    "# boundaries of each tile. This information is stored in the staging summary\n",
    "# csv that the tiler created.\n",
    "summary_path = iwp_stager.config.get(\"filename_staging_summary\")\n",
    "summary = pd.read_csv(summary_path)\n",
    "summary"
   ]
  },
  {
   "cell_type": "code",
   "execution_count": 26,
   "metadata": {},
   "outputs": [
    {
     "data": {
      "text/html": [
       "<div>\n",
       "<style scoped>\n",
       "    .dataframe tbody tr th:only-of-type {\n",
       "        vertical-align: middle;\n",
       "    }\n",
       "\n",
       "    .dataframe tbody tr th {\n",
       "        vertical-align: top;\n",
       "    }\n",
       "\n",
       "    .dataframe thead th {\n",
       "        text-align: right;\n",
       "    }\n",
       "</style>\n",
       "<table border=\"1\" class=\"dataframe\">\n",
       "  <thead>\n",
       "    <tr style=\"text-align: right;\">\n",
       "      <th></th>\n",
       "      <th>tile_x</th>\n",
       "      <th>tile_y</th>\n",
       "      <th>tile_z</th>\n",
       "      <th>num_polygons</th>\n",
       "      <th>area_polygons</th>\n",
       "      <th>filename</th>\n",
       "      <th>geometry</th>\n",
       "    </tr>\n",
       "  </thead>\n",
       "  <tbody>\n",
       "    <tr>\n",
       "      <th>0</th>\n",
       "      <td>891</td>\n",
       "      <td>1052</td>\n",
       "      <td>13</td>\n",
       "      <td>11</td>\n",
       "      <td>3.269851e-07</td>\n",
       "      <td>1</td>\n",
       "      <td>POLYGON ((-160.40039 66.86279, -160.40039 66.8...</td>\n",
       "    </tr>\n",
       "    <tr>\n",
       "      <th>1</th>\n",
       "      <td>892</td>\n",
       "      <td>1051</td>\n",
       "      <td>13</td>\n",
       "      <td>5</td>\n",
       "      <td>1.350973e-07</td>\n",
       "      <td>1</td>\n",
       "      <td>POLYGON ((-160.37842 66.88477, -160.37842 66.9...</td>\n",
       "    </tr>\n",
       "    <tr>\n",
       "      <th>2</th>\n",
       "      <td>892</td>\n",
       "      <td>1052</td>\n",
       "      <td>13</td>\n",
       "      <td>1069</td>\n",
       "      <td>2.997467e-05</td>\n",
       "      <td>1</td>\n",
       "      <td>POLYGON ((-160.37842 66.86279, -160.37842 66.8...</td>\n",
       "    </tr>\n",
       "    <tr>\n",
       "      <th>3</th>\n",
       "      <td>892</td>\n",
       "      <td>1053</td>\n",
       "      <td>13</td>\n",
       "      <td>312</td>\n",
       "      <td>1.154277e-05</td>\n",
       "      <td>1</td>\n",
       "      <td>POLYGON ((-160.37842 66.84082, -160.37842 66.8...</td>\n",
       "    </tr>\n",
       "    <tr>\n",
       "      <th>4</th>\n",
       "      <td>892</td>\n",
       "      <td>1054</td>\n",
       "      <td>13</td>\n",
       "      <td>624</td>\n",
       "      <td>1.945030e-05</td>\n",
       "      <td>1</td>\n",
       "      <td>POLYGON ((-160.37842 66.81885, -160.37842 66.8...</td>\n",
       "    </tr>\n",
       "    <tr>\n",
       "      <th>...</th>\n",
       "      <td>...</td>\n",
       "      <td>...</td>\n",
       "      <td>...</td>\n",
       "      <td>...</td>\n",
       "      <td>...</td>\n",
       "      <td>...</td>\n",
       "      <td>...</td>\n",
       "    </tr>\n",
       "    <tr>\n",
       "      <th>2244</th>\n",
       "      <td>966</td>\n",
       "      <td>1082</td>\n",
       "      <td>13</td>\n",
       "      <td>501</td>\n",
       "      <td>9.348094e-06</td>\n",
       "      <td>1</td>\n",
       "      <td>POLYGON ((-158.75244 66.20361, -158.75244 66.2...</td>\n",
       "    </tr>\n",
       "    <tr>\n",
       "      <th>2245</th>\n",
       "      <td>966</td>\n",
       "      <td>1083</td>\n",
       "      <td>13</td>\n",
       "      <td>502</td>\n",
       "      <td>9.521898e-06</td>\n",
       "      <td>1</td>\n",
       "      <td>POLYGON ((-158.75244 66.18164, -158.75244 66.2...</td>\n",
       "    </tr>\n",
       "    <tr>\n",
       "      <th>2246</th>\n",
       "      <td>966</td>\n",
       "      <td>1084</td>\n",
       "      <td>13</td>\n",
       "      <td>147</td>\n",
       "      <td>3.556369e-06</td>\n",
       "      <td>1</td>\n",
       "      <td>POLYGON ((-158.75244 66.15967, -158.75244 66.1...</td>\n",
       "    </tr>\n",
       "    <tr>\n",
       "      <th>2247</th>\n",
       "      <td>967</td>\n",
       "      <td>1078</td>\n",
       "      <td>13</td>\n",
       "      <td>92</td>\n",
       "      <td>2.272667e-06</td>\n",
       "      <td>1</td>\n",
       "      <td>POLYGON ((-158.73047 66.29150, -158.73047 66.3...</td>\n",
       "    </tr>\n",
       "    <tr>\n",
       "      <th>2248</th>\n",
       "      <td>967</td>\n",
       "      <td>1079</td>\n",
       "      <td>13</td>\n",
       "      <td>20</td>\n",
       "      <td>7.434486e-07</td>\n",
       "      <td>1</td>\n",
       "      <td>POLYGON ((-158.73047 66.26953, -158.73047 66.2...</td>\n",
       "    </tr>\n",
       "  </tbody>\n",
       "</table>\n",
       "<p>2249 rows × 7 columns</p>\n",
       "</div>"
      ],
      "text/plain": [
       "      tile_x  tile_y  tile_z  num_polygons  area_polygons  filename  \\\n",
       "0        891    1052      13            11   3.269851e-07         1   \n",
       "1        892    1051      13             5   1.350973e-07         1   \n",
       "2        892    1052      13          1069   2.997467e-05         1   \n",
       "3        892    1053      13           312   1.154277e-05         1   \n",
       "4        892    1054      13           624   1.945030e-05         1   \n",
       "...      ...     ...     ...           ...            ...       ...   \n",
       "2244     966    1082      13           501   9.348094e-06         1   \n",
       "2245     966    1083      13           502   9.521898e-06         1   \n",
       "2246     966    1084      13           147   3.556369e-06         1   \n",
       "2247     967    1078      13            92   2.272667e-06         1   \n",
       "2248     967    1079      13            20   7.434486e-07         1   \n",
       "\n",
       "                                               geometry  \n",
       "0     POLYGON ((-160.40039 66.86279, -160.40039 66.8...  \n",
       "1     POLYGON ((-160.37842 66.88477, -160.37842 66.9...  \n",
       "2     POLYGON ((-160.37842 66.86279, -160.37842 66.8...  \n",
       "3     POLYGON ((-160.37842 66.84082, -160.37842 66.8...  \n",
       "4     POLYGON ((-160.37842 66.81885, -160.37842 66.8...  \n",
       "...                                                 ...  \n",
       "2244  POLYGON ((-158.75244 66.20361, -158.75244 66.2...  \n",
       "2245  POLYGON ((-158.75244 66.18164, -158.75244 66.2...  \n",
       "2246  POLYGON ((-158.75244 66.15967, -158.75244 66.1...  \n",
       "2247  POLYGON ((-158.73047 66.29150, -158.73047 66.3...  \n",
       "2248  POLYGON ((-158.73047 66.26953, -158.73047 66.2...  \n",
       "\n",
       "[2249 rows x 7 columns]"
      ]
     },
     "execution_count": 26,
     "metadata": {},
     "output_type": "execute_result"
    }
   ],
   "source": [
    "tile_summary = summary.groupby(['tile_x','tile_y', 'tile_z'], as_index=False).agg({\n",
    "    # the total number and area of polygons in each tile\n",
    "    'num_polygons':'sum',\n",
    "    'area_polygons':'sum',\n",
    "    # the count of source files that contributed polygons to each tile\n",
    "    'filename': 'nunique',\n",
    "    # tile boundaries will all be the same, so we can just take the first one\n",
    "    'tile_top': 'first',\n",
    "    'tile_left': 'first',\n",
    "    'tile_bottom': 'first',\n",
    "    'tile_right': 'first'\n",
    "})\n",
    "def tile_row_to_geom(row):\n",
    "    return box(minx=row['tile_left'], miny=row['tile_bottom'], maxx=row['tile_right'], maxy=row['tile_top'])\n",
    "tile_summary['geometry'] = tile_summary.apply(tile_row_to_geom, axis=1)\n",
    "tile_summary.drop(['tile_top', 'tile_left', 'tile_bottom', 'tile_right'], axis=1, inplace=True)\n",
    "tile_summary_gdf = gpd.GeoDataFrame(tile_summary)\n",
    "tile_summary_gdf"
   ]
  },
  {
   "cell_type": "code",
   "execution_count": 27,
   "metadata": {},
   "outputs": [
    {
     "data": {
      "text/plain": [
       "<AxesSubplot:>"
      ]
     },
     "execution_count": 27,
     "metadata": {},
     "output_type": "execute_result"
    },
    {
     "data": {
      "image/png": "[encoded data removed]",
      "text/plain": [
       "<Figure size 1600x1100 with 2 Axes>"
      ]
     },
     "metadata": {
      "needs_background": "light"
     },
     "output_type": "display_data"
    }
   ],
   "source": [
    "# Number of polygons per tile\n",
    "tile_summary_gdf.plot(column='num_polygons', cmap='PuBuGn', edgecolor='#4d4d4f', legend=True)"
   ]
  },
  {
   "cell_type": "code",
   "execution_count": 28,
   "metadata": {},
   "outputs": [
    {
     "data": {
      "text/plain": [
       "<AxesSubplot:>"
      ]
     },
     "execution_count": 28,
     "metadata": {},
     "output_type": "execute_result"
    },
    {
     "data": {
      "image/png": "[encoded data removed]",
      "text/plain": [
       "<Figure size 1600x1100 with 2 Axes>"
      ]
     },
     "metadata": {
      "needs_background": "light"
     },
     "output_type": "display_data"
    }
   ],
   "source": [
    "# Area of each tile covered by polygons\n",
    "tile_summary_gdf.plot(column='area_polygons', cmap='GnBu', edgecolor='#4d4d4f', legend=True)"
   ]
  },
  {
   "cell_type": "code",
   "execution_count": 29,
   "metadata": {},
   "outputs": [
    {
     "data": {
      "text/plain": [
       "<AxesSubplot:>"
      ]
     },
     "execution_count": 29,
     "metadata": {},
     "output_type": "execute_result"
    },
    {
     "data": {
      "image/png": "[encoded data removed]",
      "text/plain": [
       "<Figure size 1600x1100 with 2 Axes>"
      ]
     },
     "metadata": {
      "needs_background": "light"
     },
     "output_type": "display_data"
    }
   ],
   "source": [
    "# Number of source files per tile\n",
    "tile_summary_gdf.plot(column='filename', cmap='YlOrRd', edgecolor='#4d4d4f', legend=True)"
   ]
  },
  {
   "cell_type": "markdown",
   "metadata": {},
   "source": [
    "# See Also:\n",
    "- [pdgstaging GitHub README](https://github.com/PermafrostDiscoveryGateway/viz-staging/tree/develop) - detailed overview\n",
    "- [more documentation](https://github.com/PermafrostDiscoveryGateway/viz-staging/blob/develop/docs/_index.md)"
   ]
  }
 ],
 "metadata": {
  "kernelspec": {
   "display_name": "Python 3.9.12 ('scale_comp')",
   "language": "python",
   "name": "python3"
  },
  "language_info": {
   "codemirror_mode": {
    "name": "ipython",
    "version": 3
   },
   "file_extension": ".py",
   "mimetype": "text/x-python",
   "name": "python",
   "nbconvert_exporter": "python",
   "pygments_lexer": "ipython3",
   "version": "3.9.12"
  },
  "orig_nbformat": 4,
  "vscode": {
   "interpreter": {
    "hash": "a21763f4ffff4c1ef9123c03d72058f6638e1b551ce586e61907b795abc6fa7c"
   }
  }
 },
 "nbformat": 4,
 "nbformat_minor": 2
}
