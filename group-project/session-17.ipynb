{
 "cells": [
  {
   "cell_type": "markdown",
   "metadata": {},
   "source": [
    "# Session 13: Visualization"
   ]
  },
  {
   "cell_type": "code",
   "execution_count": 1,
   "metadata": {},
   "outputs": [],
   "source": [
    "\n",
    "import parsl\n",
    "from parsl import python_app\n",
    "from parsl.config import Config\n",
    "from parsl.channels import LocalChannel\n",
    "from parsl.executors import HighThroughputExecutor\n",
    "from parsl.providers import LocalProvider\n",
    "\n",
    "from ipyleaflet import Map, LocalTileLayer, WMSLayer, projections\n",
    "\n",
    "from grouputils import initialize_rasterizer"
   ]
  },
  {
   "cell_type": "markdown",
   "metadata": {},
   "source": [
    "Interactive plotting is an excellent tool to facilitate data exploration. A very popular tool for creating Interactive maps is [Leaflet](https://leafletjs.com/). Leaflet is a JavaScript library for mapping, which has wrappers in numerous languages including python (`ipyleaflet`).\n",
    "\n",
    "In session 8 and 11, we created tiles at the maximum zoom level (z: 13). If you wanted to display all of this data on an interactive map, like a Leaflet map, it would be extremely slow to load because there is so much of it, and it's at such a high resolution. To show this data in a performant way on a map, we need to create lower resolution tiles, and they need to be in a web-accessible format (most browsers can't render GeoTIFF files, PNG is better.) - [Here is a good explanation](https://www.maptiler.com/google-maps-coordinates-tile-bounds-projection/)\n",
    "\n",
    "Today, we will create web tiles and png images of those tiles at zoom levels from 1 to 13. This way, when we are zoomed out in the interactive map, the lower resolution zoom level 1 is loaded. Only when you zoom in, and the extent is smaller, will higher resolution levels load. This scaling of resolution by zoom level is what allows us to interact with the data in a performant way.\n",
    "\n",
    "First, we'll set up the rasterizer as before."
   ]
  },
  {
   "cell_type": "code",
   "execution_count": 2,
   "metadata": {},
   "outputs": [],
   "source": [
    "iwp_rasterizer = initialize_rasterizer(\"/home/shares/example-pdg-data\")"
   ]
  },
  {
   "cell_type": "markdown",
   "metadata": {},
   "source": [
    "Here are the methods that we will use from the RasterTiler:\n",
    "\n",
    "`parent_geotiffs_from_children`, which takes as an argument the set of tiles (geotiffs) that we produced yesterday, and produces parent tiles at the next zoom level up.\n",
    "\n",
    "`webtiles_from_geotiffs` takes the set of geotiffs produced by `parent_geotiffs_from_children` and creates png webtiles from them.\n",
    "\n",
    "Like the last session, we will run this code in batches."
   ]
  },
  {
   "cell_type": "code",
   "execution_count": 3,
   "metadata": {},
   "outputs": [],
   "source": [
    "# We'll also use the make_batch definition from Session 11 to create batches of\n",
    "# GeoTIFF files to process.\n",
    "def make_batch(items, batch_size):\n",
    "    return [items[i:i + batch_size] for i in range(0, len(items), batch_size)]"
   ]
  },
  {
   "cell_type": "markdown",
   "metadata": {},
   "source": [
    "## Creating parent tiles\n",
    "\n",
    "To create lower resolution GeoTIFF files, we can combine high resolution GeoTIFFs then resample them so that we still have 256x256 pixel data. We will start with zoom level 13 (12 with 0 indexing), and run the `parent_geotiffs_from_children` method on each zoom level to generate the parent zoom level. Then we run it on the parent level to generate the grandparent level...and so on."
   ]
  },
  {
   "cell_type": "code",
   "execution_count": 4,
   "metadata": {},
   "outputs": [
    {
     "name": "stdout",
     "output_type": "stream",
     "text": [
      "Parent Zs: [12, 11, 10, 9, 8, 7, 6, 5, 4, 3, 2, 1]\n"
     ]
    }
   ],
   "source": [
    "# Get each z-level of GeoTIFFs we need to create:\n",
    "parent_zs = list(range(12, 0, -1))\n",
    "print(f'Parent Zs: {parent_zs}')\n"
   ]
  },
  {
   "cell_type": "markdown",
   "metadata": {},
   "source": [
    "Here is an example for how we can run this, without parsl, on a single zoom level."
   ]
  },
  {
   "cell_type": "code",
   "execution_count": 5,
   "metadata": {},
   "outputs": [],
   "source": [
    "parent_z = 12\n",
    "batch_size = 50\n",
    "\n",
    "# get a list of child paths from the parent zoom level\n",
    "child_paths = iwp_rasterizer.tiles.get_filenames_from_dir(\n",
    "    'geotiff',\n",
    "    z=parent_z + 1)\n",
    "\n",
    "# Make a list of all the parent tiles that will be created from the z+1 child\n",
    "# tiles\n",
    "parent_tiles = set()\n",
    "for child_path in child_paths:\n",
    "    parent_tile = iwp_rasterizer.tiles.get_parent_tile(child_path)\n",
    "    parent_tiles.add(parent_tile)\n",
    "parent_tiles = list(parent_tiles)\n",
    "\n",
    "# Break all parent tiles at level z into batches\n",
    "parent_tile_batches = make_batch(parent_tiles, batch_size)\n",
    "\n",
    "\n",
    "for parent_tile_batch in parent_tile_batches:\n",
    "    iwp_rasterizer.parent_geotiffs_from_children(parent_tile_batch)\n"
   ]
  },
  {
   "cell_type": "code",
   "execution_count": null,
   "metadata": {},
   "outputs": [],
   "source": [
    "parent_tile_batches"
   ]
  },
  {
   "cell_type": "markdown",
   "metadata": {},
   "source": [
    "## do the first thing"
   ]
  },
  {
   "cell_type": "markdown",
   "metadata": {},
   "source": [
    "Now that we know how to do this for one zoom level, how would you write this out for all of the levels?\n",
    "\n",
    "In what part of the code would you want to insert a parsl app to parallelize the process? What dependencies exist for this process to run correctly?\n",
    "\n",
    "Once you have those questions answered, write a parsl app to parallelize generating the parent tiles."
   ]
  },
  {
   "cell_type": "code",
   "execution_count": 9,
   "metadata": {},
   "outputs": [],
   "source": [
    "# Generate parsl app for creating parent geotiffs from children\n",
    "@python_app\n",
    "def parent_geotiffs_from_children_parsl(parent_tile_batch, iwp_rasterizer):\n",
    "    return iwp_rasterizer.parent_geotiffs_from_children(parent_tile_batch)"
   ]
  },
  {
   "cell_type": "markdown",
   "metadata": {},
   "source": [
    "Next, set up your executor as we did yesterday."
   ]
  },
  {
   "cell_type": "code",
   "execution_count": 10,
   "metadata": {},
   "outputs": [
    {
     "data": {
      "text/plain": [
       "<parsl.dataflow.dflow.DataFlowKernel at 0x7f5b03f59d90>"
      ]
     },
     "execution_count": 10,
     "metadata": {},
     "output_type": "execute_result"
    }
   ],
   "source": [
    "# Set up Parsl executor\n",
    "activate_env = 'workon scomp'\n",
    "htex_local = Config(\n",
    "    executors=[\n",
    "        HighThroughputExecutor(\n",
    "            max_workers=32,\n",
    "            provider=LocalProvider(\n",
    "                worker_init=activate_env\n",
    "            )\n",
    "        )\n",
    "    ],\n",
    ")\n",
    "parsl.clear()\n",
    "parsl.load(htex_local)"
   ]
  },
  {
   "cell_type": "markdown",
   "metadata": {},
   "source": [
    "Then generate parent tiles at all zoom levels. Don't forget to shut down your executor!"
   ]
  },
  {
   "cell_type": "code",
   "execution_count": 11,
   "metadata": {},
   "outputs": [],
   "source": [
    "# generate parent tiles at all zoom levels using the parsl app\n",
    "\n",
    "batch_size = 200\n",
    "\n",
    "for parent_z in parent_zs: \n",
    "    # get a list of child paths from the parent zoom level\n",
    "    child_paths = iwp_rasterizer.tiles.get_filenames_from_dir(\n",
    "        'geotiff',\n",
    "        z=parent_z + 1)\n",
    "\n",
    "    # Make a list of all the parent tiles that will be created from the z+1 child\n",
    "    # tiles\n",
    "    parent_tiles = set()\n",
    "    for child_path in child_paths:\n",
    "        parent_tile = iwp_rasterizer.tiles.get_parent_tile(child_path)\n",
    "        parent_tiles.add(parent_tile)\n",
    "    parent_tiles = list(parent_tiles)\n",
    "\n",
    "    # Break all parent tiles at level z into batches\n",
    "    parent_tile_batches = make_batch(parent_tiles, batch_size)\n",
    "\n",
    "    app_futures = []\n",
    "    for parent_tile_batch in parent_tile_batches:\n",
    "        app_future = parent_geotiffs_from_children_parsl(parent_tile_batch, iwp_rasterizer)\n",
    "        app_futures.append(app_future)\n",
    "\n",
    "    done = [app_future.result() for app_future in app_futures]\n",
    "\n",
    "htex_local.executors[0].shutdown()\n",
    "parsl.clear()"
   ]
  },
  {
   "cell_type": "code",
   "execution_count": 13,
   "metadata": {},
   "outputs": [
    {
     "data": {
      "text/plain": [
       "1"
      ]
     },
     "execution_count": 13,
     "metadata": {},
     "output_type": "execute_result"
    }
   ],
   "source": [
    "parent_z"
   ]
  },
  {
   "cell_type": "code",
   "execution_count": 45,
   "metadata": {},
   "outputs": [
    {
     "data": {
      "image/png": "[encoded data removed]",
      "text/plain": [
       "<Figure size 1280x960 with 4 Axes>"
      ]
     },
     "metadata": {},
     "output_type": "display_data"
    }
   ],
   "source": [
    "import rasterio\n",
    "import matplotlib.pyplot as plt\n",
    "from rasterio import plot\n",
    "from mpl_toolkits.axes_grid1.axes_divider import make_axes_locatable\n",
    "\n",
    "with rasterio.open('/home/vecchio/scalable-computing-examples/group-project/geotiff/WorldCRS84Quad/6/6/8.tif') as src:\n",
    "    fig, ax = plt.subplots(1, 2, dpi=200)\n",
    "    im0 = ax[0].imshow(src.read(1))\n",
    "    im = rasterio.plot.show(src.read(1), ax=ax[0])\n",
    "    divider = make_axes_locatable(ax[0])\n",
    "    cax1 = divider.append_axes(\"right\", size=\"5%\", pad=\"10%\")\n",
    "    cb = fig.colorbar(im0, cax=cax1, orientation='vertical')\n",
    "\n",
    "    im2 = ax[1].imshow(src.read(2))\n",
    "    im3 = rasterio.plot.show(src.read(2), ax=ax[1])\n",
    "    divider = make_axes_locatable(ax[1])\n",
    "    cax2 = divider.append_axes(\"right\", size=\"5%\", pad=\"10%\")\n",
    "    cb = fig.colorbar(im2, cax=cax2, orientation='vertical')\n",
    "\n",
    "    fig.tight_layout()\n",
    "\n",
    "\n",
    "    #plt.imshow(src)"
   ]
  },
  {
   "cell_type": "markdown",
   "metadata": {},
   "source": [
    "# Make webtiles\n",
    "\n",
    "In the last step to create the webtiles for the map, we will use the `webtiles_from_geotiffs` method on all of the geotiffs we just created. First, we need to update our `iwp_rasterizer` config object using the `update_ranges` method, which will add the new zoom ranges we just created to the config information."
   ]
  },
  {
   "cell_type": "code",
   "execution_count": 5,
   "metadata": {},
   "outputs": [],
   "source": [
    "iwp_rasterizer.update_ranges()"
   ]
  },
  {
   "cell_type": "markdown",
   "metadata": {},
   "source": [
    "Now we can get a list of files to create webtiles from, and run the `webtiles_from_geotiffs` over one."
   ]
  },
  {
   "cell_type": "code",
   "execution_count": 6,
   "metadata": {},
   "outputs": [
    {
     "data": {
      "text/plain": [
       "Tile(x=953, y=1081, z=13)"
      ]
     },
     "execution_count": 6,
     "metadata": {},
     "output_type": "execute_result"
    }
   ],
   "source": [
    "geotiff_paths = iwp_rasterizer.tiles.get_filenames_from_dir('geotiff')\n",
    "iwp_rasterizer.webtile_from_geotiff(geotiff_paths[0])"
   ]
  },
  {
   "cell_type": "code",
   "execution_count": 80,
   "metadata": {},
   "outputs": [
    {
     "data": {
      "text/plain": [
       "morecantile.commons.Tile"
      ]
     },
     "execution_count": 80,
     "metadata": {},
     "output_type": "execute_result"
    }
   ],
   "source": [
    "type(iwp_rasterizer.webtile_from_geotiff(geotiff_paths[0]))"
   ]
  },
  {
   "cell_type": "code",
   "execution_count": 61,
   "metadata": {},
   "outputs": [
    {
     "data": {
      "text/plain": [
       "3139"
      ]
     },
     "execution_count": 61,
     "metadata": {},
     "output_type": "execute_result"
    }
   ],
   "source": [
    "len(geotiff_paths)"
   ]
  },
  {
   "cell_type": "markdown",
   "metadata": {},
   "source": [
    "Like we've done before, create a parsl app to create the webtiles in parallel. Since this process is incredibly fast, run it over batches of 200."
   ]
  },
  {
   "cell_type": "code",
   "execution_count": 7,
   "metadata": {},
   "outputs": [],
   "source": [
    "# create parsl app\n",
    "# @python_app\n",
    "# def create_web_tiles(geotiff_paths, rasterizer):\n",
    "#     return rasterizer.webtiles_from_geotiffs(\n",
    "#         geotiff_paths,\n",
    "#          update_ranges=False,\n",
    "#           recursive=False\n",
    "#     )\n",
    "\n",
    "# create parsl app\n",
    "@python_app\n",
    "def create_web_tiles(geotiff_paths, rasterizer):\n",
    "    return rasterizer.webtiles_from_geotiffs(\n",
    "        geotiff_paths, update_ranges=False)"
   ]
  },
  {
   "cell_type": "code",
   "execution_count": 8,
   "metadata": {},
   "outputs": [
    {
     "data": {
      "text/plain": [
       "<parsl.dataflow.dflow.DataFlowKernel at 0x7f09cc8feeb0>"
      ]
     },
     "execution_count": 8,
     "metadata": {},
     "output_type": "execute_result"
    }
   ],
   "source": [
    "# Set up Parsl executor\n",
    "activate_env = 'workon scomp'\n",
    "htex_local = Config(\n",
    "    executors=[\n",
    "        HighThroughputExecutor(\n",
    "            max_workers=32,\n",
    "            provider=LocalProvider(\n",
    "                worker_init=activate_env\n",
    "            )\n",
    "        )\n",
    "    ],\n",
    ")\n",
    "parsl.clear()\n",
    "parsl.load(htex_local)"
   ]
  },
  {
   "cell_type": "code",
   "execution_count": 9,
   "metadata": {},
   "outputs": [
    {
     "ename": "AttributeError",
     "evalue": "'list' object has no attribute 'apppend'",
     "output_type": "error",
     "traceback": [
      "\u001b[0;31m---------------------------------------------------------------------------\u001b[0m",
      "\u001b[0;31mAttributeError\u001b[0m                            Traceback (most recent call last)",
      "Cell \u001b[0;32mIn [9], line 10\u001b[0m\n\u001b[1;32m      8\u001b[0m \u001b[38;5;28;01mfor\u001b[39;00m batch \u001b[38;5;129;01min\u001b[39;00m geotiff_batches:\n\u001b[1;32m      9\u001b[0m     app_future \u001b[38;5;241m=\u001b[39m create_web_tiles(batch, iwp_rasterizer)\n\u001b[0;32m---> 10\u001b[0m     \u001b[43mapp_futures\u001b[49m\u001b[38;5;241;43m.\u001b[39;49m\u001b[43mapppend\u001b[49m(app_future)\n\u001b[1;32m     12\u001b[0m done \u001b[38;5;241m=\u001b[39m [app_future\u001b[38;5;241m.\u001b[39mresult() \u001b[38;5;28;01mfor\u001b[39;00m app_future \u001b[38;5;129;01min\u001b[39;00m app_futures]\n\u001b[1;32m     14\u001b[0m htex_local\u001b[38;5;241m.\u001b[39mexecutors[\u001b[38;5;241m0\u001b[39m]\u001b[38;5;241m.\u001b[39mshutdown()\n",
      "\u001b[0;31mAttributeError\u001b[0m: 'list' object has no attribute 'apppend'"
     ]
    }
   ],
   "source": [
    "# run app over all of the geotiffs in batches of 200\n",
    "batch_size_web_tiles = 200\n",
    "\n",
    "geotiff_batches = make_batch(geotiff_paths, batch_size_web_tiles)\n",
    "\n",
    "app_futures=[]\n",
    "\n",
    "for batch in geotiff_batches:\n",
    "    app_future = create_web_tiles(batch, iwp_rasterizer)\n",
    "    app_futures.apppend(app_future)\n",
    "\n",
    "done = [app_future.result() for app_future in app_futures]\n",
    "\n",
    "htex_local.executors[0].shutdown()\n",
    "parsl.clear()"
   ]
  },
  {
   "cell_type": "code",
   "execution_count": 62,
   "metadata": {},
   "outputs": [
    {
     "data": {
      "text/plain": [
       "<AppFuture at 0x7f5ac7c2c070 state=finished raised NameError>"
      ]
     },
     "execution_count": 62,
     "metadata": {},
     "output_type": "execute_result"
    }
   ],
   "source": [
    "app_future"
   ]
  },
  {
   "cell_type": "code",
   "execution_count": 52,
   "metadata": {},
   "outputs": [
    {
     "data": {
      "text/plain": [
       "list"
      ]
     },
     "execution_count": 52,
     "metadata": {},
     "output_type": "execute_result"
    }
   ],
   "source": [
    "type(geotiff_batches)"
   ]
  },
  {
   "cell_type": "markdown",
   "metadata": {},
   "source": [
    "## Make a map!"
   ]
  },
  {
   "cell_type": "markdown",
   "metadata": {},
   "source": [
    "Now we are finally ready to explore these data using `ipyleaflet`. First, we have to set up a basemap layer to use. We use a set of WMS (Web Map Service) tiles provided by USGS. One reason we chose this set is it allows us to reproject the data into EPSG 4326, which is the projection our data are in. Other commonly used web tiles are in web mercator, which is not what our data are in."
   ]
  },
  {
   "cell_type": "code",
   "execution_count": 10,
   "metadata": {},
   "outputs": [],
   "source": [
    "wms = WMSLayer(\n",
    "    url=\"https://basemap.nationalmap.gov:443/arcgis/services/USGSImageryTopo/MapServer/WmsServer\",\n",
    "    layers=\"0\",\n",
    "    format=\"image/png\",\n",
    "    transparent=True,\n",
    "    min_zoom=0,\n",
    "    crs=projections.EPSG4326\n",
    ")"
   ]
  },
  {
   "cell_type": "markdown",
   "metadata": {},
   "source": [
    "Now we can call the `Map` function from `ipyleaflet`, set up a default zoom and center, add the WMS layer and projection, and finally add our set of local tiles using the `add_layer` method. \n",
    "\n",
    "Note that the path you give to the `LocalTileLayer` function has variables for z, x, and y. If you look in the `geotiff` directory at the higher zoom levels, you'll wee that the directories and files are all named very regularly. This is so that they can be automatically handled by the `LocalTileLayer` function, and is a standard for how web tiles are served. The methods from the `rasterizer` class all handled this for us in our data processing."
   ]
  },
  {
   "cell_type": "code",
   "execution_count": 11,
   "metadata": {},
   "outputs": [
    {
     "data": {
      "application/vnd.jupyter.widget-view+json": {
       "model_id": "56ca34f6ee6044c5a9710cb6d050957b",
       "version_major": 2,
       "version_minor": 0
      },
      "text/plain": [
       "Map(center=[66.5, -159.9], controls=(ZoomControl(options=['position', 'zoom_in_text', 'zoom_in_title', 'zoom_o…"
      ]
     },
     "metadata": {},
     "output_type": "display_data"
    }
   ],
   "source": [
    "m = Map(center=(66.5, -159.9),\n",
    "        zoom=9,\n",
    "        layers=(wms,),\n",
    "        crs=projections.EPSG4326)\n",
    "\n",
    "m.add_layer(LocalTileLayer(path='web_tiles/prop_pixel_covered_by_IWP/WorldCRS84Quad/{z}/{x}/{y}.png'));\n",
    "# the x y and z are looking for zoom levles, directory levels etc. \n",
    "m"
   ]
  },
  {
   "cell_type": "markdown",
   "metadata": {},
   "source": [
    "## Bonus\n",
    "\n",
    "Play around with [`ipyleaflet`](https://ipyleaflet.readthedocs.io/en/latest/) and add whatever features you think might be useful, like a legend or markers."
   ]
  }
 ],
 "metadata": {
  "kernelspec": {
   "display_name": "Python 3.9.13 ('scomp')",
   "language": "python",
   "name": "python3"
  },
  "language_info": {
   "codemirror_mode": {
    "name": "ipython",
    "version": 3
   },
   "file_extension": ".py",
   "mimetype": "text/x-python",
   "name": "python",
   "nbconvert_exporter": "python",
   "pygments_lexer": "ipython3",
   "version": "3.9.13"
  },
  "orig_nbformat": 4,
  "vscode": {
   "interpreter": {
    "hash": "3bc86895b5d8569f33588bfbb1475393b4e3b52b49eb441663b259ecef6692f4"
   }
  }
 },
 "nbformat": 4,
 "nbformat_minor": 2
}
